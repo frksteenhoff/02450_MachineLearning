{
 "cells": [
  {
   "cell_type": "markdown",
   "metadata": {},
   "source": [
    "# Week 3"
   ]
  },
  {
   "cell_type": "markdown",
   "metadata": {},
   "source": [
    "## Exercises"
   ]
  },
  {
   "cell_type": "code",
   "execution_count": 75,
   "metadata": {
    "collapsed": true
   },
   "outputs": [],
   "source": [
    "import matplotlib.pyplot as plt\n",
    "%matplotlib inline\n",
    "\n",
    "import numpy as np\n",
    "from scipy.io import loadmat\n",
    "import pandas as pd"
   ]
  },
  {
   "cell_type": "markdown",
   "metadata": {},
   "source": [
    "### Description"
   ]
  },
  {
   "cell_type": "markdown",
   "metadata": {
    "collapsed": true
   },
   "source": [
    "An important area of research in machine learning and data mining is the analysis of\n",
    "text documents. Here, important tasks are to be able to search documents as well as\n",
    "group related documents together (clustering). In order to accomplish these tasks\n",
    "the text documents must be converted into a format suitable for data modeling.\n",
    "We will use the bag of words representation. Here, text documents are stored in a\n",
    "matrix X where xij indicate how many times word j occurred in document i.\n",
    "Suppose that we have 5 text documents [2], each containing just a single sentence.\n",
    "02450 EXERCISE 3 14 February, 2017\n",
    "* Document 1: The Google matrix P is a model of the internet.\n",
    "* Document 2: Pij is nonzero if there is a link from webpage i to j.\n",
    "* Document 3: The Google matrix is used to rank all Web pages.\n",
    "* Document 4: The ranking is done by solving a matrix eigenvalue problem.\n",
    "* Document 5: England dropped out of the top 10 in the FIFA ranking.\n"
   ]
  },
  {
   "cell_type": "markdown",
   "metadata": {
    "collapsed": true
   },
   "source": [
    "### The document term matrix\n",
    "#### 3.1.1\n",
    "**Propose a suitable bag of words representation for these documents. You\n",
    "should choose approximately 10 key words in total defining the columns in\n",
    "the document-term matrix and the words are to be chosen such that each\n",
    "document at least contains 2 of your key words, i.e. the document-term\n",
    "matrix should have approximately 10 columns and each row of the matrix\n",
    "must at least contain 2 non-zero entries**"
   ]
  },
  {
   "cell_type": "markdown",
   "metadata": {
    "collapsed": true
   },
   "source": [
    "Words: Google, matrix, nonzero, link, eigenvalue, rank, solution, eigenvalue, FIFA, England"
   ]
  },
  {
   "cell_type": "markdown",
   "metadata": {
    "collapsed": true
   },
   "source": [
    "#### 3.1.2\n",
    "**In practice, the above procedure is carried out automatically, see the script\n",
    "ex3_1_2.py. You can use a simple class TmgSimple (included in the 02450\n",
    "Toolbox) to generate a document-term matrix and to convert it into the\n",
    "format described in the beginning of the exercise (Representation of data\n",
    "in Python)**"
   ]
  },
  {
   "cell_type": "code",
   "execution_count": 37,
   "metadata": {
    "collapsed": false
   },
   "outputs": [
    {
     "name": "stdout",
     "output_type": "stream",
     "text": [
      "\n",
      "Extracting documents from the file: Data/textDocs.txt\n",
      "\n",
      "Min. term length: 3\n",
      "Max. term length: 30\n",
      "Stemming: False\n",
      "Stopwords: False\n",
      "\n",
      "Processing document 1/5...\n",
      "   Number of terms: 6\n",
      "Processing document 2/5...\n",
      "   Number of terms: 6\n",
      "Processing document 3/5...\n",
      "   Number of terms: 8\n",
      "Processing document 4/5...\n",
      "   Number of terms: 7\n",
      "Processing document 5/5...\n",
      "   Number of terms: 8\n",
      "\n",
      "Number of documents (N):5\n",
      "Number of extracted terms (M):26\n",
      "\n",
      "['all', 'done', 'dropped', 'eigenvalue', 'england', 'fifa', 'from', 'google', 'internet', 'link', 'matrix', 'model', 'nonzero', 'out', 'p_ij', 'pages', 'problem', 'rank', 'ranking', 'solving', 'the', 'there', 'top', 'used', 'web', 'webpage']\n"
     ]
    },
    {
     "data": {
      "text/html": [
       "<div>\n",
       "<table border=\"1\" class=\"dataframe\">\n",
       "  <thead>\n",
       "    <tr style=\"text-align: right;\">\n",
       "      <th></th>\n",
       "      <th>0</th>\n",
       "      <th>1</th>\n",
       "      <th>2</th>\n",
       "      <th>3</th>\n",
       "      <th>4</th>\n",
       "      <th>5</th>\n",
       "      <th>6</th>\n",
       "      <th>7</th>\n",
       "      <th>8</th>\n",
       "      <th>9</th>\n",
       "      <th>...</th>\n",
       "      <th>16</th>\n",
       "      <th>17</th>\n",
       "      <th>18</th>\n",
       "      <th>19</th>\n",
       "      <th>20</th>\n",
       "      <th>21</th>\n",
       "      <th>22</th>\n",
       "      <th>23</th>\n",
       "      <th>24</th>\n",
       "      <th>25</th>\n",
       "    </tr>\n",
       "  </thead>\n",
       "  <tbody>\n",
       "    <tr>\n",
       "      <th>0</th>\n",
       "      <td>0.0</td>\n",
       "      <td>0.0</td>\n",
       "      <td>0.0</td>\n",
       "      <td>0.0</td>\n",
       "      <td>0.0</td>\n",
       "      <td>0.0</td>\n",
       "      <td>0.0</td>\n",
       "      <td>1.0</td>\n",
       "      <td>1.0</td>\n",
       "      <td>0.0</td>\n",
       "      <td>...</td>\n",
       "      <td>0.0</td>\n",
       "      <td>0.0</td>\n",
       "      <td>0.0</td>\n",
       "      <td>0.0</td>\n",
       "      <td>2.0</td>\n",
       "      <td>0.0</td>\n",
       "      <td>0.0</td>\n",
       "      <td>0.0</td>\n",
       "      <td>0.0</td>\n",
       "      <td>0.0</td>\n",
       "    </tr>\n",
       "    <tr>\n",
       "      <th>1</th>\n",
       "      <td>0.0</td>\n",
       "      <td>0.0</td>\n",
       "      <td>0.0</td>\n",
       "      <td>0.0</td>\n",
       "      <td>0.0</td>\n",
       "      <td>0.0</td>\n",
       "      <td>1.0</td>\n",
       "      <td>0.0</td>\n",
       "      <td>0.0</td>\n",
       "      <td>1.0</td>\n",
       "      <td>...</td>\n",
       "      <td>0.0</td>\n",
       "      <td>0.0</td>\n",
       "      <td>0.0</td>\n",
       "      <td>0.0</td>\n",
       "      <td>0.0</td>\n",
       "      <td>1.0</td>\n",
       "      <td>0.0</td>\n",
       "      <td>0.0</td>\n",
       "      <td>0.0</td>\n",
       "      <td>1.0</td>\n",
       "    </tr>\n",
       "    <tr>\n",
       "      <th>2</th>\n",
       "      <td>1.0</td>\n",
       "      <td>0.0</td>\n",
       "      <td>0.0</td>\n",
       "      <td>0.0</td>\n",
       "      <td>0.0</td>\n",
       "      <td>0.0</td>\n",
       "      <td>0.0</td>\n",
       "      <td>1.0</td>\n",
       "      <td>0.0</td>\n",
       "      <td>0.0</td>\n",
       "      <td>...</td>\n",
       "      <td>0.0</td>\n",
       "      <td>1.0</td>\n",
       "      <td>0.0</td>\n",
       "      <td>0.0</td>\n",
       "      <td>1.0</td>\n",
       "      <td>0.0</td>\n",
       "      <td>0.0</td>\n",
       "      <td>1.0</td>\n",
       "      <td>1.0</td>\n",
       "      <td>0.0</td>\n",
       "    </tr>\n",
       "    <tr>\n",
       "      <th>3</th>\n",
       "      <td>0.0</td>\n",
       "      <td>1.0</td>\n",
       "      <td>0.0</td>\n",
       "      <td>1.0</td>\n",
       "      <td>0.0</td>\n",
       "      <td>0.0</td>\n",
       "      <td>0.0</td>\n",
       "      <td>0.0</td>\n",
       "      <td>0.0</td>\n",
       "      <td>0.0</td>\n",
       "      <td>...</td>\n",
       "      <td>1.0</td>\n",
       "      <td>0.0</td>\n",
       "      <td>1.0</td>\n",
       "      <td>1.0</td>\n",
       "      <td>1.0</td>\n",
       "      <td>0.0</td>\n",
       "      <td>0.0</td>\n",
       "      <td>0.0</td>\n",
       "      <td>0.0</td>\n",
       "      <td>0.0</td>\n",
       "    </tr>\n",
       "    <tr>\n",
       "      <th>4</th>\n",
       "      <td>0.0</td>\n",
       "      <td>0.0</td>\n",
       "      <td>1.0</td>\n",
       "      <td>0.0</td>\n",
       "      <td>1.0</td>\n",
       "      <td>1.0</td>\n",
       "      <td>0.0</td>\n",
       "      <td>0.0</td>\n",
       "      <td>0.0</td>\n",
       "      <td>0.0</td>\n",
       "      <td>...</td>\n",
       "      <td>0.0</td>\n",
       "      <td>0.0</td>\n",
       "      <td>1.0</td>\n",
       "      <td>0.0</td>\n",
       "      <td>2.0</td>\n",
       "      <td>0.0</td>\n",
       "      <td>1.0</td>\n",
       "      <td>0.0</td>\n",
       "      <td>0.0</td>\n",
       "      <td>0.0</td>\n",
       "    </tr>\n",
       "  </tbody>\n",
       "</table>\n",
       "<p>5 rows × 26 columns</p>\n",
       "</div>"
      ],
      "text/plain": [
       "    0    1    2    3    4    5    6    7    8    9  ...    16   17   18   19  \\\n",
       "0  0.0  0.0  0.0  0.0  0.0  0.0  0.0  1.0  1.0  0.0 ...   0.0  0.0  0.0  0.0   \n",
       "1  0.0  0.0  0.0  0.0  0.0  0.0  1.0  0.0  0.0  1.0 ...   0.0  0.0  0.0  0.0   \n",
       "2  1.0  0.0  0.0  0.0  0.0  0.0  0.0  1.0  0.0  0.0 ...   0.0  1.0  0.0  0.0   \n",
       "3  0.0  1.0  0.0  1.0  0.0  0.0  0.0  0.0  0.0  0.0 ...   1.0  0.0  1.0  1.0   \n",
       "4  0.0  0.0  1.0  0.0  1.0  1.0  0.0  0.0  0.0  0.0 ...   0.0  0.0  1.0  0.0   \n",
       "\n",
       "    20   21   22   23   24   25  \n",
       "0  2.0  0.0  0.0  0.0  0.0  0.0  \n",
       "1  0.0  1.0  0.0  0.0  0.0  1.0  \n",
       "2  1.0  0.0  0.0  1.0  1.0  0.0  \n",
       "3  1.0  0.0  0.0  0.0  0.0  0.0  \n",
       "4  2.0  0.0  1.0  0.0  0.0  0.0  \n",
       "\n",
       "[5 rows x 26 columns]"
      ]
     },
     "execution_count": 37,
     "metadata": {},
     "output_type": "execute_result"
    }
   ],
   "source": [
    "from tmgsimple import TmgSimple\n",
    "\n",
    "# Generate text matrix with help of simple class TmgSimple\n",
    "tm = TmgSimple(filename='Data/textDocs.txt', )\n",
    "\n",
    "# Extract variables representing data\n",
    "X = tm.get_matrix(sort=True)\n",
    "attributeNames = tm.get_words(sort=True)\n",
    "\n",
    "# Display the result\n",
    "print(attributeNames)\n",
    "pd.DataFrame(X)"
   ]
  },
  {
   "cell_type": "markdown",
   "metadata": {},
   "source": [
    "#### 3.1.3"
   ]
  },
  {
   "cell_type": "code",
   "execution_count": 38,
   "metadata": {
    "collapsed": false
   },
   "outputs": [
    {
     "name": "stdout",
     "output_type": "stream",
     "text": [
      "\n",
      "Extracting documents from the file: Data/textDocs.txt\n",
      "\n",
      "Min. term length: 3\n",
      "Max. term length: 30\n",
      "Stemming: False\n",
      "Stopwords: True\n",
      "\n",
      "Processing document 1/5...\n",
      "   Number of terms: 4\n",
      "Processing document 2/5...\n",
      "   Number of terms: 4\n",
      "Processing document 3/5...\n",
      "   Number of terms: 5\n",
      "Processing document 4/5...\n",
      "   Number of terms: 5\n",
      "Processing document 5/5...\n",
      "   Number of terms: 5\n",
      "\n",
      "Number of documents (N):5\n",
      "Number of extracted terms (M):19\n",
      "\n",
      "['dropped', 'eigenvalue', 'england', 'fifa', 'google', 'internet', 'link', 'matrix', 'model', 'nonzero', 'p_ij', 'pages', 'problem', 'rank', 'ranking', 'solving', 'top', 'web', 'webpage']\n"
     ]
    },
    {
     "data": {
      "text/html": [
       "<div>\n",
       "<table border=\"1\" class=\"dataframe\">\n",
       "  <thead>\n",
       "    <tr style=\"text-align: right;\">\n",
       "      <th></th>\n",
       "      <th>0</th>\n",
       "      <th>1</th>\n",
       "      <th>2</th>\n",
       "      <th>3</th>\n",
       "      <th>4</th>\n",
       "      <th>5</th>\n",
       "      <th>6</th>\n",
       "      <th>7</th>\n",
       "      <th>8</th>\n",
       "      <th>9</th>\n",
       "      <th>10</th>\n",
       "      <th>11</th>\n",
       "      <th>12</th>\n",
       "      <th>13</th>\n",
       "      <th>14</th>\n",
       "      <th>15</th>\n",
       "      <th>16</th>\n",
       "      <th>17</th>\n",
       "      <th>18</th>\n",
       "    </tr>\n",
       "  </thead>\n",
       "  <tbody>\n",
       "    <tr>\n",
       "      <th>0</th>\n",
       "      <td>0.0</td>\n",
       "      <td>0.0</td>\n",
       "      <td>0.0</td>\n",
       "      <td>0.0</td>\n",
       "      <td>1.0</td>\n",
       "      <td>1.0</td>\n",
       "      <td>0.0</td>\n",
       "      <td>1.0</td>\n",
       "      <td>1.0</td>\n",
       "      <td>0.0</td>\n",
       "      <td>0.0</td>\n",
       "      <td>0.0</td>\n",
       "      <td>0.0</td>\n",
       "      <td>0.0</td>\n",
       "      <td>0.0</td>\n",
       "      <td>0.0</td>\n",
       "      <td>0.0</td>\n",
       "      <td>0.0</td>\n",
       "      <td>0.0</td>\n",
       "    </tr>\n",
       "    <tr>\n",
       "      <th>1</th>\n",
       "      <td>0.0</td>\n",
       "      <td>0.0</td>\n",
       "      <td>0.0</td>\n",
       "      <td>0.0</td>\n",
       "      <td>0.0</td>\n",
       "      <td>0.0</td>\n",
       "      <td>1.0</td>\n",
       "      <td>0.0</td>\n",
       "      <td>0.0</td>\n",
       "      <td>1.0</td>\n",
       "      <td>1.0</td>\n",
       "      <td>0.0</td>\n",
       "      <td>0.0</td>\n",
       "      <td>0.0</td>\n",
       "      <td>0.0</td>\n",
       "      <td>0.0</td>\n",
       "      <td>0.0</td>\n",
       "      <td>0.0</td>\n",
       "      <td>1.0</td>\n",
       "    </tr>\n",
       "    <tr>\n",
       "      <th>2</th>\n",
       "      <td>0.0</td>\n",
       "      <td>0.0</td>\n",
       "      <td>0.0</td>\n",
       "      <td>0.0</td>\n",
       "      <td>1.0</td>\n",
       "      <td>0.0</td>\n",
       "      <td>0.0</td>\n",
       "      <td>1.0</td>\n",
       "      <td>0.0</td>\n",
       "      <td>0.0</td>\n",
       "      <td>0.0</td>\n",
       "      <td>1.0</td>\n",
       "      <td>0.0</td>\n",
       "      <td>1.0</td>\n",
       "      <td>0.0</td>\n",
       "      <td>0.0</td>\n",
       "      <td>0.0</td>\n",
       "      <td>1.0</td>\n",
       "      <td>0.0</td>\n",
       "    </tr>\n",
       "    <tr>\n",
       "      <th>3</th>\n",
       "      <td>0.0</td>\n",
       "      <td>1.0</td>\n",
       "      <td>0.0</td>\n",
       "      <td>0.0</td>\n",
       "      <td>0.0</td>\n",
       "      <td>0.0</td>\n",
       "      <td>0.0</td>\n",
       "      <td>1.0</td>\n",
       "      <td>0.0</td>\n",
       "      <td>0.0</td>\n",
       "      <td>0.0</td>\n",
       "      <td>0.0</td>\n",
       "      <td>1.0</td>\n",
       "      <td>0.0</td>\n",
       "      <td>1.0</td>\n",
       "      <td>1.0</td>\n",
       "      <td>0.0</td>\n",
       "      <td>0.0</td>\n",
       "      <td>0.0</td>\n",
       "    </tr>\n",
       "    <tr>\n",
       "      <th>4</th>\n",
       "      <td>1.0</td>\n",
       "      <td>0.0</td>\n",
       "      <td>1.0</td>\n",
       "      <td>1.0</td>\n",
       "      <td>0.0</td>\n",
       "      <td>0.0</td>\n",
       "      <td>0.0</td>\n",
       "      <td>0.0</td>\n",
       "      <td>0.0</td>\n",
       "      <td>0.0</td>\n",
       "      <td>0.0</td>\n",
       "      <td>0.0</td>\n",
       "      <td>0.0</td>\n",
       "      <td>0.0</td>\n",
       "      <td>1.0</td>\n",
       "      <td>0.0</td>\n",
       "      <td>1.0</td>\n",
       "      <td>0.0</td>\n",
       "      <td>0.0</td>\n",
       "    </tr>\n",
       "  </tbody>\n",
       "</table>\n",
       "</div>"
      ],
      "text/plain": [
       "    0    1    2    3    4    5    6    7    8    9    10   11   12   13   14  \\\n",
       "0  0.0  0.0  0.0  0.0  1.0  1.0  0.0  1.0  1.0  0.0  0.0  0.0  0.0  0.0  0.0   \n",
       "1  0.0  0.0  0.0  0.0  0.0  0.0  1.0  0.0  0.0  1.0  1.0  0.0  0.0  0.0  0.0   \n",
       "2  0.0  0.0  0.0  0.0  1.0  0.0  0.0  1.0  0.0  0.0  0.0  1.0  0.0  1.0  0.0   \n",
       "3  0.0  1.0  0.0  0.0  0.0  0.0  0.0  1.0  0.0  0.0  0.0  0.0  1.0  0.0  1.0   \n",
       "4  1.0  0.0  1.0  1.0  0.0  0.0  0.0  0.0  0.0  0.0  0.0  0.0  0.0  0.0  1.0   \n",
       "\n",
       "    15   16   17   18  \n",
       "0  0.0  0.0  0.0  0.0  \n",
       "1  0.0  0.0  0.0  1.0  \n",
       "2  0.0  0.0  1.0  0.0  \n",
       "3  1.0  0.0  0.0  0.0  \n",
       "4  0.0  1.0  0.0  0.0  "
      ]
     },
     "execution_count": 38,
     "metadata": {},
     "output_type": "execute_result"
    }
   ],
   "source": [
    "# Generate text matrix with help of simple class TmgSimple\n",
    "tm = TmgSimple(filename='Data/textDocs.txt', stopwords_filename='Data/stopWords.txt')\n",
    "\n",
    "# Extract variables representing data\n",
    "X = tm.get_matrix(sort=True)\n",
    "attributeNames = tm.get_words(sort=True)\n",
    "\n",
    "# Display the result\n",
    "print(attributeNames)\n",
    "pd.DataFrame(X)"
   ]
  },
  {
   "cell_type": "markdown",
   "metadata": {},
   "source": [
    "**Inspect the document-term matrix: How does it compare to your original\n",
    "matrix?**\n",
    "\n",
    "Words such as the, out, used, from and there have been removed as a part of the removal of the stopwords process. "
   ]
  },
  {
   "cell_type": "markdown",
   "metadata": {},
   "source": [
    "#### 3.1.4\n",
    "Stemming"
   ]
  },
  {
   "cell_type": "code",
   "execution_count": 66,
   "metadata": {
    "collapsed": false
   },
   "outputs": [
    {
     "name": "stdout",
     "output_type": "stream",
     "text": [
      "\n",
      "Extracting documents from the file: Data/textDocs.txt\n",
      "\n",
      "Min. term length: 3\n",
      "Max. term length: 30\n",
      "Stemming: True\n",
      "Stopwords: True\n",
      "\n",
      "Processing document 1/5...\n",
      "   Number of terms: 4\n",
      "Processing document 2/5...\n",
      "   Number of terms: 4\n",
      "Processing document 3/5...\n",
      "   Number of terms: 5\n",
      "Processing document 4/5...\n",
      "   Number of terms: 5\n",
      "Processing document 5/5...\n",
      "   Number of terms: 5\n",
      "\n",
      "Number of documents (N):5\n",
      "Number of extracted terms (M):18\n",
      "\n",
      "[u'drop', u'eigenvalu', u'england', u'fifa', u'googl', u'internet', u'link', u'matrix', u'model', u'nonzero', u'p_ij', u'page', u'problem', u'rank', u'solv', u'top', u'web', u'webpag']\n"
     ]
    },
    {
     "data": {
      "text/html": [
       "<div>\n",
       "<table border=\"1\" class=\"dataframe\">\n",
       "  <thead>\n",
       "    <tr style=\"text-align: right;\">\n",
       "      <th></th>\n",
       "      <th>0</th>\n",
       "      <th>1</th>\n",
       "      <th>2</th>\n",
       "      <th>3</th>\n",
       "      <th>4</th>\n",
       "      <th>5</th>\n",
       "      <th>6</th>\n",
       "      <th>7</th>\n",
       "      <th>8</th>\n",
       "      <th>9</th>\n",
       "      <th>10</th>\n",
       "      <th>11</th>\n",
       "      <th>12</th>\n",
       "      <th>13</th>\n",
       "      <th>14</th>\n",
       "      <th>15</th>\n",
       "      <th>16</th>\n",
       "      <th>17</th>\n",
       "    </tr>\n",
       "  </thead>\n",
       "  <tbody>\n",
       "    <tr>\n",
       "      <th>0</th>\n",
       "      <td>0.0</td>\n",
       "      <td>0.0</td>\n",
       "      <td>0.0</td>\n",
       "      <td>0.0</td>\n",
       "      <td>1.0</td>\n",
       "      <td>1.0</td>\n",
       "      <td>0.0</td>\n",
       "      <td>1.0</td>\n",
       "      <td>1.0</td>\n",
       "      <td>0.0</td>\n",
       "      <td>0.0</td>\n",
       "      <td>0.0</td>\n",
       "      <td>0.0</td>\n",
       "      <td>0.0</td>\n",
       "      <td>0.0</td>\n",
       "      <td>0.0</td>\n",
       "      <td>0.0</td>\n",
       "      <td>0.0</td>\n",
       "    </tr>\n",
       "    <tr>\n",
       "      <th>1</th>\n",
       "      <td>0.0</td>\n",
       "      <td>0.0</td>\n",
       "      <td>0.0</td>\n",
       "      <td>0.0</td>\n",
       "      <td>0.0</td>\n",
       "      <td>0.0</td>\n",
       "      <td>1.0</td>\n",
       "      <td>0.0</td>\n",
       "      <td>0.0</td>\n",
       "      <td>1.0</td>\n",
       "      <td>1.0</td>\n",
       "      <td>0.0</td>\n",
       "      <td>0.0</td>\n",
       "      <td>0.0</td>\n",
       "      <td>0.0</td>\n",
       "      <td>0.0</td>\n",
       "      <td>0.0</td>\n",
       "      <td>1.0</td>\n",
       "    </tr>\n",
       "    <tr>\n",
       "      <th>2</th>\n",
       "      <td>0.0</td>\n",
       "      <td>0.0</td>\n",
       "      <td>0.0</td>\n",
       "      <td>0.0</td>\n",
       "      <td>1.0</td>\n",
       "      <td>0.0</td>\n",
       "      <td>0.0</td>\n",
       "      <td>1.0</td>\n",
       "      <td>0.0</td>\n",
       "      <td>0.0</td>\n",
       "      <td>0.0</td>\n",
       "      <td>1.0</td>\n",
       "      <td>0.0</td>\n",
       "      <td>1.0</td>\n",
       "      <td>0.0</td>\n",
       "      <td>0.0</td>\n",
       "      <td>1.0</td>\n",
       "      <td>0.0</td>\n",
       "    </tr>\n",
       "    <tr>\n",
       "      <th>3</th>\n",
       "      <td>0.0</td>\n",
       "      <td>1.0</td>\n",
       "      <td>0.0</td>\n",
       "      <td>0.0</td>\n",
       "      <td>0.0</td>\n",
       "      <td>0.0</td>\n",
       "      <td>0.0</td>\n",
       "      <td>1.0</td>\n",
       "      <td>0.0</td>\n",
       "      <td>0.0</td>\n",
       "      <td>0.0</td>\n",
       "      <td>0.0</td>\n",
       "      <td>1.0</td>\n",
       "      <td>1.0</td>\n",
       "      <td>1.0</td>\n",
       "      <td>0.0</td>\n",
       "      <td>0.0</td>\n",
       "      <td>0.0</td>\n",
       "    </tr>\n",
       "    <tr>\n",
       "      <th>4</th>\n",
       "      <td>1.0</td>\n",
       "      <td>0.0</td>\n",
       "      <td>1.0</td>\n",
       "      <td>1.0</td>\n",
       "      <td>0.0</td>\n",
       "      <td>0.0</td>\n",
       "      <td>0.0</td>\n",
       "      <td>0.0</td>\n",
       "      <td>0.0</td>\n",
       "      <td>0.0</td>\n",
       "      <td>0.0</td>\n",
       "      <td>0.0</td>\n",
       "      <td>0.0</td>\n",
       "      <td>1.0</td>\n",
       "      <td>0.0</td>\n",
       "      <td>1.0</td>\n",
       "      <td>0.0</td>\n",
       "      <td>0.0</td>\n",
       "    </tr>\n",
       "  </tbody>\n",
       "</table>\n",
       "</div>"
      ],
      "text/plain": [
       "    0    1    2    3    4    5    6    7    8    9    10   11   12   13   14  \\\n",
       "0  0.0  0.0  0.0  0.0  1.0  1.0  0.0  1.0  1.0  0.0  0.0  0.0  0.0  0.0  0.0   \n",
       "1  0.0  0.0  0.0  0.0  0.0  0.0  1.0  0.0  0.0  1.0  1.0  0.0  0.0  0.0  0.0   \n",
       "2  0.0  0.0  0.0  0.0  1.0  0.0  0.0  1.0  0.0  0.0  0.0  1.0  0.0  1.0  0.0   \n",
       "3  0.0  1.0  0.0  0.0  0.0  0.0  0.0  1.0  0.0  0.0  0.0  0.0  1.0  1.0  1.0   \n",
       "4  1.0  0.0  1.0  1.0  0.0  0.0  0.0  0.0  0.0  0.0  0.0  0.0  0.0  1.0  0.0   \n",
       "\n",
       "    15   16   17  \n",
       "0  0.0  0.0  0.0  \n",
       "1  0.0  0.0  1.0  \n",
       "2  0.0  1.0  0.0  \n",
       "3  0.0  0.0  0.0  \n",
       "4  1.0  0.0  0.0  "
      ]
     },
     "execution_count": 66,
     "metadata": {},
     "output_type": "execute_result"
    }
   ],
   "source": [
    "# Generate text matrix with help of simple class TmgSimple\n",
    "tm = TmgSimple(filename='Data/textDocs.txt', stopwords_filename='Data/stopWords.txt', stem=True)\n",
    "\n",
    "# Extract variables representing data\n",
    "X = tm.get_matrix(sort=True)\n",
    "attributeNames = tm.get_words(sort=True)\n",
    "\n",
    "# Display the result\n",
    "print(attributeNames)\n",
    "pd.DataFrame(X)\n",
    "\n"
   ]
  },
  {
   "cell_type": "markdown",
   "metadata": {},
   "source": [
    "**Inspect the document-term matrix: **\n",
    "* How does it compare to your original matrix? \n",
    "\n",
    "The word ranking has been removed and the occurences of ones in the column have been moved to the rank column since the stem is the same. \n",
    "\n",
    "* Can you get to the same result, by using stemmer from nltk package directly?\n",
    "\n",
    "Yes - stopwords and stemming with the code below:"
   ]
  },
  {
   "cell_type": "code",
   "execution_count": 67,
   "metadata": {
    "collapsed": false
   },
   "outputs": [
    {
     "name": "stdout",
     "output_type": "stream",
     "text": [
      "Old values:\n",
      "[u'drop', u'eigenvalu', u'england', u'fifa', u'googl', u'internet', u'link', u'matrix', u'model', u'nonzero', u'p_ij', u'page', u'problem', u'rank', u'solv', u'top', u'web', u'webpag'] \n",
      "\n",
      "New values:\n",
      "[u'drop', u'eigenvalu', u'england', u'fifa', u'googl', u'internet', u'link', u'matrix', u'model', u'nonzero', u'p_ij', u'page', u'problem', u'rank', u'solv', u'top', u'web', u'webpag']\n"
     ]
    }
   ],
   "source": [
    "import nltk\n",
    "from nltk.stem import *\n",
    "\n",
    "# Remove English stopwords\n",
    "stoplist = stopwords.words('english')\n",
    "stoplist\n",
    "\n",
    "# Stemming with nltk\n",
    "porter = nltk.PorterStemmer()\n",
    "singles = [porter.stem(names) for names in attributeNames]\n",
    "print \"Old values:\\n\", attributeNames, \"\\n\\nNew values:\\n\", singles"
   ]
  },
  {
   "cell_type": "markdown",
   "metadata": {},
   "source": [
    "#### 3.1.5 - Working with the document matrix"
   ]
  },
  {
   "cell_type": "code",
   "execution_count": 70,
   "metadata": {
    "collapsed": false
   },
   "outputs": [
    {
     "name": "stdout",
     "output_type": "stream",
     "text": [
      "Query vector:\n",
      " [0 0 0 0 0 0 0 1 0 0 0 0 0 1 1 0 0 0]\n",
      "\n",
      "Similarity results:\n",
      " [[ 0.28867513]\n",
      " [ 0.        ]\n",
      " [ 0.51639778]\n",
      " [ 0.77459667]\n",
      " [ 0.25819889]]\n"
     ]
    }
   ],
   "source": [
    "import scipy.linalg as linalg\n",
    "from similarity import similarity\n",
    "\n",
    "# Some data deleted as it already existed in the previous script (3.1.4)\n",
    "# Query vector\n",
    "q = np.array([0, 0, 0, 0, 0, 0, 0, 1, 0, 0, 0, 0, 0, 1, 1, 0, 0, 0])\n",
    "\n",
    "# Method 1 ('for' loop - slow)\n",
    "N = np.shape(X)[0]; # get the number of data objects\n",
    "sim = np.zeros((N,1)) # allocate a vector for the similarity\n",
    "for i in range(N):\n",
    "    x = X[i,:] # Get the i'th data object (here: document)\n",
    "    sim[i] = np.dot(q/linalg.norm(q), x.T/linalg.norm(x)) # Compute cosine similarity\n",
    "\n",
    "# Method 2 (one line of code with no iterations - faster)\n",
    "sim = np.dot(q, X.T).T / (np.sqrt(np.power(X,2).sum(axis=1)) * np.sqrt(np.power(q,2).sum()))\n",
    "\n",
    "# Method 3 (use the \"similarity\" function)\n",
    "sim = similarity(X, q, 'cos');\n",
    "\n",
    "\n",
    "# Display the result\n",
    "print('Query vector:\\n {0}\\n'.format(q))\n",
    "print('Similarity results:\\n {0}'.format(sim))"
   ]
  },
  {
   "cell_type": "markdown",
   "metadata": {},
   "source": [
    "As can be seen from the above vector, the 4th document has a similarity values of $0.774$ which is the highest of all the documents. Document 2 has no similariy at all -- there are no words in common."
   ]
  },
  {
   "cell_type": "markdown",
   "metadata": {},
   "source": [
    "### Summary Statistics"
   ]
  },
  {
   "cell_type": "code",
   "execution_count": 72,
   "metadata": {
    "collapsed": false
   },
   "outputs": [
    {
     "name": "stdout",
     "output_type": "stream",
     "text": [
      "Vector: [-0.68 -2.11  2.39  0.26  1.46  1.33  1.03 -0.41 -0.33  0.47]\n",
      "Mean: 0.341\n",
      "Standard Deviation: 1.29059374794\n",
      "Median: 0.365\n",
      "Range: 4.5\n"
     ]
    }
   ],
   "source": [
    "x = np.array([-0.68, -2.11, 2.39, 0.26, 1.46, 1.33, 1.03, -0.41, -0.33, 0.47])\n",
    "\n",
    "# Compute values\n",
    "mean_x   = x.mean()\n",
    "std_x    = x.std(ddof=1)\n",
    "median_x = np.median(x)\n",
    "range_x  = x.max()-x.min()\n",
    "\n",
    "# Display results\n",
    "print 'Vector:',             x \n",
    "print 'Mean:',               mean_x\n",
    "print 'Standard Deviation:', std_x\n",
    "print 'Median:',             median_x\n",
    "print 'Range:',              range_x\n"
   ]
  },
  {
   "cell_type": "markdown",
   "metadata": {},
   "source": [
    "### Measure of similarity"
   ]
  },
  {
   "cell_type": "code",
   "execution_count": 79,
   "metadata": {
    "collapsed": false
   },
   "outputs": [
    {
     "data": {
      "image/png": "[encoded data removed]",
      "text/plain": [
       "<matplotlib.figure.Figure at 0xb113278>"
      ]
     },
     "metadata": {},
     "output_type": "display_data"
    }
   ],
   "source": [
    "# Image to use as query\n",
    "i = 2\n",
    "\n",
    "# Similarity: 'SMC', 'Jaccard', 'ExtendedJaccard', 'Cosine', 'Correlation' \n",
    "similarity_measure = 'cosine'\n",
    "\n",
    "# Load the CBCL face database\n",
    "# Load Matlab data file to python dict structure\n",
    "X = loadmat('Data/wildfaces_grayscale.mat')['X']\n",
    "N, M = X.shape\n",
    "\n",
    "# Search the face database for similar faces\n",
    "# Index of all other images than i\n",
    "noti = list(range(0,i)) + list(range(i+1,N)) \n",
    "\n",
    "# Compute similarity between image i and all others\n",
    "sim = similarity(X[i,:], X[noti,:], similarity_measure)\n",
    "sim = sim.tolist()[0]\n",
    "\n",
    "# Tuples of sorted similarities and their indices\n",
    "sim_to_index = sorted(zip(sim,noti))\n",
    "\n",
    "# Visualize query image and 5 most/least similar images\n",
    "plt.figure(figsize=(12,8))\n",
    "plt.subplot(3,1,1)\n",
    "\n",
    "img_hw = int(np.sqrt(len(X[0])))\n",
    "plt.imshow(np.reshape(X[i],(img_hw,img_hw)).T, cmap=plt.cm.gray)\n",
    "plt.xticks([]); plt.yticks([])\n",
    "plt.title('Query image')\n",
    "plt.ylabel('image #{0}'.format(i))\n",
    "\n",
    "for ms in range(5):\n",
    "\n",
    "    # 5 most similar images found\n",
    "    plt.subplot(3,5,6+ms)\n",
    "    im_id = sim_to_index[-ms-1][1]\n",
    "    im_sim = sim_to_index[-ms-1][0]\n",
    "    plt.imshow(np.reshape(X[im_id],(img_hw,img_hw)).T, cmap=plt.cm.gray)\n",
    "    plt.xlabel('sim={0:.3f}'.format(im_sim))\n",
    "    plt.ylabel('image #{0}'.format(im_id))\n",
    "    plt.xticks([]); plt.yticks([])\n",
    "    if ms==2: plt.title('Most similar images')\n",
    "\n",
    "    # 5 least similar images found\n",
    "    plt.subplot(3,5,11+ms)\n",
    "    im_id = sim_to_index[ms][1]\n",
    "    im_sim = sim_to_index[ms][0]\n",
    "    plt.imshow(np.reshape(X[im_id],(img_hw,img_hw)).T, cmap=plt.cm.gray)\n",
    "    plt.xlabel('sim={0:.3f}'.format(im_sim))\n",
    "    plt.ylabel('image #{0}'.format(im_id))\n",
    "    plt.xticks([]); plt.yticks([])\n",
    "    if ms==2: plt.title('Least similar images')\n",
    "    \n",
    "plt.show()"
   ]
  },
  {
   "cell_type": "code",
   "execution_count": null,
   "metadata": {
    "collapsed": true
   },
   "outputs": [],
   "source": []
  },
  {
   "cell_type": "markdown",
   "metadata": {},
   "source": [
    "#### Similarity"
   ]
  },
  {
   "cell_type": "code",
   "execution_count": 82,
   "metadata": {
    "collapsed": false
   },
   "outputs": [
    {
     "name": "stdout",
     "output_type": "stream",
     "text": [
      "Cosine scaling: -0.0000              \n",
      "ExtendedJaccard scaling: 0.0069     \n",
      "Correlation scaling: -0.0000         \n",
      "Cosine translation: -0.0555          \n",
      "ExtendedJaccard translation: 0.2561 \n",
      "Correlation translation: 0.0000     \n"
     ]
    }
   ],
   "source": [
    "# Generate two data objects with M random attributes\n",
    "M = 5;\n",
    "x = np.mat(np.random.rand(1,M))\n",
    "y = np.mat(np.random.rand(1,M))\n",
    "\n",
    "# Two constants\n",
    "a = 1.5\n",
    "b = 1.5\n",
    "\n",
    "# Check the statements in the exercise\n",
    "print(\"Cosine scaling: %.4f              \" % (similarity(x,y,'cos') - similarity(a*x,y,'cos'))[0,0])\n",
    "print(\"ExtendedJaccard scaling: %.4f     \" % (similarity(x,y,'ext') - similarity(a*x,y,'ext'))[0,0])\n",
    "print(\"Correlation scaling: %.4f         \" % (similarity(x,y,'cor') - similarity(a*x,y,'cor'))[0,0])\n",
    "print(\"Cosine translation: %.4f          \" % (similarity(x,y,'cos') - similarity(b+x,y,'cos'))[0,0])\n",
    "print(\"ExtendedJaccard translation: %.4f \" % (similarity(x,y,'ext') - similarity(b+x,y,'ext'))[0,0])\n",
    "print(\"Correlation translation: %.4f     \" % (similarity(x,y,'cor') - similarity(b+x,y,'cor'))[0,0])\n"
   ]
  },
  {
   "cell_type": "code",
   "execution_count": null,
   "metadata": {
    "collapsed": true
   },
   "outputs": [],
   "source": []
  }
 ],
 "metadata": {
  "anaconda-cloud": {},
  "kernelspec": {
   "display_name": "Python [Root]",
   "language": "python",
   "name": "Python [Root]"
  },
  "language_info": {
   "codemirror_mode": {
    "name": "ipython",
    "version": 2
   },
   "file_extension": ".py",
   "mimetype": "text/x-python",
   "name": "python",
   "nbconvert_exporter": "python",
   "pygments_lexer": "ipython2",
   "version": "2.7.12"
  }
 },
 "nbformat": 4,
 "nbformat_minor": 0
}
