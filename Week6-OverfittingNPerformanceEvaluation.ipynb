{
 "cells": [
  {
   "cell_type": "markdown",
   "metadata": {},
   "source": [
    "# Week 6 - Overfitting and performance Evaluation"
   ]
  },
  {
   "cell_type": "markdown",
   "metadata": {},
   "source": [
    "----\n",
    "## Theory\n",
    "*Due to missing note book*"
   ]
  },
  {
   "cell_type": "markdown",
   "metadata": {},
   "source": [
    "### Models\n",
    "* Linear models - linear combination of our features.\n",
    "* As many free parameters as features = perfect fit of model (probably overfitted model)\n",
    "\n",
    "#### Control model complexity \n",
    "Find parameters or mechanisms that control complexity.\n",
    "\n",
    "> Everything should made as simple as possible, but not simpler. - *Einstein*\n",
    "\n",
    "#### Decision trees\n",
    "* *Hunts alorithm*\n",
    "* Generate full tree, cut of branches to tune/prune"
   ]
  },
  {
   "cell_type": "markdown",
   "metadata": {},
   "source": [
    "### Train, test and generalization error\n",
    "#### Training error\n",
    "How much the model deviates from the average\n",
    "\n",
    "#### Test error\n",
    "Testing the trained model on new data. The test set did not train the model. \n",
    "\n",
    "Unbiased estimate.\n",
    "\n",
    "#### *Overfitting*\n",
    "*Plotting training and test error.*\n",
    "\n",
    "* Overfitting - while training erorr usually decreases for overly complex models, the test error increases.\n",
    "* Test error is the more true error.\n",
    "* **Don't validate a model on the same data it was trained upon!**\n",
    "\n",
    "#### Generalization error\n",
    "The test error evaluated over infinitely many test sets - **the true performance of our model**\n",
    "\n",
    "Average test error over infinitely amny tests."
   ]
  },
  {
   "cell_type": "markdown",
   "metadata": {},
   "source": [
    "### Cross-validation\n",
    "**Purpose:** Estimate generalization error.\n",
    "\n",
    "![Cross-validation](methods.png)\n",
    "#### Holdout\n",
    "Partition dataset in two, for training and testing randomly.\n",
    "\n",
    "#### K-fold\n",
    "Partition data in $K$ parts. Each part is a test set, and the other $K-1$ training sets. Take out random observations. Each observation is only part of test set once.\n",
    "\n",
    "#### Stratify cross-validation\n",
    "Class proportion of training and test sets are the same.\n",
    "\n",
    "#### Leave-one-out\n",
    "$N$ parts. Let each set be a test set and $N-1$ training sets.\n",
    "\n",
    "Evaluate one model at a time. \n",
    "\n",
    "#### Pros and cons of the different models\n",
    "* **Holdout** - one does not take variety into account, there can be large differences between training and test dataset - can end up seing the one model as the only possibility, performance is good not much recursion on data (computationally efficient)\n",
    "* **Leave-one-out** - generates very specialized models, but tests on all data -- computationally inefficient. Large variance, unbiased.\n",
    "* **K-fold** - makes it easier to evaluate the final model as there will \"only\" be 9 different models to evaluate which still will account for variety in data, computationally better than leave-one-out"
   ]
  },
  {
   "cell_type": "markdown",
   "metadata": {},
   "source": [
    "**2-layer cross-validation**\n",
    "\n",
    "### Feature subset selection\n",
    "Control complexity - using a subset of the attributes.\n",
    "\n",
    "**How many different ways can we choose a subset?**\n",
    "* $M^2$\n",
    "* $2^M$ - can be in the model or not (for all possibilities)\n",
    "* $M!$\n",
    "* $\\frac{M\\times(M+1)}{2}$"
   ]
  },
  {
   "cell_type": "markdown",
   "metadata": {},
   "source": [
    "![Cross-validation](fs.png)\n",
    "\n",
    "#### Forward selection \n",
    "* Start with no features\n",
    "* Compute cross-validation error\n",
    "  * Current feature subset\n",
    "  * All subsets equal to the current + one added feature\n",
    "* Choose best subset\n",
    "* Repeat until no further improvement\n",
    "\n",
    "**Adding a feature only if it improves the test error.**\n",
    "\n",
    "![Cross-validation](bs.png)\n",
    "\n",
    "#### Backwards selection\n",
    "* Start with all features\n",
    "* Compute cross-validation error\n",
    "  * Current feature subset\n",
    "  * All subsets equal to the current minus one feature\n",
    "* Choose best subset\n",
    "* Repeat until no further improvement\n",
    "\n",
    "**Removing a feature if it does not improve the test error**\n",
    "\n",
    "*You are not guaranteed the same features using the different techniques on the same data!*"
   ]
  },
  {
   "cell_type": "markdown",
   "metadata": {},
   "source": [
    "### Statistical evaluation of the performance classifiers\n",
    "#### Credibility interval\n",
    "#### Significance of classifiers"
   ]
  },
  {
   "cell_type": "markdown",
   "metadata": {},
   "source": [
    "----\n",
    "## Exercises"
   ]
  },
  {
   "cell_type": "markdown",
   "metadata": {},
   "source": [
    "### Imports"
   ]
  },
  {
   "cell_type": "code",
   "execution_count": 10,
   "metadata": {
    "collapsed": false
   },
   "outputs": [],
   "source": [
    "from matplotlib.pyplot import *\n",
    "% matplotlib inline\n",
    "import numpy as np\n",
    "from pylab import *\n",
    "from scipy.io import loadmat\n",
    "from sklearn import cross_validation, tree\n",
    "from sklearn.model_selection import cross_val_score\n",
    "import sklearn.linear_model as lm\n",
    "from scipy import stats"
   ]
  },
  {
   "cell_type": "markdown",
   "metadata": {},
   "source": [
    "### All common variables and data \n",
    "At least for exercises 6.1.1, 6.1.2 and 6.2.1"
   ]
  },
  {
   "cell_type": "code",
   "execution_count": 11,
   "metadata": {
    "collapsed": false
   },
   "outputs": [],
   "source": [
    "# Load Matlab data file and extract variables of interest\n",
    "mat_data = loadmat('Data/wine2.mat')\n",
    "X = np.matrix(mat_data['X'])\n",
    "y = np.matrix(mat_data['y'], dtype=int)\n",
    "attributeNames = [name[0] for name in mat_data['attributeNames'][0]]\n",
    "classNames = [name[0][0] for name in mat_data['classNames']]\n",
    "N, M = X.shape\n",
    "C = len(classNames)\n",
    "\n",
    "# Tree complexity parameter - constraint on maximum depth\n",
    "tc = np.arange(2, 21, 1)\n",
    "\n",
    "## Crossvalidation\n",
    "# Create crossvalidation partition for evaluation\n",
    "K = 10\n",
    "CV = cross_validation.KFold(N,K,shuffle=True)\n",
    "#CV = cross_validation.StratifiedKFold(y.A.ravel(),k=K)\n",
    "\n",
    "# Initialize variable\n",
    "Error_train = np.empty((len(tc),K))\n",
    "Error_test = np.empty((len(tc),K))\n"
   ]
  },
  {
   "cell_type": "markdown",
   "metadata": {},
   "source": [
    "### Exercise 6.1.1"
   ]
  },
  {
   "cell_type": "code",
   "execution_count": 19,
   "metadata": {
    "collapsed": false
   },
   "outputs": [
    {
     "data": {
      "image/png": "[encoded data removed]",
      "text/plain": [
       "<matplotlib.figure.Figure at 0xbed8198>"
      ]
     },
     "metadata": {},
     "output_type": "display_data"
    }
   ],
   "source": [
    "# exercise 6.1.1\n",
    "# Simple holdout-set crossvalidation\n",
    "test_proportion = 0.5\n",
    "X_train, X_test, y_train, y_test = cross_validation.train_test_split(X,y,test_size=test_proportion)\n",
    "\n",
    "for i, t in enumerate(tc):\n",
    "    # Fit decision tree classifier, Gini split criterion, different pruning levels\n",
    "    dtc = tree.DecisionTreeClassifier(criterion='gini', max_depth=t)\n",
    "    dtc = dtc.fit(X_train,y_train.ravel().T)\n",
    "\n",
    "    # Evaluate classifier's misclassification rate over train/test data\n",
    "    y_est_test = dtc.predict(X_test)\n",
    "    y_est_train = dtc.predict(X_train)\n",
    "    misclass_rate_test = sum(np.abs(np.mat(y_est_test).T - y_test)) / float(len(y_est_test))\n",
    "    misclass_rate_train = sum(np.abs(np.mat(y_est_train).T - y_train)) / float(len(y_est_train))\n",
    "    Error_test[i], Error_train[i] = misclass_rate_test, misclass_rate_train\n",
    "    \n",
    "f = figure(figsize=(10,6)); f.hold(True)\n",
    "plot(tc, Error_train)\n",
    "plot(tc, Error_test)\n",
    "xlabel('Model complexity (max tree depth)')\n",
    "ylabel('Error (misclassification rate)')\n",
    "legend(['Error_train','Error_test'])\n",
    "    \n",
    "show()    \n"
   ]
  },
  {
   "cell_type": "markdown",
   "metadata": {},
   "source": [
    "### Exercise 6.1.2"
   ]
  },
  {
   "cell_type": "code",
   "execution_count": 20,
   "metadata": {
    "collapsed": false
   },
   "outputs": [
    {
     "name": "stdout",
     "output_type": "stream",
     "text": [
      "Computing CV fold: 1/10..\n",
      "Computing CV fold: 2/10..\n",
      "Computing CV fold: 3/10..\n",
      "Computing CV fold: 4/10..\n",
      "Computing CV fold: 5/10..\n",
      "Computing CV fold: 6/10..\n",
      "Computing CV fold: 7/10..\n",
      "Computing CV fold: 8/10..\n",
      "Computing CV fold: 9/10..\n",
      "Computing CV fold: 10/10..\n"
     ]
    },
    {
     "data": {
      "image/png": "[encoded data removed]",
      "text/plain": [
       "<matplotlib.figure.Figure at 0xb050978>"
      ]
     },
     "metadata": {},
     "output_type": "display_data"
    },
    {
     "data": {
      "image/png": "[encoded data removed]",
      "text/plain": [
       "<matplotlib.figure.Figure at 0xbf27b38>"
      ]
     },
     "metadata": {},
     "output_type": "display_data"
    }
   ],
   "source": [
    "# exercise 6.1.2\n",
    "\n",
    "k=0\n",
    "for train_index, test_index in CV:\n",
    "    print('Computing CV fold: {0}/{1}..'.format(k+1,K))\n",
    "\n",
    "    # extract training and test set for current CV fold\n",
    "    X_train, y_train = X[train_index,:].A, y[train_index,:].A\n",
    "    X_test, y_test = X[test_index,:].A, y[test_index,:].A\n",
    "\n",
    "    for i, t in enumerate(tc):\n",
    "        # Fit decision tree classifier, Gini split criterion, different pruning levels\n",
    "        dtc = tree.DecisionTreeClassifier(criterion='gini', max_depth=t)\n",
    "        dtc = dtc.fit(X_train,y_train.ravel())\n",
    "        y_est_test = dtc.predict(X_test)\n",
    "        y_est_train = dtc.predict(X_train)\n",
    "        # Evaluate misclassification rate over train/test data (in this CV fold)\n",
    "        misclass_rate_test = sum(np.abs(np.mat(y_est_test).T - y_test)) / float(len(y_est_test))\n",
    "        misclass_rate_train = sum(np.abs(np.mat(y_est_train).T - y_train)) / float(len(y_est_train))\n",
    "        Error_test[i,k], Error_train[i,k] = misclass_rate_test, misclass_rate_train\n",
    "    k+=1\n",
    "\n",
    "    \n",
    "f = figure(figsize=(10,6)); f.hold(True)\n",
    "boxplot(Error_test.T)\n",
    "xlabel('Model complexity (max tree depth)')\n",
    "ylabel('Test error across CV folds, K={0})'.format(K))\n",
    "\n",
    "f = figure(figsize=(10,6)); f.hold(True)\n",
    "plot(tc, Error_train.mean(1))\n",
    "plot(tc, Error_test.mean(1))\n",
    "xlabel('Model complexity (max tree depth)')\n",
    "ylabel('Error (misclassification rate, CV K={0})'.format(K))\n",
    "legend(['Error_train','Error_test'])\n",
    "    \n",
    "show()\n"
   ]
  },
  {
   "cell_type": "markdown",
   "metadata": {},
   "source": [
    "### Exercise 6.2.1"
   ]
  },
  {
   "cell_type": "code",
   "execution_count": 2,
   "metadata": {
    "collapsed": false
   },
   "outputs": [
    {
     "ename": "NameError",
     "evalue": "name 'CV' is not defined",
     "output_type": "error",
     "traceback": [
      "\u001b[1;31m---------------------------------------------------------------------------\u001b[0m",
      "\u001b[1;31mNameError\u001b[0m                                 Traceback (most recent call last)",
      "\u001b[1;32m<ipython-input-2-82f86847caa0>\u001b[0m in \u001b[0;36m<module>\u001b[1;34m()\u001b[0m\n\u001b[0;32m      2\u001b[0m \u001b[1;33m\u001b[0m\u001b[0m\n\u001b[0;32m      3\u001b[0m \u001b[0mk\u001b[0m\u001b[1;33m=\u001b[0m\u001b[1;36m0\u001b[0m\u001b[1;33m\u001b[0m\u001b[0m\n\u001b[1;32m----> 4\u001b[1;33m \u001b[1;32mfor\u001b[0m \u001b[0mtrain_index\u001b[0m\u001b[1;33m,\u001b[0m \u001b[0mtest_index\u001b[0m \u001b[1;32min\u001b[0m \u001b[0mCV\u001b[0m\u001b[1;33m:\u001b[0m\u001b[1;33m\u001b[0m\u001b[0m\n\u001b[0m\u001b[0;32m      5\u001b[0m     \u001b[1;32mprint\u001b[0m\u001b[1;33m(\u001b[0m\u001b[1;34m'Computing CV fold: {0}/{1}..'\u001b[0m\u001b[1;33m.\u001b[0m\u001b[0mformat\u001b[0m\u001b[1;33m(\u001b[0m\u001b[0mk\u001b[0m\u001b[1;33m+\u001b[0m\u001b[1;36m1\u001b[0m\u001b[1;33m,\u001b[0m\u001b[0mK\u001b[0m\u001b[1;33m)\u001b[0m\u001b[1;33m)\u001b[0m\u001b[1;33m\u001b[0m\u001b[0m\n\u001b[0;32m      6\u001b[0m \u001b[1;33m\u001b[0m\u001b[0m\n",
      "\u001b[1;31mNameError\u001b[0m: name 'CV' is not defined"
     ]
    }
   ],
   "source": [
    "# exercise 6.1.2\n",
    "\n",
    "k=0\n",
    "for train_index, test_index in CV:\n",
    "    print('Computing CV fold: {0}/{1}..'.format(k+1,K))\n",
    "\n",
    "    # extract training and test set for current CV fold\n",
    "    X_train, y_train = X[train_index,:].A, y[train_index,:].A\n",
    "    X_test, y_test = X[test_index,:].A, y[test_index,:].A\n",
    "\n",
    "    for i, t in enumerate(tc):\n",
    "        # Fit decision tree classifier, Gini split criterion, different pruning levels\n",
    "        dtc = tree.DecisionTreeClassifier(criterion='gini', max_depth=t)\n",
    "        dtc = dtc.fit(X_train,y_train.ravel())\n",
    "        y_est_test = dtc.predict(X_test)\n",
    "        y_est_train = dtc.predict(X_train)\n",
    "        # Evaluate misclassification rate over train/test data (in this CV fold)\n",
    "        misclass_rate_test = sum(np.abs(np.mat(y_est_test).T - y_test)) / float(len(y_est_test))\n",
    "        misclass_rate_train = sum(np.abs(np.mat(y_est_train).T - y_train)) / float(len(y_est_train))\n",
    "        Error_test[i,k], Error_train[i,k] = misclass_rate_test, misclass_rate_train\n",
    "    k+=1\n",
    "\n",
    "    \n",
    "f = figure(figsize=(10,6)); f.hold(True)\n",
    "boxplot(Error_test.T)\n",
    "xlabel('Model complexity (max tree depth)')\n",
    "ylabel('Test error across CV folds, K={0})'.format(K))\n",
    "\n",
    "f = figure(figsize=(10,6)); f.hold(True)\n",
    "plot(tc, Error_train.mean(1))\n",
    "plot(tc, Error_test.mean(1))\n",
    "xlabel('Model complexity (max tree depth)')\n",
    "ylabel('Error (misclassification rate, CV K={0})'.format(K))\n",
    "legend(['Error_train','Error_test'])\n",
    "    \n",
    "show()\n"
   ]
  },
  {
   "cell_type": "markdown",
   "metadata": {},
   "source": [
    "### Exercise 6.3.1"
   ]
  },
  {
   "cell_type": "code",
   "execution_count": 1,
   "metadata": {
    "collapsed": false
   },
   "outputs": [
    {
     "ename": "NameError",
     "evalue": "name 'np' is not defined",
     "output_type": "error",
     "traceback": [
      "\u001b[1;31m---------------------------------------------------------------------------\u001b[0m",
      "\u001b[1;31mNameError\u001b[0m                                 Traceback (most recent call last)",
      "\u001b[1;32m<ipython-input-1-ad9902742232>\u001b[0m in \u001b[0;36m<module>\u001b[1;34m()\u001b[0m\n\u001b[0;32m      2\u001b[0m \u001b[1;33m\u001b[0m\u001b[0m\n\u001b[0;32m      3\u001b[0m \u001b[1;31m# Initialize variables\u001b[0m\u001b[1;33m\u001b[0m\u001b[1;33m\u001b[0m\u001b[0m\n\u001b[1;32m----> 4\u001b[1;33m \u001b[0mError_logreg\u001b[0m \u001b[1;33m=\u001b[0m \u001b[0mnp\u001b[0m\u001b[1;33m.\u001b[0m\u001b[0mempty\u001b[0m\u001b[1;33m(\u001b[0m\u001b[1;33m(\u001b[0m\u001b[0mK\u001b[0m\u001b[1;33m,\u001b[0m\u001b[1;36m1\u001b[0m\u001b[1;33m)\u001b[0m\u001b[1;33m)\u001b[0m\u001b[1;33m\u001b[0m\u001b[0m\n\u001b[0m\u001b[0;32m      5\u001b[0m \u001b[0mError_dectree\u001b[0m \u001b[1;33m=\u001b[0m \u001b[0mnp\u001b[0m\u001b[1;33m.\u001b[0m\u001b[0mempty\u001b[0m\u001b[1;33m(\u001b[0m\u001b[1;33m(\u001b[0m\u001b[0mK\u001b[0m\u001b[1;33m,\u001b[0m\u001b[1;36m1\u001b[0m\u001b[1;33m)\u001b[0m\u001b[1;33m)\u001b[0m\u001b[1;33m\u001b[0m\u001b[0m\n\u001b[0;32m      6\u001b[0m \u001b[0mn_tested\u001b[0m\u001b[1;33m=\u001b[0m\u001b[1;36m0\u001b[0m\u001b[1;33m\u001b[0m\u001b[0m\n",
      "\u001b[1;31mNameError\u001b[0m: name 'np' is not defined"
     ]
    }
   ],
   "source": [
    "# exercise 6.3.1\n",
    "\n",
    "# Initialize variables\n",
    "Error_logreg = np.empty((K,1))\n",
    "Error_dectree = np.empty((K,1))\n",
    "n_tested=0\n",
    "\n",
    "k=0\n",
    "for train_index, test_index in CV:\n",
    "    \n",
    "    # extract training and test set for current CV fold\n",
    "    X_train = X[train_index,:]\n",
    "    y_train = y[train_index,:]\n",
    "    X_test = X[test_index,:]\n",
    "    y_test = y[test_index,:]\n",
    "\n",
    "    # Fit and evaluate Logistic Regression classifier\n",
    "    model = lm.logistic.LogisticRegression(C=N)\n",
    "    model = model.fit(X_train, y_train.A.ravel())\n",
    "    y_logreg = np.mat(model.predict(X_test)).T\n",
    "    Error_logreg[k] = 100*(y_logreg!=y_test).sum().astype(float)/len(y_test)\n",
    "    \n",
    "    # Fit and evaluate Decision Tree classifier\n",
    "    model2 = tree.DecisionTreeClassifier()\n",
    "    model2 = model2.fit(X_train, y_train.A.ravel())\n",
    "    y_dectree = np.mat(model2.predict(X_test)).T\n",
    "    Error_dectree[k] = 100*(y_dectree!=y_test).sum().astype(float)/len(y_test)\n",
    "\n",
    "    k+=1log\n",
    "\n",
    "# Use T-test to check if classifiers are significantly different\n",
    "[tstatistic, pvalue] = stats.ttest_ind(Error_logreg,Error_dectree)\n",
    "if pvalue<=0.05:\n",
    "    print('Classifiers are significantly different. (p={0})'.format(pvalue[0]))\n",
    "else:\n",
    "    print('Classifiers are not significantly different (p={0})'.format(pvalue[0]))        \n",
    "    \n",
    "# Boxplot to compare classifier error distributions\n",
    "figure(figsize=(10,6))\n",
    "boxplot(np.bmat('Error_logreg, Error_dectree'))\n",
    "xlabel('Logistic Regression   vs.   Decision Tree')\n",
    "ylabel('Cross-validation error [%]')\n",
    "\n",
    "show()"
   ]
  },
  {
   "cell_type": "code",
   "execution_count": null,
   "metadata": {
    "collapsed": true
   },
   "outputs": [],
   "source": []
  }
 ],
 "metadata": {
  "anaconda-cloud": {},
  "kernelspec": {
   "display_name": "Python [Root]",
   "language": "python",
   "name": "Python [Root]"
  },
  "language_info": {
   "codemirror_mode": {
    "name": "ipython",
    "version": 2
   },
   "file_extension": ".py",
   "mimetype": "text/x-python",
   "name": "python",
   "nbconvert_exporter": "python",
   "pygments_lexer": "ipython2",
   "version": "2.7.12"
  }
 },
 "nbformat": 4,
 "nbformat_minor": 0
}
