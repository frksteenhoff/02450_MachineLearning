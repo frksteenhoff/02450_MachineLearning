{
 "cells": [
  {
   "cell_type": "markdown",
   "metadata": {},
   "source": [
    "# Data Visualization and Probability Theory"
   ]
  },
  {
   "cell_type": "markdown",
   "metadata": {},
   "source": [
    "## Exercises"
   ]
  },
  {
   "cell_type": "markdown",
   "metadata": {},
   "source": [
    "### Imports"
   ]
  },
  {
   "cell_type": "code",
   "execution_count": null,
   "metadata": {
    "collapsed": true
   },
   "outputs": [],
   "source": [
    "from matplotlib.pyplot import *\n",
    "import numpy as np\n",
    "from scipy.io import loadmat\n",
    "import xlrd\n",
    "from matplotlib.pyplot import figure, plot, subplot, boxplot, hist, xlabel, ylim, show, ticks, title, cm, colorplot, legend, hold, setp, ylabel, ylim\n",
    "%matplotlib inline\n",
    "from scipy.stats import zscore\n",
    "from scipy.io import loadmat\n"
   ]
  },
  {
   "cell_type": "markdown",
   "metadata": {
    "collapsed": true
   },
   "source": [
    "### Scripts"
   ]
  },
  {
   "cell_type": "code",
   "execution_count": null,
   "metadata": {
    "collapsed": true
   },
   "outputs": [],
   "source": [
    "# Load xls sheet with data\n",
    "doc = xlrd.open_workbook('Data/iris.xls').sheet_by_index(0)\n",
    "\n",
    "# Extract attribute names\n",
    "attributeNames = doc.row_values(0,0,4)\n",
    "\n",
    "# Extract class names to python list,\n",
    "# then encode with integers (dict)\n",
    "classLabels = doc.col_values(4,1,151)\n",
    "classNames = sorted(set(classLabels))\n",
    "classDict = dict(zip(classNames,range(len(classNames))))\n",
    "\n",
    "# Extract vector y, convert to NumPy matrix and transpose\n",
    "y = np.array([classDict[value] for value in classLabels])\n",
    "\n",
    "# Preallocate memory, then extract data to matrix X\n",
    "X = np.empty((150,4))\n",
    "for i in range(4):\n",
    "    X[:,i] = np.array(doc.col_values(i,1,151)).T\n",
    "\n",
    "# Compute values of N, M and C.\n",
    "N = len(y)\n",
    "M = len(attributeNames)\n",
    "C = len(classNames)\n"
   ]
  },
  {
   "cell_type": "code",
   "execution_count": null,
   "metadata": {
    "collapsed": true
   },
   "outputs": [],
   "source": [
    "# requires data from exercise 4.1.1\n",
    "figure(figsize=(8,7))\n",
    "u = np.floor(np.sqrt(M)); v = np.ceil(float(M)/u)\n",
    "for i in range(M):\n",
    "    subplot(u,v,i+1)\n",
    "    hist(X[:,i], color=(0.2, 0.8-i*0.2, 0.4))\n",
    "    xlabel(attributeNames[i])\n",
    "    ylim(0,N/2)\n",
    "    \n",
    "show()"
   ]
  },
  {
   "cell_type": "code",
   "execution_count": null,
   "metadata": {
    "collapsed": true
   },
   "outputs": [],
   "source": [
    "boxplot(X)\n",
    "xticks(range(1,5),attributeNames)\n",
    "ylabel('cm')\n",
    "title('Fisher\\'s Iris data set - boxplot')\n",
    "show()"
   ]
  },
  {
   "cell_type": "markdown",
   "metadata": {},
   "source": [
    "Exercise 4.1.4"
   ]
  },
  {
   "cell_type": "code",
   "execution_count": null,
   "metadata": {
    "collapsed": true
   },
   "outputs": [],
   "source": [
    "# Exercise 4.1.4\n",
    "figure(figsize=(14,7))\n",
    "for c in range(C):\n",
    "    subplot(1,C,c+1)\n",
    "    class_mask = (y==c) # binary mask to extract elements of class c\n",
    "    # or: class_mask = nonzero(y==c)[0].tolist()[0] # indices of class c\n",
    "    \n",
    "    boxplot(X[class_mask,:])\n",
    "    #title('Class: {0}'.format(classNames[c]))\n",
    "    title('Class: '+classNames[c])\n",
    "    xticks(range(1,len(attributeNames)+1), [a[:7] for a in attributeNames], rotation=45)\n",
    "    y_up = X.max()+(X.max()-X.min())*0.1; y_down = X.min()-(X.max()-X.min())*0.1\n",
    "    ylim(y_down, y_up)\n",
    "\n",
    "show()\n"
   ]
  },
  {
   "cell_type": "markdown",
   "metadata": {},
   "source": [
    "Exercise 4.1.6"
   ]
  },
  {
   "cell_type": "code",
   "execution_count": null,
   "metadata": {
    "collapsed": true
   },
   "outputs": [],
   "source": [
    "# requires data from exercise 4.1.1\n",
    "figure(figsize=(12,10))\n",
    "hold(True)\n",
    "for m1 in range(M):\n",
    "    for m2 in range(M):\n",
    "        subplot(M, M, m1*M + m2 + 1)\n",
    "        for c in range(C):\n",
    "            class_mask = (y==c)\n",
    "            plot(np.array(X[class_mask,m2]), np.array(X[class_mask,m1]), '.')\n",
    "            if m1==M-1:\n",
    "                xlabel(attributeNames[m2])\n",
    "            else:\n",
    "                xticks([])\n",
    "            if m2==0:\n",
    "                ylabel(attributeNames[m1])\n",
    "            else:\n",
    "                yticks([])\n",
    "            #ylim(0,X.max()*1.1)\n",
    "            #xlim(0,X.max()*1.1)\n",
    "legend(classNames)\n",
    "\n",
    "show()"
   ]
  },
  {
   "cell_type": "code",
   "execution_count": 1,
   "metadata": {
    "collapsed": false
   },
   "outputs": [
    {
     "ename": "ImportError",
     "evalue": "No module named ex4_1_1",
     "output_type": "error",
     "traceback": [
      "\u001b[1;31m---------------------------------------------------------------------------\u001b[0m",
      "\u001b[1;31mImportError\u001b[0m                               Traceback (most recent call last)",
      "\u001b[1;32m<ipython-input-1-8ab1095c2f5b>\u001b[0m in \u001b[0;36m<module>\u001b[1;34m()\u001b[0m\n\u001b[0;32m      6\u001b[0m \u001b[1;33m\u001b[0m\u001b[0m\n\u001b[0;32m      7\u001b[0m \u001b[1;31m# requires data from exercise 4.1.1\u001b[0m\u001b[1;33m\u001b[0m\u001b[1;33m\u001b[0m\u001b[0m\n\u001b[1;32m----> 8\u001b[1;33m \u001b[1;32mfrom\u001b[0m \u001b[0mex4_1_1\u001b[0m \u001b[1;32mimport\u001b[0m \u001b[1;33m*\u001b[0m\u001b[1;33m\u001b[0m\u001b[0m\n\u001b[0m\u001b[0;32m      9\u001b[0m \u001b[1;33m\u001b[0m\u001b[0m\n\u001b[0;32m     10\u001b[0m \u001b[0mX_standarized\u001b[0m \u001b[1;33m=\u001b[0m \u001b[0mzscore\u001b[0m\u001b[1;33m(\u001b[0m\u001b[0mX\u001b[0m\u001b[1;33m,\u001b[0m \u001b[0mddof\u001b[0m\u001b[1;33m=\u001b[0m\u001b[1;36m1\u001b[0m\u001b[1;33m)\u001b[0m\u001b[1;33m\u001b[0m\u001b[0m\n",
      "\u001b[1;31mImportError\u001b[0m: No module named ex4_1_1"
     ]
    }
   ],
   "source": [
    "# Exercise 4.1.7\n",
    "X_standarized = zscore(X, ddof=1)\n",
    "\n",
    "figure()\n",
    "imshow(X_standarized, interpolation='none', aspect=(4./N), cmap=cm.gray);\n",
    "xticks(range(4), attributeNames)\n",
    "xlabel('Attributes')\n",
    "ylabel('Data objects')\n",
    "title('Fisher\\'s Iris data matrix')\n",
    "colorbar()\n",
    "\n",
    "show()\n"
   ]
  },
  {
   "cell_type": "markdown",
   "metadata": {},
   "source": [
    "Exercise 4.2.1"
   ]
  },
  {
   "cell_type": "code",
   "execution_count": 3,
   "metadata": {
    "collapsed": false
   },
   "outputs": [],
   "source": [
    "# exercise 4.2.1\n",
    "# Load Matlab data file and extract variables of interest\n",
    "mat_data = loadmat('Data/wine.mat')\n",
    "X = mat_data['X']\n",
    "y = mat_data['y']\n",
    "C = mat_data['C'][0,0]\n",
    "M = mat_data['M'][0,0]\n",
    "N = mat_data['N'][0,0]\n",
    "attributeNames = [name[0][0] for name in mat_data['attributeNames']]\n",
    "classNames = [cls[0][0] for cls in mat_data['classNames']]\n",
    "\n",
    "# We start with a box plot of each attribute\n",
    "figure()\n",
    "title('Wine: Boxplot')\n",
    "boxplot(X)\n",
    "xticks(range(1,M+1), attributeNames, rotation=45)\n",
    "\n",
    "# From this it is clear that there are some outliers in the Alcohol\n",
    "# attribute (10x10^14 is clearly not a proper value for alcohol content)\n",
    "# However, it is impossible to see the distribution of the data, because\n",
    "# the axis is dominated by these extreme outliers. To avoid this, we plot a\n",
    "# box plot of standardized data (using the zscore function).\n",
    "figure(figsize=(12,6))\n",
    "title('Wine: Boxplot (standarized)')\n",
    "boxplot(zscore(X, ddof=1), attributeNames)\n",
    "xticks(range(1,M+1), attributeNames, rotation=45)\n",
    "\n",
    "# This plot reveals that there are clearly some outliers in the Volatile\n",
    "# acidity, Density, and Alcohol attributes, i.e. attribute number 2, 8,\n",
    "# and 11. \n",
    "\n",
    "# Next, we plot histograms of all attributes.\n",
    "figure(figsize=(14,9))\n",
    "u = np.floor(np.sqrt(M)); v = np.ceil(float(M)/u)\n",
    "for i in range(M):\n",
    "    subplot(u,v,i+1)\n",
    "    hist(X[:,i])\n",
    "    xlabel(attributeNames[i])\n",
    "    ylim(0, N) # Make the y-axes equal for improved readability\n",
    "    if i%v!=0: yticks([])\n",
    "    if i==0: title('Wine: Histogram')\n",
    "    \n",
    "\n",
    "# This confirms our belief about outliers in attributes 2, 8, and 11.\n",
    "# To take a closer look at this, we next plot histograms of the \n",
    "# attributes we suspect contains outliers\n",
    "figure(figsize=(14,9))\n",
    "m = [1, 7, 10]\n",
    "for i in range(len(m)):\n",
    "    subplot(1,len(m),i+1)\n",
    "    hist(X[:,m[i]],50)\n",
    "    xlabel(attributeNames[m[i]])\n",
    "    ylim(0, N) # Make the y-axes equal for improved readability\n",
    "    if i>0: yticks([])\n",
    "    if i==0: title('Wine: Histogram (selected attributes)')\n",
    "\n",
    "\n",
    "# The histograms show that there are a few very extreme values in these\n",
    "# three attributes. To identify these values as outliers, we must use our\n",
    "# knowledge about the data set and the attributes. Say we expect volatide\n",
    "# acidity to be around 0-2 g/dm^3, density to be close to 1 g/cm^3, and\n",
    "# alcohol percentage to be somewhere between 5-20 % vol. Then we can safely\n",
    "# identify the following outliers, which are a factor of 10 greater than\n",
    "# the largest we expect.\n",
    "outlier_mask = (X[:,1]>20) | (X[:,7]>10) | (X[:,10]>200)\n",
    "valid_mask = np.logical_not(outlier_mask)\n",
    "\n",
    "# Finally we will remove these from the data set\n",
    "X = X[valid_mask,:]\n",
    "y = y[valid_mask,:]\n",
    "N = len(y)\n",
    "\n",
    "\n",
    "# Now, we can repeat the process to see if there are any more outliers\n",
    "# present in the data. We take a look at a histogram of all attributes:\n",
    "figure(figsize=(14,9))\n",
    "u = np.floor(np.sqrt(M)); v = np.ceil(float(M)/u)\n",
    "for i in range(M):\n",
    "    subplot(u,v,i+1)\n",
    "    hist(X[:,i])\n",
    "    xlabel(attributeNames[i])\n",
    "    ylim(0, N) # Make the y-axes equal for improved readability\n",
    "    if i%v!=0: yticks([])\n",
    "    if i==0: title('Wine: Histogram (after outlier detection)')\n",
    "\n",
    "# This reveals no further outliers, and we conclude that all outliers have\n",
    "# been detected and removed.\n",
    "\n",
    "show()"
   ]
  },
  {
   "cell_type": "code",
   "execution_count": 4,
   "metadata": {
    "collapsed": false
   },
   "outputs": [
    {
     "ename": "IOError",
     "evalue": "[Errno 2] No such file or directory: '../Data/wine.mat'",
     "output_type": "error",
     "traceback": [
      "\u001b[1;31m---------------------------------------------------------------------------\u001b[0m",
      "\u001b[1;31mIOError\u001b[0m                                   Traceback (most recent call last)",
      "\u001b[1;32m<ipython-input-4-a0a97012a2dc>\u001b[0m in \u001b[0;36m<module>\u001b[1;34m()\u001b[0m\n\u001b[0;32m     10\u001b[0m \u001b[1;33m\u001b[0m\u001b[0m\n\u001b[0;32m     11\u001b[0m \u001b[1;31m# Load Matlab data file and extract variables of interest\u001b[0m\u001b[1;33m\u001b[0m\u001b[1;33m\u001b[0m\u001b[0m\n\u001b[1;32m---> 12\u001b[1;33m \u001b[0mmat_data\u001b[0m \u001b[1;33m=\u001b[0m \u001b[0mloadmat\u001b[0m\u001b[1;33m(\u001b[0m\u001b[1;34m'../Data/wine.mat'\u001b[0m\u001b[1;33m)\u001b[0m\u001b[1;33m\u001b[0m\u001b[0m\n\u001b[0m\u001b[0;32m     13\u001b[0m \u001b[0mX\u001b[0m \u001b[1;33m=\u001b[0m \u001b[0mmat_data\u001b[0m\u001b[1;33m[\u001b[0m\u001b[1;34m'X'\u001b[0m\u001b[1;33m]\u001b[0m\u001b[1;33m\u001b[0m\u001b[0m\n\u001b[0;32m     14\u001b[0m \u001b[0my\u001b[0m \u001b[1;33m=\u001b[0m \u001b[0mnp\u001b[0m\u001b[1;33m.\u001b[0m\u001b[0msqueeze\u001b[0m\u001b[1;33m(\u001b[0m\u001b[0mmat_data\u001b[0m\u001b[1;33m[\u001b[0m\u001b[1;34m'y'\u001b[0m\u001b[1;33m]\u001b[0m\u001b[1;33m)\u001b[0m\u001b[1;33m\u001b[0m\u001b[0m\n",
      "\u001b[1;32mC:\\Users\\frksteenhoff\\Anaconda2\\lib\\site-packages\\scipy\\io\\matlab\\mio.pyc\u001b[0m in \u001b[0;36mloadmat\u001b[1;34m(file_name, mdict, appendmat, **kwargs)\u001b[0m\n\u001b[0;32m    132\u001b[0m     \"\"\"\n\u001b[0;32m    133\u001b[0m     \u001b[0mvariable_names\u001b[0m \u001b[1;33m=\u001b[0m \u001b[0mkwargs\u001b[0m\u001b[1;33m.\u001b[0m\u001b[0mpop\u001b[0m\u001b[1;33m(\u001b[0m\u001b[1;34m'variable_names'\u001b[0m\u001b[1;33m,\u001b[0m \u001b[0mNone\u001b[0m\u001b[1;33m)\u001b[0m\u001b[1;33m\u001b[0m\u001b[0m\n\u001b[1;32m--> 134\u001b[1;33m     \u001b[0mMR\u001b[0m \u001b[1;33m=\u001b[0m \u001b[0mmat_reader_factory\u001b[0m\u001b[1;33m(\u001b[0m\u001b[0mfile_name\u001b[0m\u001b[1;33m,\u001b[0m \u001b[0mappendmat\u001b[0m\u001b[1;33m,\u001b[0m \u001b[1;33m**\u001b[0m\u001b[0mkwargs\u001b[0m\u001b[1;33m)\u001b[0m\u001b[1;33m\u001b[0m\u001b[0m\n\u001b[0m\u001b[0;32m    135\u001b[0m     \u001b[0mmatfile_dict\u001b[0m \u001b[1;33m=\u001b[0m \u001b[0mMR\u001b[0m\u001b[1;33m.\u001b[0m\u001b[0mget_variables\u001b[0m\u001b[1;33m(\u001b[0m\u001b[0mvariable_names\u001b[0m\u001b[1;33m)\u001b[0m\u001b[1;33m\u001b[0m\u001b[0m\n\u001b[0;32m    136\u001b[0m     \u001b[1;32mif\u001b[0m \u001b[0mmdict\u001b[0m \u001b[1;32mis\u001b[0m \u001b[1;32mnot\u001b[0m \u001b[0mNone\u001b[0m\u001b[1;33m:\u001b[0m\u001b[1;33m\u001b[0m\u001b[0m\n",
      "\u001b[1;32mC:\\Users\\frksteenhoff\\Anaconda2\\lib\\site-packages\\scipy\\io\\matlab\\mio.pyc\u001b[0m in \u001b[0;36mmat_reader_factory\u001b[1;34m(file_name, appendmat, **kwargs)\u001b[0m\n\u001b[0;32m     55\u001b[0m        \u001b[0mtype\u001b[0m \u001b[0mdetected\u001b[0m \u001b[1;32min\u001b[0m \u001b[1;33m`\u001b[0m\u001b[0mfilename\u001b[0m\u001b[1;33m`\u001b[0m\u001b[1;33m.\u001b[0m\u001b[1;33m\u001b[0m\u001b[0m\n\u001b[0;32m     56\u001b[0m     \"\"\"\n\u001b[1;32m---> 57\u001b[1;33m     \u001b[0mbyte_stream\u001b[0m \u001b[1;33m=\u001b[0m \u001b[0m_open_file\u001b[0m\u001b[1;33m(\u001b[0m\u001b[0mfile_name\u001b[0m\u001b[1;33m,\u001b[0m \u001b[0mappendmat\u001b[0m\u001b[1;33m)\u001b[0m\u001b[1;33m\u001b[0m\u001b[0m\n\u001b[0m\u001b[0;32m     58\u001b[0m     \u001b[0mmjv\u001b[0m\u001b[1;33m,\u001b[0m \u001b[0mmnv\u001b[0m \u001b[1;33m=\u001b[0m \u001b[0mget_matfile_version\u001b[0m\u001b[1;33m(\u001b[0m\u001b[0mbyte_stream\u001b[0m\u001b[1;33m)\u001b[0m\u001b[1;33m\u001b[0m\u001b[0m\n\u001b[0;32m     59\u001b[0m     \u001b[1;32mif\u001b[0m \u001b[0mmjv\u001b[0m \u001b[1;33m==\u001b[0m \u001b[1;36m0\u001b[0m\u001b[1;33m:\u001b[0m\u001b[1;33m\u001b[0m\u001b[0m\n",
      "\u001b[1;32mC:\\Users\\frksteenhoff\\Anaconda2\\lib\\site-packages\\scipy\\io\\matlab\\mio.pyc\u001b[0m in \u001b[0;36m_open_file\u001b[1;34m(file_like, appendmat)\u001b[0m\n\u001b[0;32m     21\u001b[0m     \u001b[1;32mif\u001b[0m \u001b[0misinstance\u001b[0m\u001b[1;33m(\u001b[0m\u001b[0mfile_like\u001b[0m\u001b[1;33m,\u001b[0m \u001b[0mstring_types\u001b[0m\u001b[1;33m)\u001b[0m\u001b[1;33m:\u001b[0m\u001b[1;33m\u001b[0m\u001b[0m\n\u001b[0;32m     22\u001b[0m         \u001b[1;32mtry\u001b[0m\u001b[1;33m:\u001b[0m\u001b[1;33m\u001b[0m\u001b[0m\n\u001b[1;32m---> 23\u001b[1;33m             \u001b[1;32mreturn\u001b[0m \u001b[0mopen\u001b[0m\u001b[1;33m(\u001b[0m\u001b[0mfile_like\u001b[0m\u001b[1;33m,\u001b[0m \u001b[1;34m'rb'\u001b[0m\u001b[1;33m)\u001b[0m\u001b[1;33m\u001b[0m\u001b[0m\n\u001b[0m\u001b[0;32m     24\u001b[0m         \u001b[1;32mexcept\u001b[0m \u001b[0mIOError\u001b[0m \u001b[1;32mas\u001b[0m \u001b[0me\u001b[0m\u001b[1;33m:\u001b[0m\u001b[1;33m\u001b[0m\u001b[0m\n\u001b[0;32m     25\u001b[0m             \u001b[1;32mif\u001b[0m \u001b[0mappendmat\u001b[0m \u001b[1;32mand\u001b[0m \u001b[1;32mnot\u001b[0m \u001b[0mfile_like\u001b[0m\u001b[1;33m.\u001b[0m\u001b[0mendswith\u001b[0m\u001b[1;33m(\u001b[0m\u001b[1;34m'.mat'\u001b[0m\u001b[1;33m)\u001b[0m\u001b[1;33m:\u001b[0m\u001b[1;33m\u001b[0m\u001b[0m\n",
      "\u001b[1;31mIOError\u001b[0m: [Errno 2] No such file or directory: '../Data/wine.mat'"
     ]
    }
   ],
   "source": [
    "# exercise 4.2.2\n",
    "# Load Matlab data file and extract variables of interest\n",
    "mat_data = loadmat('../Data/wine.mat')\n",
    "X = mat_data['X']\n",
    "y = np.squeeze(mat_data['y'])\n",
    "C = mat_data['C'][0,0]\n",
    "M = mat_data['M'][0,0]\n",
    "N = mat_data['N'][0,0]\n",
    "\n",
    "attributeNames = [name[0][0] for name in mat_data['attributeNames']]\n",
    "classNames = [cls[0] for cls in mat_data['classNames'][0]]\n",
    "    \n",
    "# The histograms show that there are a few very extreme values in these\n",
    "# three attributes. To identify these values as outliers, we must use our\n",
    "# knowledge about the data set and the attributes. Say we expect volatide\n",
    "# acidity to be around 0-2 g/dm^3, density to be close to 1 g/cm^3, and\n",
    "# alcohol percentage to be somewhere between 5-20 % vol. Then we can safely\n",
    "# identify the following outliers, which are a factor of 10 greater than\n",
    "# the largest we expect.\n",
    "outlier_mask = (X[:,1]>20) | (X[:,7]>10) | (X[:,10]>200)\n",
    "valid_mask = np.logical_not(outlier_mask)\n",
    "\n",
    "# Finally we will remove these from the data set\n",
    "X = X[valid_mask,:]\n",
    "y = y[valid_mask]\n",
    "N = len(y)\n",
    "Xnorm = zscore(X, ddof=1)\n",
    "\n",
    "## Next we plot a number of atttributes\n",
    "Attributes = [1,4,5,6]\n",
    "NumAtr = len(Attributes)\n",
    "\n",
    "figure(figsize=(12,12))\n",
    "hold(True)\n",
    "\n",
    "for m1 in range(NumAtr):\n",
    "    for m2 in range(NumAtr):\n",
    "        subplot(NumAtr, NumAtr, m1*NumAtr + m2 + 1)\n",
    "        for c in range(C):\n",
    "            class_mask = (y==c)\n",
    "            plot(X[class_mask,Attributes[m2]], X[class_mask,Attributes[m1]], '.')\n",
    "            if m1==NumAtr-1:\n",
    "                xlabel(attributeNames[Attributes[m2]])\n",
    "            else:\n",
    "                xticks([])\n",
    "            if m2==0:\n",
    "                ylabel(attributeNames[Attributes[m1]])\n",
    "            else:\n",
    "                yticks([])\n",
    "            #ylim(0,X.max()*1.1)\n",
    "            #xlim(0,X.max()*1.1)\n",
    "legend(classNames)\n",
    "show()\n"
   ]
  },
  {
   "cell_type": "code",
   "execution_count": null,
   "metadata": {
    "collapsed": true
   },
   "outputs": [],
   "source": []
  }
 ],
 "metadata": {
  "anaconda-cloud": {},
  "kernelspec": {
   "display_name": "Python [Root]",
   "language": "python",
   "name": "Python [Root]"
  },
  "language_info": {
   "codemirror_mode": {
    "name": "ipython",
    "version": 2
   },
   "file_extension": ".py",
   "mimetype": "text/x-python",
   "name": "python",
   "nbconvert_exporter": "python",
   "pygments_lexer": "ipython2",
   "version": "2.7.12"
  }
 },
 "nbformat": 4,
 "nbformat_minor": 0
}
