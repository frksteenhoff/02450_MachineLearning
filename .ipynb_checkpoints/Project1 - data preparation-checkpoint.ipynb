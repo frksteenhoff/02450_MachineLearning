{
 "cells": [
  {
   "cell_type": "markdown",
   "metadata": {},
   "source": [
    "# Project1 - getting to know the data\n",
    "\n",
    "## Information from website\n",
    ">A retrospective sample of males in a heart-disease high-risk region\n",
    "of the Western Cape, South Africa. There are roughly two controls per\n",
    "case of CHD. Many of the CHD positive men have undergone blood\n",
    "pressure reduction treatment and other programs to reduce their risk\n",
    "factors after their CHD event. In some cases the measurements were\n",
    "made after these treatments. These data are taken from a larger\n",
    "dataset, described in  Rousseauw et al, 1983, South African Medical\n",
    "Journal. \n",
    "\n",
    "**sbp**\t\t    systolic blood pressure \n",
    "* The highest pressure when your heart beats and pushes the blood round your body\n",
    "\n",
    "**tobacco**\t\tcumulative tobacco (kg)\n",
    "\n",
    "**ldl**  \t\tlow densiity lipoprotein cholesterol \n",
    "* Lipoproteins transfer lipids (fats) around the body in the extracellular fluid thereby facilitating fats to be available and taken up by the cells body wide via receptor-mediated endocytosis.\n",
    "\n",
    "**adiposity**   (fedme)\n",
    "The body adiposity index (BAI) is a method of measuring the **amount of body fat in humans**. The BAI is **calculated without using body weight**, unlike the body mass index (BMI). Instead, it uses the size of the hips compared to the person's height.\n",
    "Based on population studies, the **BAI is approximately equal to the percentage of body fat for adult men and women of differing ethnicities**.[1]\n",
    "\n",
    "**famhist**\t\tfamily history of heart disease (Present, Absent)\n",
    "\n",
    "**typea**\t\ttype-A behavior\n",
    "* Type A and Type B personality theory describes two contrasting personality types. In this theory, personalities that are more competitive, outgoing, ambitious, impatient and/or aggressive are labeled Type A, while more relaxed personalities are labeled Type B.\n",
    "* The two cardiologists who developed this theory came to believe that Type A personalities had a greater chance of developing coronary heart disease. Following the results of further studies and considerable controversy about the role of the tobacco industry funding of early research in this area, some reject, either partially or completely, the link between Type A personality and coronary disease. Nevertheless, this research had a significant effect on the development of the health psychology field, in which psychologists look at how an individual's mental state affects their physical health\n",
    "\n",
    "**obesity**\n",
    "* BMI-measure?\n",
    "\n",
    "**alcohol**\t\tcurrent alcohol consumption\n",
    "\n",
    "**age**\t\t    age at onset\n",
    "\n",
    "**chd**\t\t    response, coronary heart disease\n",
    "\n",
    "\n",
    "## Preparation of data "
   ]
  },
  {
   "cell_type": "code",
   "execution_count": 2,
   "metadata": {
    "collapsed": false
   },
   "outputs": [],
   "source": [
    "# Getting relevant packages\n",
    "import xlrd\n",
    "import pandas as pd\n",
    "from collections import Counter \n",
    "import numpy as np\n",
    "import matplotlib.pyplot as plt\n",
    "from matplotlib.pyplot import (figure, hold, plot, title, xlabel, ylabel, legend,\n",
    "                               colorbar, imshow, xticks, yticks, show, savefig, boxplot)\n",
    "%matplotlib inline\n",
    "\n",
    "from pylab import *\n",
    "from scipy.io import loadmat\n",
    "from scipy.linalg import svd\n",
    "from scipy import linalg, stats\n",
    "from sklearn.neighbors import KNeighborsClassifier\n",
    "from sklearn.metrics import confusion_matrix\n",
    "from sklearn.tree import DecisionTreeClassifier, export_graphviz\n",
    "from sklearn import model_selection, tree\n",
    "from sklearn import model_selection\n",
    "from operator import itemgetter\n",
    "import graphviz\n",
    "import subprocess\n",
    "import sklearn.linear_model as lm\n",
    "from sklearn.mixture import GaussianMixture\n",
    "from scipy.stats.kde import gaussian_kde\n",
    "from toolbox_02450 import gausKernelDensity\n",
    "from sklearn.neighbors import NearestNeighbors\n",
    "from toolbox_02450 import clusterplot\n"
   ]
  },
  {
   "cell_type": "markdown",
   "metadata": {},
   "source": [
    "# Project 1 \n",
    "Not needed in relation to project 2 - therefore commented out"
   ]
  },
  {
   "cell_type": "markdown",
   "metadata": {
    "collapsed": false
   },
   "source": [
    "# Project 2 - Classification"
   ]
  },
  {
   "cell_type": "markdown",
   "metadata": {},
   "source": [
    "## Get all data information "
   ]
  },
  {
   "cell_type": "code",
   "execution_count": 17,
   "metadata": {
    "collapsed": false
   },
   "outputs": [
    {
     "name": "stdout",
     "output_type": "stream",
     "text": [
      "[u'sbp', u'tobacco', u'ldl', u'adiposity', u'famhist', u'typea', u'obesity', u'alcohol', u'age']\n",
      "(462, 9, 49)\n"
     ]
    }
   ],
   "source": [
    "# Load xls sheet with data\n",
    "doc = xlrd.open_workbook('SAheart.xlsx').sheet_by_index(0)\n",
    "    \n",
    "# Extract attribute names (1st row, column 2 to 9)\n",
    "attributeNames = doc.row_values(0, 1, 10)\n",
    "print(attributeNames)\n",
    "\n",
    "# Extract class names to python list,\n",
    "# then encode with integers (dict)\n",
    "classLabels = doc.col_values(9, 1, 463)\n",
    "classNames = sorted(set(classLabels))\n",
    "classDict = dict(zip(classNames, range(len(classNames))))\n",
    "\n",
    "famHist = doc.col_values(5, 1, 463)\n",
    "famHistDict = dict(zip(famHist, range(len(set(famHist)))))\n",
    "\n",
    "# Extract vector y, convert to NumPy matrix and transpose\n",
    "y = np.mat([classDict[value] for value in classLabels]).T\n",
    "\n",
    "# Preallocate memory, then extract excel data to matrix X\n",
    "X = np.mat(np.empty((462, 9)))\n",
    "\n",
    "for i, col_id in enumerate(range(1, 10)):\n",
    "    if i == 4:\n",
    "        X[:, i] = np.mat([famHistDict[value] for value in famHist]).T\n",
    "    else:\n",
    "        X[:, i] = np.mat(doc.col_values(col_id, 1, 463)).T\n",
    "\n",
    "# Compute values of N, M and C.\n",
    "N = len(y)\n",
    "M = len(attributeNames)\n",
    "C = len(classNames)\n",
    "\n",
    "# Creating pandas dataframe\n",
    "X = pd.DataFrame(X)\n",
    "\n",
    "print(N,M,C)"
   ]
  },
  {
   "cell_type": "code",
   "execution_count": 18,
   "metadata": {
    "collapsed": false
   },
   "outputs": [],
   "source": [
    "# Removing obesity\n",
    "X = X[[0,1,2,3,4,5,7,8]]\n",
    "X = X.as_matrix()\n",
    "\n",
    "# Remove obesity for attribute names\n",
    "del attributeNames[6]"
   ]
  },
  {
   "cell_type": "code",
   "execution_count": 19,
   "metadata": {
    "collapsed": false
   },
   "outputs": [],
   "source": [
    "# Subtract mean & standard deviation from data\n",
    "X = (X - np.ones((N,1))*X.mean(0))/X.std(0)\n",
    "\n",
    "# NOT NEEDED FOR THIS ASSIGNMENT\n",
    "# PCA by computing SVD of Y\n",
    "#U,S,V = svd(X,full_matrices=True)\n",
    "\n",
    "# Compute variance explained by principal components\n",
    "#rho = (S*S) / (S*S).sum() \n",
    "\n",
    "# Plot variance explained\n",
    "#figure()\n",
    "#plot(range(1,len(rho)+1),rho,'o-', color=\"#647293\")\n",
    "#title('Variance explained by principal components', fontsize=15);\n",
    "#xlabel('Principal component', fontsize=12);\n",
    "#ylabel('Variance explained', fontsize=12);\n",
    "#savefig(\"variance_explained.png\")\n",
    "#show()\n"
   ]
  },
  {
   "cell_type": "code",
   "execution_count": 11,
   "metadata": {
    "collapsed": false
   },
   "outputs": [
    {
     "name": "stdout",
     "output_type": "stream",
     "text": [
      "[u'sbp', u'tobacco', u'ldl', u'adiposity', u'famhist', u'typea', u'alcohol', u'age'] [15.0, 16.0, 17.0, 18.0, 19.0, 20.0, 21.0, 23.0, 24.0, 25.0, 26.0, 27.0, 28.0, 29.0, 30.0, 31.0, 32.0, 33.0, 34.0, 35.0, 36.0, 37.0, 38.0, 39.0, 40.0, 41.0, 42.0, 43.0, 44.0, 45.0, 46.0, 47.0, 48.0, 49.0, 50.0, 51.0, 52.0, 53.0, 54.0, 55.0, 56.0, 57.0, 58.0, 59.0, 60.0, 61.0, 62.0, 63.0, 64.0]\n"
     ]
    }
   ],
   "source": [
    "#pd.DataFrame(X)[:10]\n",
    "print attributeNames, classNames"
   ]
  },
  {
   "cell_type": "markdown",
   "metadata": {},
   "source": [
    "## Train data for all cross-validation work\n",
    "This way all methods will use the same traning and test sets -- this way we can compare the performance "
   ]
  },
  {
   "cell_type": "code",
   "execution_count": 138,
   "metadata": {
    "collapsed": true
   },
   "outputs": [],
   "source": [
    "# Split data - train on 80% test on 20%\n",
    "test_proportion = 0.2\n",
    "X_train, X_test, y_train, y_test = cross_validation.train_test_split(X,y,test_size=test_proportion)\n"
   ]
  },
  {
   "cell_type": "code",
   "execution_count": 139,
   "metadata": {
    "collapsed": false
   },
   "outputs": [],
   "source": [
    "# Checking values of y\n",
    "#pd.DataFrame(y)\n",
    "y_train = np.squeeze(np.asarray(y_train))\n",
    "y_test  = np.squeeze(np.asarray(y_test))"
   ]
  },
  {
   "cell_type": "markdown",
   "metadata": {},
   "source": [
    "#### Number of folds in cross validation"
   ]
  },
  {
   "cell_type": "code",
   "execution_count": 140,
   "metadata": {
    "collapsed": true
   },
   "outputs": [],
   "source": [
    "# K-fold crossvalidation\n",
    "K = 10\n",
    "CV = cross_validation.KFold(N,K,shuffle=True)"
   ]
  },
  {
   "cell_type": "code",
   "execution_count": 62,
   "metadata": {
    "collapsed": true
   },
   "outputs": [],
   "source": [
    "# K-fold crossvalidation\n",
    "K = 200\n",
    "CV2 = cross_validation.KFold(N,K,shuffle=True)"
   ]
  },
  {
   "cell_type": "markdown",
   "metadata": {},
   "source": [
    "## K fold two-layer cross-validation \n",
    "## Decision tree"
   ]
  },
  {
   "cell_type": "markdown",
   "metadata": {},
   "source": [
    "Testing the tree size - Hunt's algorithm\n",
    "\n",
    "+ final tree size"
   ]
  },
  {
   "cell_type": "code",
   "execution_count": 66,
   "metadata": {
    "collapsed": false
   },
   "outputs": [],
   "source": [
    "# Entropy and deviance is a measure for the same thing\n",
    "# Gini and gdi the same\n",
    "split_crit = ['entropy']\n",
    "\n",
    "for crit in split_crit:\n",
    "    # Fit regression tree classifier, Gini split criterion, no pruning\n",
    "    dtc = tree.DecisionTreeClassifier(criterion=crit, min_samples_split=2, max_depth=5)\n",
    "    dtc = dtc.fit(X,y)\n",
    "    # creating filenames for the two visualizations\n",
    "    filename = \"full_tree_\"+ crit +\".dot\"\n",
    "\n",
    "    # Export tree graph for visualization purposes:\n",
    "    # (note: you can use i.e. Graphviz application to visualize the file)\n",
    "    export_graphviz(dtc, out_file=filename, feature_names=attributeNames, filled=True, rounded=True)\n",
    "\n",
    "    # Saving file png + graphviz object\n",
    "    with open(filename) as f:\n",
    "        dot_graph = f.read()\n",
    "    graphviz.Source(dot_graph)\n",
    "    # Save to png for report\n",
    "    #check_call(['dot','-Tpng',filename,'-o',\"full_tree_\"+ crit + \".png\"])"
   ]
  },
  {
   "cell_type": "markdown",
   "metadata": {},
   "source": [
    "Pruning the decision tree"
   ]
  },
  {
   "cell_type": "code",
   "execution_count": 67,
   "metadata": {
    "collapsed": false
   },
   "outputs": [
    {
     "data": {
      "image/png": "[encoded data removed]",
      "text/plain": [
       "<matplotlib.figure.Figure at 0xd6b8518>"
      ]
     },
     "metadata": {},
     "output_type": "display_data"
    },
    {
     "data": {
      "image/png": "[encoded data removed]",
      "text/plain": [
       "<matplotlib.figure.Figure at 0xd761ba8>"
      ]
     },
     "metadata": {},
     "output_type": "display_data"
    }
   ],
   "source": [
    "# Tree complexity parameter - constraint on maximum depth\n",
    "tc = np.arange(2, 21, 1)\n",
    "\n",
    "# Initialize variable\n",
    "Error_train = np.empty((len(tc),K))\n",
    "Error_test  = np.empty((len(tc),K))\n",
    "\n",
    "k=0\n",
    "for train_index, test_index in CV:\n",
    "    #print('Computing CV fold: {0}/{1}..'.format(k+1,K))\n",
    "\n",
    "    # extract training and test set for current CV fold\n",
    "    X_train, y_train = X[train_index,:], y[train_index]\n",
    "    X_test, y_test   = X[test_index,:], y[test_index]\n",
    "\n",
    "    for i, t in enumerate(tc):\n",
    "        \n",
    "        # Fit decision tree classifier, Gini split criterion, different pruning levels\n",
    "        dtc = tree.DecisionTreeClassifier(criterion='gini', max_depth=t)\n",
    "        dtc = dtc.fit(X_train, np.squeeze(np.asarray(y_train)))\n",
    "        \n",
    "        y_est_test = dtc.predict(X_test)\n",
    "        y_est_train = dtc.predict(X_train)\n",
    "        \n",
    "        # Evaluate misclassification rate over train/test data (in this CV fold)\n",
    "        misclass_rate_test =  sum(np.abs(y_est_test - np.squeeze(np.asarray(y_test)))) / float(len(y_est_test))\n",
    "        misclass_rate_train = sum(np.abs(y_est_train - np.squeeze(np.asarray(y_train)))) / float(len(y_est_train))\n",
    "        Error_test[i,k]  = misclass_rate_test \n",
    "        Error_train[i,k] = misclass_rate_train\n",
    "        \n",
    "        knclassifier = KNeighborsClassifier(n_neighbors=l);\n",
    "        knclassifier.fit(np.squeeze(np.asarray(X_train)), np.squeeze(np.asarray(y_train)));\n",
    "        y_est = knclassifier.predict(X_test);\n",
    "        errors[i,l-1] = np.sum(y_est[0]!=y_test[0])\n",
    "        \n",
    "    k+=1\n",
    "\n",
    "#Saving tree\n",
    "export_graphviz(dtc, out_file=\"myCVtree_\"+ crit + \".dot\", feature_names=attributeNames, filled=True, rounded=True)\n",
    "# Saving file png + graphviz object\n",
    "with open(\"myCVtree_\"+ crit + \".dot\") as f:\n",
    "    dot_graph = f.read()\n",
    "graphviz.Source(dot_graph)\n",
    "# Save to png for report\n",
    "#check_call(['dot','-Tpng',\"myCVtree_\"+ crit + \".dot\",'-o',\"myCVtree_\"+ crit + \".png\"])\n",
    "    \n",
    "# Plotting\n",
    "f = figure(); f.hold(True)\n",
    "boxplot(Error_test.T)\n",
    "xlabel('Model complexity (max tree depth)')\n",
    "ylabel('Test error across CV folds, K={0})'.format(K))\n",
    "f.savefig('misclass_errCV'+str(K)+\".png\")\n",
    "\n",
    "f = figure(); f.hold(True)\n",
    "plot(tc, Error_train.mean(1))\n",
    "plot(tc, Error_test.mean(1))\n",
    "xlabel('Model complexity (max tree depth)')\n",
    "ylabel('Error (misclassification rate, CV K={0})'.format(K))\n",
    "legend(['Error_train','Error_test'])\n",
    "f.savefig('test_errCV'+str(K)+\".png\")\n",
    "\n",
    "show()"
   ]
  },
  {
   "cell_type": "markdown",
   "metadata": {},
   "source": [
    "## KNN"
   ]
  },
  {
   "cell_type": "code",
   "execution_count": 83,
   "metadata": {
    "collapsed": false
   },
   "outputs": [
    {
     "data": {
      "image/png": "[encoded data removed]",
      "text/plain": [
       "<matplotlib.figure.Figure at 0xc90d390>"
      ]
     },
     "metadata": {},
     "output_type": "display_data"
    }
   ],
   "source": [
    "y = np.squeeze(np.asarray(y))\n",
    "X = np.squeeze(np.asarray(y))\n",
    "# Maximum number of neighbors\n",
    "L=30\n",
    "\n",
    "#CV = cross_validation.LeaveOneOut(N) -- using the k fold cross validation instead\n",
    "errors = np.zeros((N,L))\n",
    "i=0\n",
    "for train_index, test_index in CV:\n",
    "    #print('Crossvalidation fold: {0}/{1}'.format(i+1,N))    \n",
    "    \n",
    "    # extract training and test set for current CV fold\n",
    "    X_train = X[train_index,:]\n",
    "    y_train = y[train_index]\n",
    "    X_test = X[test_index,:]\n",
    "    y_test = y[test_index]\n",
    "\n",
    "    # Fit classifier and classify the test points (consider 1 to 40 neighbors)\n",
    "    for l in range(1,L+1):\n",
    "        knclassifier = KNeighborsClassifier(n_neighbors=l);\n",
    "        knclassifier.fit(np.squeeze(np.asarray(X_train)), np.squeeze(np.asarray(y_train)));\n",
    "        y_est = knclassifier.predict(X_test);\n",
    "        errors[i,l-1] = np.sum(y_est[0]!=y_test[0])\n",
    "\n",
    "    i+=1\n",
    "    \n",
    "# Plot the classification error rate\n",
    "figure()\n",
    "plot(100*sum(errors,0)/N)\n",
    "xlabel('Number of neighbors')\n",
    "ylabel('Classification error rate (%)')\n",
    "show()"
   ]
  },
  {
   "cell_type": "code",
   "execution_count": 109,
   "metadata": {
    "collapsed": false
   },
   "outputs": [
    {
     "data": {
      "image/png": "[encoded data removed]",
      "text/plain": [
       "<matplotlib.figure.Figure at 0xd26e1d0>"
      ]
     },
     "metadata": {},
     "output_type": "display_data"
    },
    {
     "data": {
      "image/png": "[encoded data removed]",
      "text/plain": [
       "<matplotlib.figure.Figure at 0xd2807f0>"
      ]
     },
     "metadata": {},
     "output_type": "display_data"
    }
   ],
   "source": [
    "# Plot the training data points (color-coded) and test data points.\n",
    "figure(1);\n",
    "hold(True);\n",
    "styles = ['.b', '.r']\n",
    "for c in range(C):\n",
    "    class_mask = (np.squeeze(np.asarray(y_train))==c)\n",
    "    plot(X_train[class_mask,0], X_train[class_mask,1], styles[c])\n",
    "\n",
    "# K-nearest neighbors\n",
    "K=3\n",
    "\n",
    "# Distance metric (corresponds to 2nd norm, euclidean distance).\n",
    "dist=2\n",
    "\n",
    "# Fit classifier and classify the test points\n",
    "knclassifier = KNeighborsClassifier(n_neighbors=K, weights='distance', p=dist);\n",
    "knclassifier.fit(X_train, np.squeeze(np.asarray(y_train)));\n",
    "y_est = knclassifier.predict(X_test);\n",
    "\n",
    "# Plot the classfication results\n",
    "styles = ['ob', 'or']\n",
    "for c in range(C):\n",
    "    class_mask = (y_est==c)\n",
    "    plot(X_test[class_mask,0], X_test[class_mask,1], styles[c], markersize=8)\n",
    "    plot(X_test[class_mask,0], X_test[class_mask,1], 'kx', markersize=6)\n",
    "title('Heart Disease data classification - KNN');\n",
    "savefig(\"knn_plot.png\")\n",
    "\n",
    "# Compute and plot confusion matrix\n",
    "cm = confusion_matrix(y_test, y_est);\n",
    "accuracy = 100*cm.diagonal().sum()/cm.sum(); error_rate = 100-accuracy;\n",
    "figure(2);\n",
    "imshow(cm, cmap='binary', interpolation='None');\n",
    "colorbar()\n",
    "xticks(range(C)); yticks(range(C));\n",
    "xlabel('Predicted class'); ylabel('Actual class');\n",
    "title('Confusion matrix (Accuracy: {0}%, Error Rate: {1}%)'.format(accuracy, error_rate));\n",
    "savefig(\"knn_conf.png\")\n",
    "\n",
    "show()"
   ]
  },
  {
   "cell_type": "code",
   "execution_count": 173,
   "metadata": {
    "collapsed": false
   },
   "outputs": [
    {
     "data": {
      "text/plain": [
       "array([[-1.3887959 , -0.28684961],\n",
       "       [-0.32146789, -1.29128936],\n",
       "       [-1.362537  , -0.2957283 ],\n",
       "       [-1.15942071, -0.37639356],\n",
       "       [-0.97386539, -0.47420534],\n",
       "       [-0.21681758, -1.63514972],\n",
       "       [-0.98708304, -0.46627004],\n",
       "       [-0.17477787, -1.83035589],\n",
       "       [-0.91005081, -0.51500731],\n",
       "       [-0.87921145, -0.53633169],\n",
       "       [-1.16328838, -0.37463092],\n",
       "       [-0.04475887, -3.12876165],\n",
       "       [-0.03180173, -3.46409337],\n",
       "       [-0.73103128, -0.65664605],\n",
       "       [-0.19596792, -1.72618866],\n",
       "       [-1.76099241, -0.18859022],\n",
       "       [-2.27639899, -0.10831287],\n",
       "       [-0.52803717, -0.89101643],\n",
       "       [-0.85111617, -0.5567616 ],\n",
       "       [-0.29686293, -1.35924695],\n",
       "       [-1.00241237, -0.45727388],\n",
       "       [-1.37221473, -0.29241968],\n",
       "       [-0.86865924, -0.54388897],\n",
       "       [-1.06658059, -0.42187412],\n",
       "       [-0.64960253, -0.73867463],\n",
       "       [-0.20172884, -1.70000025],\n",
       "       [-1.04650412, -0.4325741 ],\n",
       "       [-0.37417481, -1.16429277],\n",
       "       [-0.5771045 , -0.82444541],\n",
       "       [-0.15884067, -1.91822296],\n",
       "       [-0.23434882, -1.56583174],\n",
       "       [-0.21291369, -1.65143711],\n",
       "       [-0.28437824, -1.39627186],\n",
       "       [-1.9754969 , -0.14930356],\n",
       "       [-0.48336145, -0.95895525],\n",
       "       [-0.04686964, -3.08372838],\n",
       "       [-0.02387553, -3.74681528],\n",
       "       [-0.45184526, -1.01184573],\n",
       "       [-0.04664064, -3.0885126 ],\n",
       "       [-0.31204981, -1.31656336],\n",
       "       [-2.04526259, -0.13851088],\n",
       "       [-0.4646361 , -0.98983966],\n",
       "       [-0.03702213, -3.31469333],\n",
       "       [-0.13156221, -2.09333551],\n",
       "       [-0.35734176, -1.20241862],\n",
       "       [-0.22153131, -1.61591301],\n",
       "       [-0.46469665, -0.98973728],\n",
       "       [-0.34094731, -1.24166212],\n",
       "       [-0.28461316, -1.39555801],\n",
       "       [-0.06226905, -2.8072638 ],\n",
       "       [-0.16722668, -1.87085342],\n",
       "       [-0.04508267, -3.12171411],\n",
       "       [-0.71747003, -0.66940191],\n",
       "       [-0.59645462, -0.80019987],\n",
       "       [-1.55945707, -0.23603908],\n",
       "       [-0.10774925, -2.28133946],\n",
       "       [-0.04500873, -3.12331866],\n",
       "       [-0.81094075, -0.58777824],\n",
       "       [-0.24726083, -1.51839579],\n",
       "       [-0.03761225, -3.29917258],\n",
       "       [-0.48257867, -0.96021599],\n",
       "       [-0.13586607, -2.06324967],\n",
       "       [-0.04519922, -3.11918994],\n",
       "       [-0.12259911, -2.1595089 ],\n",
       "       [-0.19871902, -1.71357808],\n",
       "       [-0.17775751, -1.81489751],\n",
       "       [-0.22581722, -1.59881414],\n",
       "       [-0.15220928, -1.9576384 ],\n",
       "       [-0.30618814, -1.33274634],\n",
       "       [-0.79123144, -0.60382994],\n",
       "       [-0.53214901, -0.88513469],\n",
       "       [-0.4492626 , -1.01638324],\n",
       "       [-0.73477814, -0.65318031],\n",
       "       [-0.47680678, -0.96959252],\n",
       "       [-1.20633707, -0.3556634 ],\n",
       "       [-0.7206402 , -0.66638985],\n",
       "       [-0.14232047, -2.01999038],\n",
       "       [-0.13675918, -2.05713411],\n",
       "       [-0.67845853, -0.7080548 ],\n",
       "       [-0.14249634, -2.01884121],\n",
       "       [-0.04496832, -3.12419683],\n",
       "       [-0.09962573, -2.35573418],\n",
       "       [-0.2696694 , -1.442365  ],\n",
       "       [-0.50100192, -0.93120963],\n",
       "       [-0.47821913, -0.96728499],\n",
       "       [-0.21655587, -1.6362314 ],\n",
       "       [-0.3373453 , -1.25058363],\n",
       "       [-1.43264112, -0.2726985 ],\n",
       "       [-0.41257103, -1.08455015],\n",
       "       [-1.25423069, -0.33588575],\n",
       "       [-0.10214843, -2.33196784],\n",
       "       [-0.37358981, -1.16558312],\n",
       "       [-0.07808755, -2.58871439],\n",
       "       [-0.16630016, -1.87595894],\n",
       "       [-0.57748083, -0.82396368],\n",
       "       [-0.45576924, -1.00501296],\n",
       "       [-0.2726418 , -1.43282202],\n",
       "       [-0.04281927, -3.17210022],\n",
       "       [-0.15111418, -1.96432539],\n",
       "       [-2.18784395, -0.11896182],\n",
       "       [-0.14675848, -1.99144903],\n",
       "       [-0.95818249, -0.48384203],\n",
       "       [-1.583692  , -0.22968495],\n",
       "       [-0.91356786, -0.512645  ],\n",
       "       [-0.243754  , -1.53099831],\n",
       "       [-0.08407223, -2.51782062],\n",
       "       [-1.22473103, -0.3479088 ],\n",
       "       [-0.12523699, -2.13951246],\n",
       "       [-0.67422672, -0.71243254],\n",
       "       [-0.17456752, -1.83145802],\n",
       "       [-0.16307508, -1.89397427],\n",
       "       [-0.32580136, -1.27994922],\n",
       "       [-0.36963443, -1.17437158],\n",
       "       [-2.5014309 , -0.08552262],\n",
       "       [-0.17009899, -1.85521891],\n",
       "       [-0.30735105, -1.3295073 ],\n",
       "       [-0.63925008, -0.7501155 ],\n",
       "       [-1.70732382, -0.20009921],\n",
       "       [-1.05847064, -0.42615682],\n",
       "       [-0.22090676, -1.61843544],\n",
       "       [-0.07513047, -2.62585908],\n",
       "       [-0.47608048, -0.97078252],\n",
       "       [-0.2870917 , -1.38806757],\n",
       "       [-1.01343837, -0.45093666],\n",
       "       [-0.12704004, -2.12610065],\n",
       "       [-0.31076277, -1.32008617],\n",
       "       [-0.05636925, -2.90388377],\n",
       "       [-0.54682914, -0.8646051 ],\n",
       "       [-1.02892128, -0.44222082],\n",
       "       [-0.38532171, -1.14015881],\n",
       "       [-0.30394102, -1.33904591],\n",
       "       [-0.60046972, -0.79529932],\n",
       "       [-0.16498396, -1.88326508],\n",
       "       [-0.18061794, -1.80032137],\n",
       "       [-0.522133  , -0.89956584],\n",
       "       [-0.18573421, -1.77486874],\n",
       "       [-0.87513589, -0.53923432],\n",
       "       [-0.56294704, -0.84287339],\n",
       "       [-0.36916034, -1.17543251],\n",
       "       [-0.09644332, -2.38663393],\n",
       "       [-0.04654122, -3.09059726],\n",
       "       [-0.59854318, -0.79764527],\n",
       "       [-1.12089598, -0.39450675],\n",
       "       [-0.03289963, -3.4306985 ],\n",
       "       [-0.70929394, -0.677257  ],\n",
       "       [-0.08453124, -2.51260201],\n",
       "       [-0.36807965, -1.177857  ],\n",
       "       [-0.23955852, -1.54634679],\n",
       "       [-2.33325851, -0.10200972],\n",
       "       [-0.0327441 , -3.43535979],\n",
       "       [-0.12170188, -2.16641474],\n",
       "       [-0.03299725, -3.42778427],\n",
       "       [-0.56242532, -0.84356405],\n",
       "       [-0.51196313, -0.91458689],\n",
       "       [-0.86225689, -0.54854156],\n",
       "       [-0.164412  , -1.88645974],\n",
       "       [-1.11770542, -0.39605353],\n",
       "       [-0.09411209, -2.40995581],\n",
       "       [-0.17192895, -1.8454071 ],\n",
       "       [-0.23251802, -1.57279488],\n",
       "       [-0.52389816, -0.89699687],\n",
       "       [-0.80152496, -0.59537508],\n",
       "       [-0.25836765, -1.47977568],\n",
       "       [-0.03260079, -3.43967492],\n",
       "       [-0.21896863, -1.6263141 ],\n",
       "       [-0.56528246, -0.83979191],\n",
       "       [-0.2581    , -1.48068405],\n",
       "       [-0.63261445, -0.75758157],\n",
       "       [-0.96926002, -0.47700997],\n",
       "       [-0.34109598, -1.2412963 ],\n",
       "       [-0.77718911, -0.61562399],\n",
       "       [-0.36836434, -1.17721749],\n",
       "       [-1.62188117, -0.22005678],\n",
       "       [-0.18828057, -1.76248569],\n",
       "       [-1.32088232, -0.31047276],\n",
       "       [-0.96262334, -0.48108843],\n",
       "       [-0.12346987, -2.15285793],\n",
       "       [-0.76074203, -0.62983354],\n",
       "       [-0.27985539, -1.4101488 ],\n",
       "       [-0.14389339, -2.00976672],\n",
       "       [-0.04311875, -3.16527924],\n",
       "       [-0.12768437, -2.1213569 ],\n",
       "       [-0.04831229, -3.05412818],\n",
       "       [-0.26923704, -1.4437631 ],\n",
       "       [-1.09509298, -0.40722942],\n",
       "       [-0.09683471, -2.38277642],\n",
       "       [-0.07995967, -2.56594632],\n",
       "       [-0.39934411, -1.11096784],\n",
       "       [-0.19981136, -1.70862428],\n",
       "       [-0.37593003, -1.1604357 ],\n",
       "       [-0.57238743, -0.83051885],\n",
       "       [-0.15775736, -1.92453901],\n",
       "       [-0.27911342, -1.41244986],\n",
       "       [-1.1215256 , -0.39420237],\n",
       "       [-0.79458124, -0.60106106],\n",
       "       [-1.10078671, -0.40437967],\n",
       "       [-0.51298003, -0.9130678 ],\n",
       "       [-0.6274813 , -0.76343002],\n",
       "       [-0.11062189, -2.25643842],\n",
       "       [-0.17871866, -1.80997127],\n",
       "       [-0.0499605 , -3.02139883],\n",
       "       [-1.30884687, -0.31489072],\n",
       "       [-0.08027422, -2.56217536],\n",
       "       [-0.99743089, -0.46017335],\n",
       "       [-0.05300442, -2.96376515],\n",
       "       [-0.62267708, -0.76896237],\n",
       "       [-0.9795278 , -0.47078531],\n",
       "       [-0.53427606, -0.88211501],\n",
       "       [-0.33095606, -1.26668802],\n",
       "       [-0.3411716 , -1.24111028],\n",
       "       [-0.87379011, -0.54019725],\n",
       "       [-1.05757999, -0.4266304 ],\n",
       "       [-0.61042046, -0.78333989],\n",
       "       [-1.06911329, -0.42054748],\n",
       "       [-0.38379383, -1.1434168 ],\n",
       "       [-0.09278523, -2.42350173],\n",
       "       [-0.10334015, -2.32095443],\n",
       "       [-0.8055391 , -0.59212058],\n",
       "       [-0.44068176, -1.03169455],\n",
       "       [-0.9988935 , -0.45931967],\n",
       "       [-0.12196184, -2.1644083 ],\n",
       "       [-0.05804434, -2.87542995],\n",
       "       [-0.38978244, -1.13073533],\n",
       "       [-0.61959786, -0.77253853],\n",
       "       [-0.2946026 , -1.36581558],\n",
       "       [-0.92035762, -0.50812352],\n",
       "       [-1.31758114, -0.31167733],\n",
       "       [-0.16863972, -1.86312581],\n",
       "       [-0.74362174, -0.64509835],\n",
       "       [-0.43553005, -1.04106536],\n",
       "       [-0.59315103, -0.80426497],\n",
       "       [-0.10387771, -2.31603022],\n",
       "       [-0.40044622, -1.10872626],\n",
       "       [-1.02481328, -0.44451285],\n",
       "       [-1.08490127, -0.41239176],\n",
       "       [-1.5162483 , -0.24786406],\n",
       "       [-0.89126904, -0.52786149],\n",
       "       [-0.59237486, -0.80522442],\n",
       "       [-0.90658763, -0.51734706],\n",
       "       [-0.72705657, -0.66035002],\n",
       "       [-0.03612947, -3.33865688],\n",
       "       [-0.15961786, -1.91372027],\n",
       "       [-0.51072923, -0.91643533],\n",
       "       [-0.87124935, -0.54202129],\n",
       "       [-0.02309636, -3.77960635],\n",
       "       [-0.06631934, -2.74625021],\n",
       "       [-0.73363166, -0.65423812],\n",
       "       [-0.13975954, -2.03689791],\n",
       "       [-1.15243662, -0.37960175],\n",
       "       [-0.23779585, -1.55288565],\n",
       "       [-0.20437397, -1.688251  ],\n",
       "       [-0.38006772, -1.15142811],\n",
       "       [-0.15724046, -1.92756931],\n",
       "       [-0.93415462, -0.49909123],\n",
       "       [-1.23817454, -0.34236772],\n",
       "       [-0.45495051, -1.00643255],\n",
       "       [-0.03191211, -3.46068342],\n",
       "       [-0.04948629, -3.03070073],\n",
       "       [-0.13042357, -2.10147105],\n",
       "       [-0.20097562, -1.70337708],\n",
       "       [-0.47254512, -0.97660774],\n",
       "       [-0.05853782, -2.86720844],\n",
       "       [-0.07319849, -2.65095653],\n",
       "       [-0.04625704, -3.096581  ],\n",
       "       [-0.03682859, -3.31983872],\n",
       "       [-0.05798835, -2.87636727],\n",
       "       [-0.16361848, -1.89091191],\n",
       "       [-0.02307447, -3.7805436 ],\n",
       "       [-0.08449488, -2.51301429],\n",
       "       [-1.60993652, -0.22301894],\n",
       "       [-0.19337244, -1.73826588],\n",
       "       [-0.09696399, -2.3815059 ],\n",
       "       [-0.61794325, -0.77447002],\n",
       "       [-0.4002018 , -1.10922276],\n",
       "       [-0.22370996, -1.6071755 ],\n",
       "       [-0.19688854, -1.72194705],\n",
       "       [-1.2259452 , -0.34740401],\n",
       "       [-0.08313414, -2.52857899],\n",
       "       [-0.26758918, -1.44911525],\n",
       "       [-0.4165136 , -1.07687491],\n",
       "       [-0.13352522, -2.07948475],\n",
       "       [-0.28740858, -1.38711527],\n",
       "       [-0.7985114 , -0.59783397],\n",
       "       [-0.23754285, -1.55382865],\n",
       "       [-0.59781111, -0.79853934],\n",
       "       [-0.44055562, -1.03192237],\n",
       "       [-0.30326762, -1.34094423],\n",
       "       [-0.19816214, -1.71611514],\n",
       "       [-0.07650515, -2.60840598],\n",
       "       [-1.62284771, -0.21981901],\n",
       "       [-0.29898539, -1.35313137],\n",
       "       [-0.83716378, -0.56728432],\n",
       "       [-0.42853893, -1.05400293],\n",
       "       [-0.31784795, -1.3009002 ],\n",
       "       [-1.16380808, -0.37439483],\n",
       "       [-0.30514981, -1.33565051],\n",
       "       [-0.2275642 , -1.59194817],\n",
       "       [-0.68205871, -0.70435999],\n",
       "       [-0.07518046, -2.62521864],\n",
       "       [-0.15425433, -1.94528847],\n",
       "       [-0.16098144, -1.90587737],\n",
       "       [-0.02810314, -3.58589263],\n",
       "       [-0.35630187, -1.20484386],\n",
       "       [-1.30686584, -0.31562492],\n",
       "       [-0.71253826, -0.67412498],\n",
       "       [-0.46549568, -0.98838795],\n",
       "       [-0.43625249, -1.03974304],\n",
       "       [-0.5093743 , -0.91847167],\n",
       "       [-0.27192213, -1.4351216 ],\n",
       "       [-0.09942973, -2.35760711],\n",
       "       [-0.42708535, -1.05672552],\n",
       "       [-0.99941614, -0.4590151 ],\n",
       "       [-0.0617035 , -2.81610772],\n",
       "       [-0.18170415, -1.79485224],\n",
       "       [-0.89367268, -0.52619363],\n",
       "       [-0.69256801, -0.69372669],\n",
       "       [-0.36038067, -1.19537915],\n",
       "       [-0.43340139, -1.04497736],\n",
       "       [-0.3286711 , -1.2725363 ],\n",
       "       [-1.06641937, -0.42195874],\n",
       "       [-0.62713148, -0.76383093],\n",
       "       [-0.56945167, -0.83433206],\n",
       "       [-0.59912658, -0.7969338 ],\n",
       "       [-0.43270522, -1.0462619 ],\n",
       "       [-1.7355698 , -0.19394855],\n",
       "       [-0.07725338, -2.59904268],\n",
       "       [-0.40111323, -1.10737329],\n",
       "       [-0.61114263, -0.78248207],\n",
       "       [-0.8320021 , -0.57124313],\n",
       "       [-0.09170912, -2.4346376 ],\n",
       "       [-0.11090938, -2.253984  ],\n",
       "       [-0.6150192 , -0.77790042],\n",
       "       [-0.24433566, -1.52889391],\n",
       "       [-1.59151494, -0.22767494],\n",
       "       [-0.96571352, -0.47918397],\n",
       "       [-0.22196687, -1.61415853],\n",
       "       [-1.13722882, -0.38670203],\n",
       "       [-0.28654896, -1.38970141],\n",
       "       [-0.09280338, -2.42331509],\n",
       "       [-0.15772078, -1.92475311],\n",
       "       [-0.54387209, -0.86868261],\n",
       "       [-0.23358997, -1.56871046],\n",
       "       [-0.66897619, -0.71791691],\n",
       "       [-0.21270033, -1.65233683],\n",
       "       [-0.62721173, -0.76373893],\n",
       "       [-1.48773521, -0.2560331 ],\n",
       "       [-0.18253697, -1.79068309],\n",
       "       [-0.81684061, -0.58308337],\n",
       "       [-1.23893777, -0.34205628],\n",
       "       [-0.6445673 , -0.7442081 ],\n",
       "       [-0.85612829, -0.55304377],\n",
       "       [-0.12485159, -2.14240592],\n",
       "       [-0.62315781, -0.7684062 ],\n",
       "       [-0.46654418, -0.98662173],\n",
       "       [-0.46055868, -0.99677183],\n",
       "       [-0.34118593, -1.24107503],\n",
       "       [-0.33477129, -1.25702803],\n",
       "       [-0.10064883, -2.34602012],\n",
       "       [-1.20664922, -0.3555301 ],\n",
       "       [-0.41645067, -1.07699671],\n",
       "       [-0.7987781 , -0.59761582],\n",
       "       [-0.20620593, -1.68021183],\n",
       "       [-0.31736771, -1.30218482],\n",
       "       [-0.9755068 , -0.47321075],\n",
       "       [-0.50533122, -0.92458937],\n",
       "       [-0.67196717, -0.71478551],\n",
       "       [-2.54135115, -0.08203459],\n",
       "       [-2.2309296 , -0.11364868],\n",
       "       [-0.15695418, -1.92925221],\n",
       "       [-0.02856535, -3.56980953],\n",
       "       [-1.89565301, -0.16277803],\n",
       "       [-0.44678563, -1.02076559],\n",
       "       [-1.77773545, -0.18515012],\n",
       "       [-0.86222828, -0.54856246],\n",
       "       [-0.88243836, -0.53404777],\n",
       "       [-0.38095639, -1.14950887],\n",
       "       [-0.8876789 , -0.53036534],\n",
       "       [-0.34022692, -1.24343748],\n",
       "       [-0.1346209 , -2.07184806],\n",
       "       [-0.18513364, -1.77781649],\n",
       "       [-0.32125736, -1.29184484],\n",
       "       [-1.48940271, -0.25554706],\n",
       "       [-0.13516098, -2.0681082 ],\n",
       "       [-0.07073149, -2.68402172],\n",
       "       [-0.58767317, -0.81107211],\n",
       "       [-0.15577565, -1.9362154 ],\n",
       "       [-0.4786362 , -0.96660521],\n",
       "       [-0.10251485, -2.32856718],\n",
       "       [-0.0723494 , -2.66220479],\n",
       "       [-0.0197459 , -3.93466612],\n",
       "       [-0.0387992 , -3.26869262],\n",
       "       [-0.036123  , -3.33883257],\n",
       "       [-0.16790884, -1.86711402],\n",
       "       [-0.02898115, -3.55556536],\n",
       "       [-0.11790043, -2.19628594],\n",
       "       [-0.05258594, -2.97148423],\n",
       "       [-0.09384201, -2.41269676],\n",
       "       [-0.18541977, -1.77641077],\n",
       "       [-0.17475552, -1.83047293],\n",
       "       [-0.61537728, -0.77747916],\n",
       "       [-0.22801144, -1.59019991],\n",
       "       [-0.13559842, -2.06509077],\n",
       "       [-0.25287583, -1.4986316 ],\n",
       "       [-0.10588995, -2.29783278],\n",
       "       [-0.09527887, -2.39820839],\n",
       "       [-0.12503034, -2.14106273],\n",
       "       [-0.79426664, -0.60132038],\n",
       "       [-0.1195486 , -2.18321114],\n",
       "       [-0.6227776 , -0.76884603],\n",
       "       [-0.51831252, -0.90516445],\n",
       "       [-0.21632027, -1.63720637],\n",
       "       [-0.06957372, -2.69995356],\n",
       "       [-0.76345831, -0.6274566 ],\n",
       "       [-0.41707547, -1.07578831],\n",
       "       [-0.13575328, -2.06402502],\n",
       "       [-0.54360916, -0.86904656]])"
      ]
     },
     "execution_count": 173,
     "metadata": {},
     "output_type": "execute_result"
    }
   ],
   "source": [
    "model.predict_log_proba(X_train)"
   ]
  },
  {
   "cell_type": "markdown",
   "metadata": {},
   "source": [
    "## Logistic Regression"
   ]
  },
  {
   "cell_type": "code",
   "execution_count": 167,
   "metadata": {
    "collapsed": false
   },
   "outputs": [
    {
     "name": "stdout",
     "output_type": "stream",
     "text": [
      "Computing CV fold: 1/10..\n",
      "Computing CV fold: 2/10..\n",
      "Computing CV fold: 3/10..\n",
      "Computing CV fold: 4/10..\n",
      "Computing CV fold: 5/10..\n",
      "Computing CV fold: 6/10..\n",
      "Computing CV fold: 7/10..\n",
      "Computing CV fold: 8/10..\n",
      "Computing CV fold: 9/10..\n",
      "Computing CV fold: 10/10..\n",
      "Error rate: 441.335%\n"
     ]
    },
    {
     "data": {
      "image/png": "[encoded data removed]",
      "text/plain": [
       "<matplotlib.figure.Figure at 0xe2ada90>"
      ]
     },
     "metadata": {},
     "output_type": "display_data"
    },
    {
     "data": {
      "image/png": "[encoded data removed]",
      "text/plain": [
       "<matplotlib.figure.Figure at 0xd597c88>"
      ]
     },
     "metadata": {},
     "output_type": "display_data"
    }
   ],
   "source": [
    "# exercise 6.1.2\n",
    "Error_logreg = np.empty((K,1))\n",
    "\n",
    "k=0\n",
    "for train_index, test_index in CV:\n",
    "    print('Computing CV fold: {0}/{1}..'.format(k+1,K))\n",
    "\n",
    "    # extract training and test set for current CV fold\n",
    "    X_train = X[train_index,:]\n",
    "    y_train = y[train_index]\n",
    "    X_test = X[test_index,:]\n",
    "    y_test = y[test_index]\n",
    "\n",
    "    for i, t in enumerate(tc):\n",
    "        # Fit decision tree classifier, logistic regression\n",
    "        model = lm.logistic.LogisticRegression(C=t+20)\n",
    "        model = model.fit(X_train, y_train.A.ravel())\n",
    "\n",
    "        y_est_test = model.predict(X_test)\n",
    "        y_est_train = model.predict(X_train)\n",
    "        # Evaluate misclassification rate over train/test data (in this CV fold)\n",
    "        misclass_rate_test = sum(np.abs(np.mat(y_est_test).T - y_test)) / float(len(y_est_test))\n",
    "        misclass_rate_train = sum(np.abs(np.mat(y_est_train).T - y_train)) / float(len(y_est_train))\n",
    "        Error_test[i,k], Error_train[i,k] = misclass_rate_test, misclass_rate_train\n",
    "        #y_logreg = np.mat(model.predict(X_test)).T\n",
    "        #Error_logreg[k] = 100*(y_logreg!=y_test).sum().astype(float)/len(y_test)\n",
    "\n",
    "    k+=1\n",
    "\n",
    "    \n",
    "f = figure(figsize=(10,6)); f.hold(True)\n",
    "boxplot(Error_test.T)\n",
    "xlabel('Model complexity, regularization strength C')\n",
    "ylabel('Test error across CV folds, K={0})'.format(K))\n",
    "\n",
    "f = figure(figsize=(10,6)); f.hold(True)\n",
    "plot(tc, Error_train.mean(1))\n",
    "plot(tc, Error_test.mean(1))\n",
    "xlabel('Model complexity, regularization strength C')\n",
    "ylabel('Error (misclassification rate, CV K={0})'.format(K))\n",
    "legend(['Error_train','Error_test'])\n",
    "\n",
    "print('Error rate: {0}%'.format(np.mean(Error_logreg)))\n",
    "\n",
    "show()\n"
   ]
  },
  {
   "cell_type": "markdown",
   "metadata": {
    "collapsed": true
   },
   "source": [
    "## Naïve Bayes "
   ]
  },
  {
   "cell_type": "code",
   "execution_count": 163,
   "metadata": {
    "collapsed": false
   },
   "outputs": [
    {
     "ename": "SyntaxError",
     "evalue": "invalid syntax (<ipython-input-163-e12fa3749ed1>, line 29)",
     "output_type": "error",
     "traceback": [
      "\u001b[1;36m  File \u001b[1;32m\"<ipython-input-163-e12fa3749ed1>\"\u001b[1;36m, line \u001b[1;32m29\u001b[0m\n\u001b[1;33m    k+=1log\u001b[0m\n\u001b[1;37m          ^\u001b[0m\n\u001b[1;31mSyntaxError\u001b[0m\u001b[1;31m:\u001b[0m invalid syntax\n"
     ]
    }
   ],
   "source": [
    "# exercise 6.3.1\n",
    "\n",
    "# Initialize variables\n",
    "Error_logreg = np.empty((K,1))\n",
    "Error_dectree = np.empty((K,1))\n",
    "n_tested=0\n",
    "\n",
    "k=0\n",
    "for train_index, test_index in CV:\n",
    "    \n",
    "    # extract training and test set for current CV fold\n",
    "    X_train = X[train_index,:]\n",
    "    y_train = y[train_index,:]\n",
    "    X_test = X[test_index,:]\n",
    "    y_test = y[test_index,:]\n",
    "\n",
    "    # Fit and evaluate Logistic Regression classifier\n",
    "    model = lm.logistic.LogisticRegression(C=N)\n",
    "    model = model.fit(X_train, y_train.A.ravel())\n",
    "    y_logreg = np.mat(model.predict(X_test)).T\n",
    "    Error_logreg[k] = 100*(y_logreg!=y_test).sum().astype(float)/len(y_test)\n",
    "    \n",
    "    # Fit and evaluate Decision Tree classifier\n",
    "    model2 = tree.DecisionTreeClassifier()\n",
    "    model2 = model2.fit(X_train, y_train.A.ravel())\n",
    "    y_dectree = np.mat(model2.predict(X_test)).T\n",
    "    Error_dectree[k] = 100*(y_dectree!=y_test).sum().astype(float)/len(y_test)\n",
    "\n",
    "    k+=1log\n",
    "\n",
    "# Use T-test to check if classifiers are significantly different\n",
    "[tstatistic, pvalue] = stats.ttest_ind(Error_logreg,Error_dectree)\n",
    "if pvalue<=0.05:\n",
    "    print('Classifiers are significantly different. (p={0})'.format(pvalue[0]))\n",
    "else:\n",
    "    print('Classifiers are not significantly different (p={0})'.format(pvalue[0]))        \n",
    "    \n",
    "# Boxplot to compare classifier error distributions\n",
    "figure(figsize=(10,6))\n",
    "boxplot(np.bmat('Error_logreg, Error_dectree'))\n",
    "xlabel('Logistic Regression   vs.   Decision Tree')\n",
    "ylabel('Cross-validation error [%]')\n",
    "\n",
    "show()"
   ]
  },
  {
   "cell_type": "code",
   "execution_count": 85,
   "metadata": {
    "collapsed": false
   },
   "outputs": [
    {
     "name": "stdout",
     "output_type": "stream",
     "text": [
      "Crossvalidation fold: 1/10\n",
      "Crossvalidation fold: 2/10\n",
      "Crossvalidation fold: 3/10\n",
      "Crossvalidation fold: 4/10\n",
      "Crossvalidation fold: 5/10\n",
      "Crossvalidation fold: 6/10\n",
      "Crossvalidation fold: 7/10\n",
      "Crossvalidation fold: 8/10\n",
      "Crossvalidation fold: 9/10\n",
      "Crossvalidation fold: 10/10\n",
      "Error rate: 36.1794634598%\n"
     ]
    }
   ],
   "source": [
    "from sklearn.naive_bayes import MultinomialNB\n",
    "# Naive Bayes classifier parameters\n",
    "alpha = 1.0         # additive parameter (e.g. Laplace correction)\n",
    "est_prior = True   # uniform prior (change to True to estimate prior from data)\n",
    "\n",
    "errors = np.zeros(K)\n",
    "\n",
    "K=10\n",
    "k=0\n",
    "for train_index, test_index in CV:\n",
    "    print('Crossvalidation fold: {0}/{1}'.format(k+1,K))    \n",
    "    \n",
    "    # extract training and test set for current CV fold\n",
    "    X_train = X[train_index,:]\n",
    "    y_train = y[train_index]\n",
    "    X_test = X[test_index,:]\n",
    "    y_test = y[test_index]\n",
    "    \n",
    "    nb_classifier = MultinomialNB(alpha=alpha, fit_prior=est_prior)\n",
    "    nb_classifier.fit(X_train, y_train)\n",
    "    y_est_prob = nb_classifier.predict_proba(X_test)\n",
    "    y_est = np.argmax(y_est_prob,1)\n",
    "    \n",
    "    errors[k] = np.sum(y_est!=y_test,dtype=float)/y_test.shape[0]\n",
    "    k+=1\n",
    "    \n",
    "# Print the classification error rate\n",
    "print('Error rate: {0}%'.format(100*np.mean(errors)))"
   ]
  },
  {
   "cell_type": "code",
   "execution_count": null,
   "metadata": {
    "collapsed": true
   },
   "outputs": [],
   "source": []
  },
  {
   "cell_type": "markdown",
   "metadata": {},
   "source": [
    "## P test for evaluating the models\n",
    "Test whether the two best performing models are equally good at classifying"
   ]
  },
  {
   "cell_type": "code",
   "execution_count": 122,
   "metadata": {
    "collapsed": false
   },
   "outputs": [
    {
     "data": {
      "text/plain": [
       "462"
      ]
     },
     "execution_count": 122,
     "metadata": {},
     "output_type": "execute_result"
    }
   ],
   "source": [
    "len(y)"
   ]
  },
  {
   "cell_type": "code",
   "execution_count": null,
   "metadata": {
    "collapsed": false
   },
   "outputs": [],
   "source": []
  },
  {
   "cell_type": "code",
   "execution_count": 141,
   "metadata": {
    "collapsed": false
   },
   "outputs": [
    {
     "name": "stderr",
     "output_type": "stream",
     "text": [
      "C:\\Users\\frksteenhoff\\Anaconda2\\lib\\site-packages\\sklearn\\utils\\validation.py:526: DataConversionWarning: A column-vector y was passed when a 1d array was expected. Please change the shape of y to (n_samples, ), for example using ravel().\n",
      "  y = column_or_1d(y, warn=True)\n",
      "C:\\Users\\frksteenhoff\\Anaconda2\\lib\\site-packages\\ipykernel\\__main__.py:32: DataConversionWarning: A column-vector y was passed when a 1d array was expected. Please change the shape of y to (n_samples, ), for example using ravel().\n"
     ]
    },
    {
     "name": "stdout",
     "output_type": "stream",
     "text": [
      "Classifiers are not significantly different (p=0.0513949071151)\n"
     ]
    },
    {
     "data": {
      "image/png": "[encoded data removed]",
      "text/plain": [
       "<matplotlib.figure.Figure at 0xccdcb38>"
      ]
     },
     "metadata": {},
     "output_type": "display_data"
    }
   ],
   "source": [
    "# exercise 6.3.1\n",
    "\n",
    "# Initialize variables\n",
    "Error_logreg  = np.empty((K,1))\n",
    "Error_dectree = np.empty((K,1))\n",
    "Error_knn     = np.empty((K,1))\n",
    "n_tested=0\n",
    "\n",
    "k=0\n",
    "for train_index, test_index in CV:\n",
    "    \n",
    "    # extract training and test set for current CV fold\n",
    "    X_train = X[train_index,:]\n",
    "    y_train = y[train_index]\n",
    "    X_test = X[test_index,:]\n",
    "    y_test = y[test_index]\n",
    "\n",
    "    # Fit and evaluate Logistic Regression classifier\n",
    "    model = lm.logistic.LogisticRegression(C=N)\n",
    "    model = model.fit(X_train, y_train)\n",
    "    y_logreg = np.mat(model.predict(X_test)).T\n",
    "    Error_logreg[k] = (y_logreg!=y_test).sum().astype(float)/len(y_test)\n",
    "    \n",
    "    # Fit and evaluate Decision Tree classifier\n",
    "    #model2 = tree.DecisionTreeClassifier()\n",
    "    #model2 = model2.fit(X_train, y_train.A.ravel())\n",
    "    #y_dectree = np.mat(model2.predict(X_test)).T\n",
    "    #Error_dectree[k] = 100*(y_dectree!=y_test).sum().astype(float)/len(y_test)\n",
    "\n",
    "    # Fit and evaluate K Nearest Neighbour classifier\n",
    "    model3 = KNeighborsClassifier(n_neighbors=15, weights='distance');\n",
    "    model3 = model3.fit(X_train, y_train);\n",
    "    y_knn = np.mat(model3.predict(X_test)).T;\n",
    "    Error_knn[k] = (y_knn!=y_test).sum().astype(float)/len(y_test)\n",
    "\n",
    "    \n",
    "    k+=1\n",
    "\n",
    "# Use T-test to check if classifiers are significantly different\n",
    "[tstatistic, pvalue] = stats.ttest_ind(Error_logreg, Error_knn)\n",
    "if pvalue<=0.05:\n",
    "    print('Classifiers are significantly different. (p={0})'.format(pvalue[0]))\n",
    "else:\n",
    "    print('Classifiers are not significantly different (p={0})'.format(pvalue[0]))        \n",
    "    \n",
    "# Boxplot to compare classifier error distributions\n",
    "figure(figsize=(10,6))\n",
    "boxplot(np.bmat('Error_logreg, Error_knn'))\n",
    "xlabel('Logistic Regression   vs.   KNN')\n",
    "ylabel('Cross-validation error [%]')\n",
    "title('Paired t-test - comparing performance')\n",
    "\n",
    "savefig(\"t-test.png\")"
   ]
  },
  {
   "cell_type": "code",
   "execution_count": 153,
   "metadata": {
    "collapsed": false
   },
   "outputs": [
    {
     "name": "stdout",
     "output_type": "stream",
     "text": [
      "Optimization terminated successfully.\n",
      "         Current function value: 0.480435\n",
      "         Iterations 7\n"
     ]
    }
   ],
   "source": [
    "import statsmodels.api as sm\n",
    "logit = sm.Logit(y_test, X_test)\n",
    "\n",
    "# fit the model\n",
    "result = logit.fit()"
   ]
  },
  {
   "cell_type": "code",
   "execution_count": 154,
   "metadata": {
    "collapsed": false
   },
   "outputs": [
    {
     "data": {
      "text/html": [
       "<table class=\"simpletable\">\n",
       "<caption>Logit Regression Results</caption>\n",
       "<tr>\n",
       "  <th>Dep. Variable:</th>         <td>y</td>        <th>  No. Observations:  </th>  <td>    46</td> \n",
       "</tr>\n",
       "<tr>\n",
       "  <th>Model:</th>               <td>Logit</td>      <th>  Df Residuals:      </th>  <td>    38</td> \n",
       "</tr>\n",
       "<tr>\n",
       "  <th>Method:</th>               <td>MLE</td>       <th>  Df Model:          </th>  <td>     7</td> \n",
       "</tr>\n",
       "<tr>\n",
       "  <th>Date:</th>          <td>Tue, 04 Apr 2017</td> <th>  Pseudo R-squ.:     </th>  <td>0.2822</td> \n",
       "</tr>\n",
       "<tr>\n",
       "  <th>Time:</th>              <td>10:01:13</td>     <th>  Log-Likelihood:    </th> <td> -22.100</td>\n",
       "</tr>\n",
       "<tr>\n",
       "  <th>converged:</th>           <td>True</td>       <th>  LL-Null:           </th> <td> -30.789</td>\n",
       "</tr>\n",
       "<tr>\n",
       "  <th> </th>                      <td> </td>        <th>  LLR p-value:       </th>  <td>0.01511</td>\n",
       "</tr>\n",
       "</table>\n",
       "<table class=\"simpletable\">\n",
       "<tr>\n",
       "   <td></td>     <th>coef</th>     <th>std err</th>      <th>z</th>      <th>P>|z|</th> <th>[95.0% Conf. Int.]</th> \n",
       "</tr>\n",
       "<tr>\n",
       "  <th>x1</th> <td>   -0.4583</td> <td>    0.419</td> <td>   -1.094</td> <td> 0.274</td> <td>   -1.279     0.363</td>\n",
       "</tr>\n",
       "<tr>\n",
       "  <th>x2</th> <td>    0.0706</td> <td>    0.519</td> <td>    0.136</td> <td> 0.892</td> <td>   -0.948     1.089</td>\n",
       "</tr>\n",
       "<tr>\n",
       "  <th>x3</th> <td>   -0.5189</td> <td>    0.435</td> <td>   -1.192</td> <td> 0.233</td> <td>   -1.372     0.334</td>\n",
       "</tr>\n",
       "<tr>\n",
       "  <th>x4</th> <td>   -0.6395</td> <td>    0.437</td> <td>   -1.464</td> <td> 0.143</td> <td>   -1.496     0.216</td>\n",
       "</tr>\n",
       "<tr>\n",
       "  <th>x5</th> <td>   -0.3572</td> <td>    0.445</td> <td>   -0.802</td> <td> 0.422</td> <td>   -1.230     0.515</td>\n",
       "</tr>\n",
       "<tr>\n",
       "  <th>x6</th> <td>    0.9385</td> <td>    0.421</td> <td>    2.231</td> <td> 0.026</td> <td>    0.114     1.763</td>\n",
       "</tr>\n",
       "<tr>\n",
       "  <th>x7</th> <td>    0.5135</td> <td>    0.497</td> <td>    1.034</td> <td> 0.301</td> <td>   -0.460     1.487</td>\n",
       "</tr>\n",
       "<tr>\n",
       "  <th>x8</th> <td>    2.2134</td> <td>    0.792</td> <td>    2.795</td> <td> 0.005</td> <td>    0.662     3.765</td>\n",
       "</tr>\n",
       "</table>"
      ],
      "text/plain": [
       "<class 'statsmodels.iolib.summary.Summary'>\n",
       "\"\"\"\n",
       "                           Logit Regression Results                           \n",
       "==============================================================================\n",
       "Dep. Variable:                      y   No. Observations:                   46\n",
       "Model:                          Logit   Df Residuals:                       38\n",
       "Method:                           MLE   Df Model:                            7\n",
       "Date:                Tue, 04 Apr 2017   Pseudo R-squ.:                  0.2822\n",
       "Time:                        10:01:13   Log-Likelihood:                -22.100\n",
       "converged:                       True   LL-Null:                       -30.789\n",
       "                                        LLR p-value:                   0.01511\n",
       "==============================================================================\n",
       "                 coef    std err          z      P>|z|      [95.0% Conf. Int.]\n",
       "------------------------------------------------------------------------------\n",
       "x1            -0.4583      0.419     -1.094      0.274        -1.279     0.363\n",
       "x2             0.0706      0.519      0.136      0.892        -0.948     1.089\n",
       "x3            -0.5189      0.435     -1.192      0.233        -1.372     0.334\n",
       "x4            -0.6395      0.437     -1.464      0.143        -1.496     0.216\n",
       "x5            -0.3572      0.445     -0.802      0.422        -1.230     0.515\n",
       "x6             0.9385      0.421      2.231      0.026         0.114     1.763\n",
       "x7             0.5135      0.497      1.034      0.301        -0.460     1.487\n",
       "x8             2.2134      0.792      2.795      0.005         0.662     3.765\n",
       "==============================================================================\n",
       "\"\"\""
      ]
     },
     "execution_count": 154,
     "metadata": {},
     "output_type": "execute_result"
    }
   ],
   "source": [
    "result.summary()"
   ]
  },
  {
   "cell_type": "markdown",
   "metadata": {
    "collapsed": true
   },
   "source": [
    "----\n",
    "\n",
    "# Project 3\n",
    "## Some of the work done by Christian"
   ]
  },
  {
   "cell_type": "markdown",
   "metadata": {},
   "source": [
    "Rank all observations in terms of \n",
    "* Gaussian Kernel density (leave one out):\n",
    "* KNN density\n",
    "* KNN average relative density (ARD)"
   ]
  },
  {
   "cell_type": "code",
   "execution_count": 5,
   "metadata": {
    "collapsed": false
   },
   "outputs": [
    {
     "name": "stdout",
     "output_type": "stream",
     "text": [
      "Help on function clusterplot in module toolbox_02450:\n",
      "\n",
      "clusterplot(X, clusterid, centroids='None', y='None', covars='None')\n",
      "    CLUSTERPLOT Plots a clustering of a data set as well as the true class\n",
      "    labels. If data is more than 2-dimensional it should be first projected\n",
      "    onto the first two principal components. Data objects are plotted as a dot\n",
      "    with a circle around. The color of the dot indicates the true class,\n",
      "    and the cicle indicates the cluster index. Optionally, the centroids are\n",
      "    plotted as filled-star markers, and ellipsoids corresponding to covariance\n",
      "    matrices (e.g. for gaussian mixture models).\n",
      "    \n",
      "    Usage:\n",
      "    clusterplot(X, clusterid)\n",
      "    clusterplot(X, clusterid, centroids=c_matrix, y=y_matrix)\n",
      "    clusterplot(X, clusterid, centroids=c_matrix, y=y_matrix, covars=c_tensor)\n",
      "    \n",
      "    Input:\n",
      "    X           N-by-M data matrix (N data objects with M attributes)\n",
      "    clusterid   N-by-1 vector of cluster indices\n",
      "    centroids   K-by-M matrix of cluster centroids (optional)\n",
      "    y           N-by-1 vector of true class labels (optional)\n",
      "    covars      M-by-M-by-K tensor of covariance matrices (optional)\n",
      "\n"
     ]
    }
   ],
   "source": [
    "help(clusterplot)"
   ]
  },
  {
   "cell_type": "code",
   "execution_count": 24,
   "metadata": {
    "collapsed": false
   },
   "outputs": [
    {
     "data": {
      "text/plain": [
       "8L"
      ]
     },
     "execution_count": 24,
     "metadata": {},
     "output_type": "execute_result"
    }
   ],
   "source": [
    "#X = np.matrix(X)\n",
    "#cds\n",
    "#attributeNames\n",
    "M"
   ]
  },
  {
   "cell_type": "code",
   "execution_count": 27,
   "metadata": {
    "collapsed": false,
    "scrolled": true
   },
   "outputs": [
    {
     "ename": "ValueError",
     "evalue": "shapes (8,8) and (2,100) not aligned: 8 (dim 1) != 2 (dim 0)",
     "output_type": "error",
     "traceback": [
      "\u001b[1;31m---------------------------------------------------------------------------\u001b[0m",
      "\u001b[1;31mValueError\u001b[0m                                Traceback (most recent call last)",
      "\u001b[1;32m<ipython-input-27-7ccfdfc2fbce>\u001b[0m in \u001b[0;36m<module>\u001b[1;34m()\u001b[0m\n\u001b[0;32m     36\u001b[0m \u001b[1;31m# Plot results:\u001b[0m\u001b[1;33m\u001b[0m\u001b[1;33m\u001b[0m\u001b[0m\n\u001b[0;32m     37\u001b[0m \u001b[0mfigure\u001b[0m\u001b[1;33m(\u001b[0m\u001b[0mfigsize\u001b[0m\u001b[1;33m=\u001b[0m\u001b[1;33m(\u001b[0m\u001b[1;36m14\u001b[0m\u001b[1;33m,\u001b[0m\u001b[1;36m9\u001b[0m\u001b[1;33m)\u001b[0m\u001b[1;33m)\u001b[0m\u001b[1;33m\u001b[0m\u001b[0m\n\u001b[1;32m---> 38\u001b[1;33m \u001b[0mclusterplot\u001b[0m\u001b[1;33m(\u001b[0m\u001b[0mX\u001b[0m\u001b[1;33m,\u001b[0m \u001b[0mclusterid\u001b[0m\u001b[1;33m=\u001b[0m\u001b[0mcls\u001b[0m\u001b[1;33m,\u001b[0m \u001b[0mcentroids\u001b[0m\u001b[1;33m=\u001b[0m\u001b[0mcds\u001b[0m\u001b[1;33m,\u001b[0m \u001b[0my\u001b[0m\u001b[1;33m=\u001b[0m\u001b[0my\u001b[0m\u001b[1;33m,\u001b[0m \u001b[0mcovars\u001b[0m\u001b[1;33m=\u001b[0m\u001b[0mcovs\u001b[0m\u001b[1;33m)\u001b[0m\u001b[1;33m\u001b[0m\u001b[0m\n\u001b[0m\u001b[0;32m     39\u001b[0m \u001b[0mshow\u001b[0m\u001b[1;33m(\u001b[0m\u001b[1;33m)\u001b[0m\u001b[1;33m\u001b[0m\u001b[0m\n",
      "\u001b[1;32mC:\\Users\\frksteenhoff\\Documents\\GitHub\\02450_MachineLearning\\toolbox_02450.pyc\u001b[0m in \u001b[0;36mclusterplot\u001b[1;34m(X, clusterid, centroids, y, covars)\u001b[0m\n\u001b[0;32m    470\u001b[0m     \u001b[1;32mif\u001b[0m \u001b[0mtype\u001b[0m\u001b[1;33m(\u001b[0m\u001b[0mcovars\u001b[0m\u001b[1;33m)\u001b[0m \u001b[1;32mis\u001b[0m \u001b[1;32mnot\u001b[0m \u001b[0mstr\u001b[0m\u001b[1;33m:\u001b[0m\u001b[1;33m\u001b[0m\u001b[0m\n\u001b[0;32m    471\u001b[0m         \u001b[1;32mfor\u001b[0m \u001b[0mcd\u001b[0m \u001b[1;32min\u001b[0m \u001b[0mrange\u001b[0m\u001b[1;33m(\u001b[0m\u001b[0mcentroids\u001b[0m\u001b[1;33m.\u001b[0m\u001b[0mshape\u001b[0m\u001b[1;33m[\u001b[0m\u001b[1;36m0\u001b[0m\u001b[1;33m]\u001b[0m\u001b[1;33m)\u001b[0m\u001b[1;33m:\u001b[0m\u001b[1;33m\u001b[0m\u001b[0m\n\u001b[1;32m--> 472\u001b[1;33m             \u001b[0mx1\u001b[0m\u001b[1;33m,\u001b[0m \u001b[0mx2\u001b[0m \u001b[1;33m=\u001b[0m \u001b[0mgauss_2d\u001b[0m\u001b[1;33m(\u001b[0m\u001b[0mcentroids\u001b[0m\u001b[1;33m[\u001b[0m\u001b[0mcd\u001b[0m\u001b[1;33m]\u001b[0m\u001b[1;33m,\u001b[0m\u001b[0mcovars\u001b[0m\u001b[1;33m[\u001b[0m\u001b[0mcd\u001b[0m\u001b[1;33m,\u001b[0m\u001b[1;33m:\u001b[0m\u001b[1;33m,\u001b[0m\u001b[1;33m:\u001b[0m\u001b[1;33m]\u001b[0m\u001b[1;33m)\u001b[0m\u001b[1;33m\u001b[0m\u001b[0m\n\u001b[0m\u001b[0;32m    473\u001b[0m             \u001b[0mplot\u001b[0m\u001b[1;33m(\u001b[0m\u001b[0mx1\u001b[0m\u001b[1;33m,\u001b[0m\u001b[0mx2\u001b[0m\u001b[1;33m,\u001b[0m\u001b[1;34m'-'\u001b[0m\u001b[1;33m,\u001b[0m \u001b[0mcolor\u001b[0m\u001b[1;33m=\u001b[0m\u001b[0mcolors\u001b[0m\u001b[1;33m[\u001b[0m\u001b[0mcd\u001b[0m\u001b[1;33m]\u001b[0m\u001b[1;33m,\u001b[0m \u001b[0mlinewidth\u001b[0m\u001b[1;33m=\u001b[0m\u001b[1;36m3\u001b[0m\u001b[1;33m,\u001b[0m \u001b[0mzorder\u001b[0m\u001b[1;33m=\u001b[0m\u001b[1;36m5\u001b[0m\u001b[1;33m)\u001b[0m\u001b[1;33m\u001b[0m\u001b[0m\n\u001b[0;32m    474\u001b[0m     \u001b[1;31m#hold(False)\u001b[0m\u001b[1;33m\u001b[0m\u001b[1;33m\u001b[0m\u001b[0m\n",
      "\u001b[1;32mC:\\Users\\frksteenhoff\\Documents\\GitHub\\02450_MachineLearning\\toolbox_02450.pyc\u001b[0m in \u001b[0;36mgauss_2d\u001b[1;34m(centroid, ccov, std, points)\u001b[0m\n\u001b[0;32m    488\u001b[0m     \u001b[0mx\u001b[0m \u001b[1;33m=\u001b[0m \u001b[0mnp\u001b[0m\u001b[1;33m.\u001b[0m\u001b[0mcos\u001b[0m\u001b[1;33m(\u001b[0m\u001b[0mtt\u001b[0m\u001b[1;33m)\u001b[0m\u001b[1;33m;\u001b[0m \u001b[0my\u001b[0m\u001b[1;33m=\u001b[0m\u001b[0mnp\u001b[0m\u001b[1;33m.\u001b[0m\u001b[0msin\u001b[0m\u001b[1;33m(\u001b[0m\u001b[0mtt\u001b[0m\u001b[1;33m)\u001b[0m\u001b[1;33m;\u001b[0m \u001b[0map\u001b[0m \u001b[1;33m=\u001b[0m \u001b[0mnp\u001b[0m\u001b[1;33m.\u001b[0m\u001b[0mconcatenate\u001b[0m\u001b[1;33m(\u001b[0m\u001b[1;33m(\u001b[0m\u001b[0mx\u001b[0m\u001b[1;33m,\u001b[0m\u001b[0my\u001b[0m\u001b[1;33m)\u001b[0m\u001b[1;33m,\u001b[0m \u001b[0maxis\u001b[0m\u001b[1;33m=\u001b[0m\u001b[1;36m1\u001b[0m\u001b[1;33m)\u001b[0m\u001b[1;33m.\u001b[0m\u001b[0mT\u001b[0m\u001b[1;33m\u001b[0m\u001b[0m\n\u001b[0;32m    489\u001b[0m     \u001b[0md\u001b[0m\u001b[1;33m,\u001b[0m \u001b[0mv\u001b[0m \u001b[1;33m=\u001b[0m \u001b[0mnp\u001b[0m\u001b[1;33m.\u001b[0m\u001b[0mlinalg\u001b[0m\u001b[1;33m.\u001b[0m\u001b[0meig\u001b[0m\u001b[1;33m(\u001b[0m\u001b[0mccov\u001b[0m\u001b[1;33m)\u001b[0m\u001b[1;33m;\u001b[0m \u001b[0md\u001b[0m \u001b[1;33m=\u001b[0m \u001b[0mstd\u001b[0m \u001b[1;33m*\u001b[0m \u001b[0mnp\u001b[0m\u001b[1;33m.\u001b[0m\u001b[0msqrt\u001b[0m\u001b[1;33m(\u001b[0m\u001b[0mnp\u001b[0m\u001b[1;33m.\u001b[0m\u001b[0mdiag\u001b[0m\u001b[1;33m(\u001b[0m\u001b[0md\u001b[0m\u001b[1;33m)\u001b[0m\u001b[1;33m)\u001b[0m\u001b[1;33m\u001b[0m\u001b[0m\n\u001b[1;32m--> 490\u001b[1;33m     \u001b[0mbp\u001b[0m \u001b[1;33m=\u001b[0m \u001b[0mnp\u001b[0m\u001b[1;33m.\u001b[0m\u001b[0mdot\u001b[0m\u001b[1;33m(\u001b[0m\u001b[0mv\u001b[0m\u001b[1;33m,\u001b[0m \u001b[0mnp\u001b[0m\u001b[1;33m.\u001b[0m\u001b[0mdot\u001b[0m\u001b[1;33m(\u001b[0m\u001b[0md\u001b[0m\u001b[1;33m,\u001b[0m \u001b[0map\u001b[0m\u001b[1;33m)\u001b[0m\u001b[1;33m)\u001b[0m \u001b[1;33m+\u001b[0m \u001b[0mnp\u001b[0m\u001b[1;33m.\u001b[0m\u001b[0mtile\u001b[0m\u001b[1;33m(\u001b[0m\u001b[0mmean\u001b[0m\u001b[1;33m,\u001b[0m \u001b[1;33m(\u001b[0m\u001b[1;36m1\u001b[0m\u001b[1;33m,\u001b[0m \u001b[0map\u001b[0m\u001b[1;33m.\u001b[0m\u001b[0mshape\u001b[0m\u001b[1;33m[\u001b[0m\u001b[1;36m1\u001b[0m\u001b[1;33m]\u001b[0m\u001b[1;33m)\u001b[0m\u001b[1;33m)\u001b[0m\u001b[1;33m\u001b[0m\u001b[0m\n\u001b[0m\u001b[0;32m    491\u001b[0m     \u001b[1;32mreturn\u001b[0m \u001b[0mbp\u001b[0m\u001b[1;33m[\u001b[0m\u001b[1;36m0\u001b[0m\u001b[1;33m,\u001b[0m\u001b[1;33m:\u001b[0m\u001b[1;33m]\u001b[0m\u001b[1;33m,\u001b[0m \u001b[0mbp\u001b[0m\u001b[1;33m[\u001b[0m\u001b[1;36m1\u001b[0m\u001b[1;33m,\u001b[0m\u001b[1;33m:\u001b[0m\u001b[1;33m]\u001b[0m\u001b[1;33m\u001b[0m\u001b[0m\n\u001b[0;32m    492\u001b[0m \u001b[1;33m\u001b[0m\u001b[0m\n",
      "\u001b[1;31mValueError\u001b[0m: shapes (8,8) and (2,100) not aligned: 8 (dim 1) != 2 (dim 0)"
     ]
    },
    {
     "data": {
      "image/png": "[encoded data removed]",
      "text/plain": [
       "<matplotlib.figure.Figure at 0xcf9f5c0>"
      ]
     },
     "metadata": {},
     "output_type": "display_data"
    }
   ],
   "source": [
    "#X = np.matrix(X)\n",
    "# Gaussian mixture models\n",
    "N, M = X.shape\n",
    "C = len(classNames)\n",
    "# Number of clusters\n",
    "K = 5\n",
    "cov_type = 'diag' \n",
    "# type of covariance, you can try out 'diag' as wella\n",
    "reps = 1                \n",
    "# number of fits with different initalizations, best result will be kept\n",
    "# Fit Gaussian mixture model\n",
    "gmm = GaussianMixture(n_components=K, covariance_type=cov_type, n_init=reps).fit(X)\n",
    "cls = gmm.predict(X)    \n",
    "\n",
    "# extract cluster labels\n",
    "cds = gmm.means_        \n",
    "\n",
    "# extract cluster centroids (means of gaussians)\n",
    "covs = gmm.covariances_      \n",
    "\n",
    "# extract cluster shapes (covariances of gaussians)\n",
    "if cov_type == 'diag':    \n",
    "    new_covs = np.zeros([K,M,M])    \n",
    "\n",
    "count = 0    \n",
    "for elem in covs:        \n",
    "    temp_m = np.zeros([M,M])        \n",
    "    for i in range(len(elem)):  \n",
    "        # Only working on diagonal elements\n",
    "        temp_m[i][i] = elem[i]        \n",
    "    \n",
    "    new_covs[count] = temp_m       \n",
    "    count += 1    \n",
    "\n",
    "covs = new_covs\n",
    "# Plot results:\n",
    "figure(figsize=(14,9))\n",
    "clusterplot(X, clusterid=cls, centroids=cds, y=y, covars=covs)\n",
    "show()"
   ]
  },
  {
   "cell_type": "code",
   "execution_count": 18,
   "metadata": {
    "collapsed": false,
    "scrolled": true
   },
   "outputs": [
    {
     "name": "stdout",
     "output_type": "stream",
     "text": [
      "(462L, 1L) (462L, 8L) (4L, 8L, 8L)\n"
     ]
    }
   ],
   "source": [
    "#import pandas as pd\n",
    "#pd.DataFrame(X)\n",
    "#type(covs)\n",
    "#print y.shape, X.shape, covs.shape"
   ]
  },
  {
   "cell_type": "markdown",
   "metadata": {},
   "source": [
    "### Gaussian mixture model BIA and AIC"
   ]
  },
  {
   "cell_type": "code",
   "execution_count": 17,
   "metadata": {
    "collapsed": false
   },
   "outputs": [
    {
     "name": "stdout",
     "output_type": "stream",
     "text": [
      "Fitting model for K=1\n",
      "Fitting model for K=2\n",
      "Fitting model for K=3\n",
      "Fitting model for K=4\n",
      "Fitting model for K=5\n",
      "Fitting model for K=6\n",
      "Fitting model for K=7\n",
      "Fitting model for K=8\n",
      "Fitting model for K=9\n",
      "Fitting model for K=10\n"
     ]
    },
    {
     "data": {
      "image/png": "[encoded data removed]",
      "text/plain": [
       "<matplotlib.figure.Figure at 0xcc3ff28>"
      ]
     },
     "metadata": {},
     "output_type": "display_data"
    }
   ],
   "source": [
    "# exercise 11.1.5\n",
    "from matplotlib.pyplot import figure, plot, legend, xlabel, show\n",
    "from sklearn import cross_validation\n",
    "N, M = X.shape\n",
    "C = len(classNames)\n",
    "\n",
    "# Range of K's to try\n",
    "KRange = range(1,11)\n",
    "T = len(KRange)\n",
    "\n",
    "covar_type = 'full'     # you can try out 'diag' as well\n",
    "reps = 3                # number of fits with different initalizations, best result will be kept\n",
    "\n",
    "# Allocate variables\n",
    "BIC = np.zeros((T,))\n",
    "AIC = np.zeros((T,))\n",
    "CVE = np.zeros((T,))\n",
    "\n",
    "# K-fold crossvalidation\n",
    "CV = cross_validation.KFold(N,10,shuffle=True)\n",
    "\n",
    "for t,K in enumerate(KRange):\n",
    "        print('Fitting model for K={0}'.format(K))\n",
    "\n",
    "        # Fit Gaussian mixture model\n",
    "        gmm = GaussianMixture(n_components=K, covariance_type=covar_type, n_init=reps).fit(X)\n",
    "\n",
    "        # Get BIC and AIC\n",
    "        BIC[t,] = gmm.bic(X)\n",
    "        AIC[t,] = gmm.aic(X)\n",
    "\n",
    "        # For each crossvalidation fold\n",
    "        for train_index, test_index in CV:\n",
    "\n",
    "            # extract training and test set for current CV fold\n",
    "            X_train = X[train_index]\n",
    "            X_test = X[test_index]\n",
    "\n",
    "            # Fit Gaussian mixture model to X_train\n",
    "            gmm = GaussianMixture(n_components=K, covariance_type=covar_type, n_init=reps).fit(X_train)\n",
    "\n",
    "            # compute negative log likelihood of X_test\n",
    "            CVE[t] += -gmm.score(X_test).sum()\n",
    "            \n",
    "\n",
    "# Plot results\n",
    "figure(1); \n",
    "plot(KRange, BIC,'-*b')\n",
    "plot(KRange, AIC,'-xr')\n",
    "plot(KRange, 2*CVE,'-ok')\n",
    "#axis([0, len(K), 0, 30000])\n",
    "#legend(['BIC', 'AIC', 'Crossvalidation'])\n",
    "xlabel('K')\n",
    "show()"
   ]
  },
  {
   "cell_type": "markdown",
   "metadata": {},
   "source": [
    "## "
   ]
  },
  {
   "cell_type": "code",
   "execution_count": 10,
   "metadata": {
    "collapsed": false
   },
   "outputs": [
    {
     "data": {
      "image/png": "[encoded data removed]",
      "text/plain": [
       "<matplotlib.figure.Figure at 0xcc3f128>"
      ]
     },
     "metadata": {},
     "output_type": "display_data"
    }
   ],
   "source": [
    "# exercise 11_2_1\n",
    "# Number of data objects\n",
    "N = 1000\n",
    "\n",
    "# Number of attributes\n",
    "M = 1\n",
    "\n",
    "# x-values to evaluate the histogram\n",
    "x = np.linspace(-10, 10, 50)\n",
    "\n",
    "# Allocate variable for data\n",
    "X = np.empty((N,M))\n",
    "\n",
    "# Mean and covariances\n",
    "m = np.array([1, 3, 6])\n",
    "s = np.array([1, .5, 2])\n",
    "\n",
    "# Draw samples from mixture of gaussians\n",
    "c_sizes = np.random.multinomial(N, [1./3, 1./3, 1./3])\n",
    "for c_id, c_size in enumerate(c_sizes):\n",
    "    X[c_sizes.cumsum()[c_id]-c_sizes[c_id]:c_sizes.cumsum()[c_id],:] = np.random.normal(m[c_id], np.sqrt(s[c_id]), (c_size,M))\n",
    "\n",
    "\n",
    "# Plot histogram of sampled data\n",
    "figure()\n",
    "hist(X,x)\n",
    "show()"
   ]
  },
  {
   "cell_type": "markdown",
   "metadata": {
    "collapsed": true
   },
   "source": [
    "## Outlier detection/Anomaly detection"
   ]
  },
  {
   "cell_type": "code",
   "execution_count": 35,
   "metadata": {
    "collapsed": false
   },
   "outputs": [
    {
     "data": {
      "image/png": "[encoded data removed]",
      "text/plain": [
       "<matplotlib.figure.Figure at 0xc6038d0>"
      ]
     },
     "metadata": {},
     "output_type": "display_data"
    }
   ],
   "source": [
    "# Kernel Densitty Estimation - Guassian\n",
    "# exercise 11.2.2\n",
    "\n",
    "# SHOULD USE 11_3_2 FOR PROJECT\n",
    "import numpy as np\n",
    "from matplotlib.pyplot import figure, subplot, hist, title, show, plot\n",
    "from scipy.stats.kde import gaussian_kde\n",
    "\n",
    "# Draw samples from mixture of gaussians (as in exercise 11.1.1)\n",
    "N = 462\n",
    "M = 9\n",
    "x = np.linspace(-10, 10, 5)\n",
    "X = np.empty((N,M))\n",
    "m = np.array([1, 3, 6]); s = np.array([1, .5, 2])\n",
    "c_sizes = np.random.multinomial(N, [1./3, 1./3, 1./3])\n",
    "for c_id, c_size in enumerate(c_sizes):\n",
    "    X[c_sizes.cumsum()[c_id]-c_sizes[c_id]:c_sizes.cumsum()[c_id],:] = np.random.normal(m[c_id], np.sqrt(s[c_id]), (c_size,M))\n",
    "\n",
    "\n",
    "# x-values to evaluate the KDE\n",
    "xe = np.linspace(-10, 10, 100)\n",
    "\n",
    "# Compute kernel density estimate\n",
    "kde = gaussian_kde(X.ravel())\n",
    "\n",
    "# Plot kernel density estimate\n",
    "figure(figsize=(6,7))\n",
    "subplot(2,1,1)\n",
    "hist(X,x)\n",
    "title('Data histogram')\n",
    "subplot(2,1,2)\n",
    "plot(xe, kde.evaluate(xe))\n",
    "title('Kernel density estimate')\n",
    "show()"
   ]
  },
  {
   "cell_type": "code",
   "execution_count": 32,
   "metadata": {
    "collapsed": false
   },
   "outputs": [
    {
     "name": "stdout",
     "output_type": "stream",
     "text": [
      "Help on class gaussian_kde in module scipy.stats.kde:\n",
      "\n",
      "class gaussian_kde(__builtin__.object)\n",
      " |  Representation of a kernel-density estimate using Gaussian kernels.\n",
      " |  \n",
      " |  Kernel density estimation is a way to estimate the probability density\n",
      " |  function (PDF) of a random variable in a non-parametric way.\n",
      " |  `gaussian_kde` works for both uni-variate and multi-variate data.   It\n",
      " |  includes automatic bandwidth determination.  The estimation works best for\n",
      " |  a unimodal distribution; bimodal or multi-modal distributions tend to be\n",
      " |  oversmoothed.\n",
      " |  \n",
      " |  Parameters\n",
      " |  ----------\n",
      " |  dataset : array_like\n",
      " |      Datapoints to estimate from. In case of univariate data this is a 1-D\n",
      " |      array, otherwise a 2-D array with shape (# of dims, # of data).\n",
      " |  bw_method : str, scalar or callable, optional\n",
      " |      The method used to calculate the estimator bandwidth.  This can be\n",
      " |      'scott', 'silverman', a scalar constant or a callable.  If a scalar,\n",
      " |      this will be used directly as `kde.factor`.  If a callable, it should\n",
      " |      take a `gaussian_kde` instance as only parameter and return a scalar.\n",
      " |      If None (default), 'scott' is used.  See Notes for more details.\n",
      " |  \n",
      " |  Attributes\n",
      " |  ----------\n",
      " |  dataset : ndarray\n",
      " |      The dataset with which `gaussian_kde` was initialized.\n",
      " |  d : int\n",
      " |      Number of dimensions.\n",
      " |  n : int\n",
      " |      Number of datapoints.\n",
      " |  factor : float\n",
      " |      The bandwidth factor, obtained from `kde.covariance_factor`, with which\n",
      " |      the covariance matrix is multiplied.\n",
      " |  covariance : ndarray\n",
      " |      The covariance matrix of `dataset`, scaled by the calculated bandwidth\n",
      " |      (`kde.factor`).\n",
      " |  inv_cov : ndarray\n",
      " |      The inverse of `covariance`.\n",
      " |  \n",
      " |  Methods\n",
      " |  -------\n",
      " |  evaluate\n",
      " |  __call__\n",
      " |  integrate_gaussian\n",
      " |  integrate_box_1d\n",
      " |  integrate_box\n",
      " |  integrate_kde\n",
      " |  pdf\n",
      " |  logpdf\n",
      " |  resample\n",
      " |  set_bandwidth\n",
      " |  covariance_factor\n",
      " |  \n",
      " |  Notes\n",
      " |  -----\n",
      " |  Bandwidth selection strongly influences the estimate obtained from the KDE\n",
      " |  (much more so than the actual shape of the kernel).  Bandwidth selection\n",
      " |  can be done by a \"rule of thumb\", by cross-validation, by \"plug-in\n",
      " |  methods\" or by other means; see [3]_, [4]_ for reviews.  `gaussian_kde`\n",
      " |  uses a rule of thumb, the default is Scott's Rule.\n",
      " |  \n",
      " |  Scott's Rule [1]_, implemented as `scotts_factor`, is::\n",
      " |  \n",
      " |      n**(-1./(d+4)),\n",
      " |  \n",
      " |  with ``n`` the number of data points and ``d`` the number of dimensions.\n",
      " |  Silverman's Rule [2]_, implemented as `silverman_factor`, is::\n",
      " |  \n",
      " |      (n * (d + 2) / 4.)**(-1. / (d + 4)).\n",
      " |  \n",
      " |  Good general descriptions of kernel density estimation can be found in [1]_\n",
      " |  and [2]_, the mathematics for this multi-dimensional implementation can be\n",
      " |  found in [1]_.\n",
      " |  \n",
      " |  References\n",
      " |  ----------\n",
      " |  .. [1] D.W. Scott, \"Multivariate Density Estimation: Theory, Practice, and\n",
      " |         Visualization\", John Wiley & Sons, New York, Chicester, 1992.\n",
      " |  .. [2] B.W. Silverman, \"Density Estimation for Statistics and Data\n",
      " |         Analysis\", Vol. 26, Monographs on Statistics and Applied Probability,\n",
      " |         Chapman and Hall, London, 1986.\n",
      " |  .. [3] B.A. Turlach, \"Bandwidth Selection in Kernel Density Estimation: A\n",
      " |         Review\", CORE and Institut de Statistique, Vol. 19, pp. 1-33, 1993.\n",
      " |  .. [4] D.M. Bashtannyk and R.J. Hyndman, \"Bandwidth selection for kernel\n",
      " |         conditional density estimation\", Computational Statistics & Data\n",
      " |         Analysis, Vol. 36, pp. 279-298, 2001.\n",
      " |  \n",
      " |  Examples\n",
      " |  --------\n",
      " |  Generate some random two-dimensional data:\n",
      " |  \n",
      " |  >>> from scipy import stats\n",
      " |  >>> def measure(n):\n",
      " |  ...     \"Measurement model, return two coupled measurements.\"\n",
      " |  ...     m1 = np.random.normal(size=n)\n",
      " |  ...     m2 = np.random.normal(scale=0.5, size=n)\n",
      " |  ...     return m1+m2, m1-m2\n",
      " |  \n",
      " |  >>> m1, m2 = measure(2000)\n",
      " |  >>> xmin = m1.min()\n",
      " |  >>> xmax = m1.max()\n",
      " |  >>> ymin = m2.min()\n",
      " |  >>> ymax = m2.max()\n",
      " |  \n",
      " |  Perform a kernel density estimate on the data:\n",
      " |  \n",
      " |  >>> X, Y = np.mgrid[xmin:xmax:100j, ymin:ymax:100j]\n",
      " |  >>> positions = np.vstack([X.ravel(), Y.ravel()])\n",
      " |  >>> values = np.vstack([m1, m2])\n",
      " |  >>> kernel = stats.gaussian_kde(values)\n",
      " |  >>> Z = np.reshape(kernel(positions).T, X.shape)\n",
      " |  \n",
      " |  Plot the results:\n",
      " |  \n",
      " |  >>> import matplotlib.pyplot as plt\n",
      " |  >>> fig, ax = plt.subplots()\n",
      " |  >>> ax.imshow(np.rot90(Z), cmap=plt.cm.gist_earth_r,\n",
      " |  ...           extent=[xmin, xmax, ymin, ymax])\n",
      " |  >>> ax.plot(m1, m2, 'k.', markersize=2)\n",
      " |  >>> ax.set_xlim([xmin, xmax])\n",
      " |  >>> ax.set_ylim([ymin, ymax])\n",
      " |  >>> plt.show()\n",
      " |  \n",
      " |  Methods defined here:\n",
      " |  \n",
      " |  __call__ = evaluate(self, points)\n",
      " |  \n",
      " |  __init__(self, dataset, bw_method=None)\n",
      " |  \n",
      " |  covariance_factor = scotts_factor(self)\n",
      " |  \n",
      " |  evaluate(self, points)\n",
      " |      Evaluate the estimated pdf on a set of points.\n",
      " |      \n",
      " |      Parameters\n",
      " |      ----------\n",
      " |      points : (# of dimensions, # of points)-array\n",
      " |          Alternatively, a (# of dimensions,) vector can be passed in and\n",
      " |          treated as a single point.\n",
      " |      \n",
      " |      Returns\n",
      " |      -------\n",
      " |      values : (# of points,)-array\n",
      " |          The values at each point.\n",
      " |      \n",
      " |      Raises\n",
      " |      ------\n",
      " |      ValueError : if the dimensionality of the input points is different than\n",
      " |                   the dimensionality of the KDE.\n",
      " |  \n",
      " |  integrate_box(self, low_bounds, high_bounds, maxpts=None)\n",
      " |      Computes the integral of a pdf over a rectangular interval.\n",
      " |      \n",
      " |      Parameters\n",
      " |      ----------\n",
      " |      low_bounds : array_like\n",
      " |          A 1-D array containing the lower bounds of integration.\n",
      " |      high_bounds : array_like\n",
      " |          A 1-D array containing the upper bounds of integration.\n",
      " |      maxpts : int, optional\n",
      " |          The maximum number of points to use for integration.\n",
      " |      \n",
      " |      Returns\n",
      " |      -------\n",
      " |      value : scalar\n",
      " |          The result of the integral.\n",
      " |  \n",
      " |  integrate_box_1d(self, low, high)\n",
      " |      Computes the integral of a 1D pdf between two bounds.\n",
      " |      \n",
      " |      Parameters\n",
      " |      ----------\n",
      " |      low : scalar\n",
      " |          Lower bound of integration.\n",
      " |      high : scalar\n",
      " |          Upper bound of integration.\n",
      " |      \n",
      " |      Returns\n",
      " |      -------\n",
      " |      value : scalar\n",
      " |          The result of the integral.\n",
      " |      \n",
      " |      Raises\n",
      " |      ------\n",
      " |      ValueError\n",
      " |          If the KDE is over more than one dimension.\n",
      " |  \n",
      " |  integrate_gaussian(self, mean, cov)\n",
      " |      Multiply estimated density by a multivariate Gaussian and integrate\n",
      " |      over the whole space.\n",
      " |      \n",
      " |      Parameters\n",
      " |      ----------\n",
      " |      mean : aray_like\n",
      " |          A 1-D array, specifying the mean of the Gaussian.\n",
      " |      cov : array_like\n",
      " |          A 2-D array, specifying the covariance matrix of the Gaussian.\n",
      " |      \n",
      " |      Returns\n",
      " |      -------\n",
      " |      result : scalar\n",
      " |          The value of the integral.\n",
      " |      \n",
      " |      Raises\n",
      " |      ------\n",
      " |      ValueError\n",
      " |          If the mean or covariance of the input Gaussian differs from\n",
      " |          the KDE's dimensionality.\n",
      " |  \n",
      " |  integrate_kde(self, other)\n",
      " |      Computes the integral of the product of this  kernel density estimate\n",
      " |      with another.\n",
      " |      \n",
      " |      Parameters\n",
      " |      ----------\n",
      " |      other : gaussian_kde instance\n",
      " |          The other kde.\n",
      " |      \n",
      " |      Returns\n",
      " |      -------\n",
      " |      value : scalar\n",
      " |          The result of the integral.\n",
      " |      \n",
      " |      Raises\n",
      " |      ------\n",
      " |      ValueError\n",
      " |          If the KDEs have different dimensionality.\n",
      " |  \n",
      " |  logpdf(self, x)\n",
      " |      Evaluate the log of the estimated pdf on a provided set of points.\n",
      " |      \n",
      " |      Notes\n",
      " |      -----\n",
      " |      See `gaussian_kde.evaluate` for more details; this method simply\n",
      " |      returns ``np.log(gaussian_kde.evaluate(x))``.\n",
      " |  \n",
      " |  pdf(self, x)\n",
      " |      Evaluate the estimated pdf on a provided set of points.\n",
      " |      \n",
      " |      Notes\n",
      " |      -----\n",
      " |      This is an alias for `gaussian_kde.evaluate`.  See the ``evaluate``\n",
      " |      docstring for more details.\n",
      " |  \n",
      " |  resample(self, size=None)\n",
      " |      Randomly sample a dataset from the estimated pdf.\n",
      " |      \n",
      " |      Parameters\n",
      " |      ----------\n",
      " |      size : int, optional\n",
      " |          The number of samples to draw.  If not provided, then the size is\n",
      " |          the same as the underlying dataset.\n",
      " |      \n",
      " |      Returns\n",
      " |      -------\n",
      " |      resample : (self.d, `size`) ndarray\n",
      " |          The sampled dataset.\n",
      " |  \n",
      " |  scotts_factor(self)\n",
      " |      Computes the coefficient (`kde.factor`) that\n",
      " |      multiplies the data covariance matrix to obtain the kernel covariance\n",
      " |      matrix. The default is `scotts_factor`.  A subclass can overwrite this\n",
      " |      method to provide a different method, or set it through a call to\n",
      " |      `kde.set_bandwidth`.\n",
      " |  \n",
      " |  set_bandwidth(self, bw_method=None)\n",
      " |      Compute the estimator bandwidth with given method.\n",
      " |      \n",
      " |      The new bandwidth calculated after a call to `set_bandwidth` is used\n",
      " |      for subsequent evaluations of the estimated density.\n",
      " |      \n",
      " |      Parameters\n",
      " |      ----------\n",
      " |      bw_method : str, scalar or callable, optional\n",
      " |          The method used to calculate the estimator bandwidth.  This can be\n",
      " |          'scott', 'silverman', a scalar constant or a callable.  If a\n",
      " |          scalar, this will be used directly as `kde.factor`.  If a callable,\n",
      " |          it should take a `gaussian_kde` instance as only parameter and\n",
      " |          return a scalar.  If None (default), nothing happens; the current\n",
      " |          `kde.covariance_factor` method is kept.\n",
      " |      \n",
      " |      Notes\n",
      " |      -----\n",
      " |      .. versionadded:: 0.11\n",
      " |      \n",
      " |      Examples\n",
      " |      --------\n",
      " |      >>> import scipy.stats as stats\n",
      " |      >>> x1 = np.array([-7, -5, 1, 4, 5.])\n",
      " |      >>> kde = stats.gaussian_kde(x1)\n",
      " |      >>> xs = np.linspace(-10, 10, num=50)\n",
      " |      >>> y1 = kde(xs)\n",
      " |      >>> kde.set_bandwidth(bw_method='silverman')\n",
      " |      >>> y2 = kde(xs)\n",
      " |      >>> kde.set_bandwidth(bw_method=kde.factor / 3.)\n",
      " |      >>> y3 = kde(xs)\n",
      " |      \n",
      " |      >>> import matplotlib.pyplot as plt\n",
      " |      >>> fig, ax = plt.subplots()\n",
      " |      >>> ax.plot(x1, np.ones(x1.shape) / (4. * x1.size), 'bo',\n",
      " |      ...         label='Data points (rescaled)')\n",
      " |      >>> ax.plot(xs, y1, label='Scott (default)')\n",
      " |      >>> ax.plot(xs, y2, label='Silverman')\n",
      " |      >>> ax.plot(xs, y3, label='Const (1/3 * Silverman)')\n",
      " |      >>> ax.legend()\n",
      " |      >>> plt.show()\n",
      " |  \n",
      " |  silverman_factor(self)\n",
      " |  \n",
      " |  ----------------------------------------------------------------------\n",
      " |  Data descriptors defined here:\n",
      " |  \n",
      " |  __dict__\n",
      " |      dictionary for instance variables (if defined)\n",
      " |  \n",
      " |  __weakref__\n",
      " |      list of weak references to the object (if defined)\n",
      "\n"
     ]
    }
   ],
   "source": [
    "help(gaussian_kde)"
   ]
  },
  {
   "cell_type": "markdown",
   "metadata": {},
   "source": [
    "Gaussian Kernel Denisty Estimation with leave-one-out"
   ]
  },
  {
   "cell_type": "code",
   "execution_count": 84,
   "metadata": {
    "collapsed": false
   },
   "outputs": [
    {
     "name": "stdout",
     "output_type": "stream",
     "text": [
      "Optimal estimated width is: 1.0\n",
      "Lowest density: [  3.51006657e-11] for data object: 334\n"
     ]
    },
    {
     "data": {
      "image/png": "[encoded data removed]",
      "text/plain": [
       "<matplotlib.figure.Figure at 0xc6f8588>"
      ]
     },
     "metadata": {},
     "output_type": "display_data"
    },
    {
     "data": {
      "image/png": "[encoded data removed]",
      "text/plain": [
       "<matplotlib.figure.Figure at 0xd205208>"
      ]
     },
     "metadata": {},
     "output_type": "display_data"
    }
   ],
   "source": [
    "# exercise 11.3.2\n",
    "# Draw samples from mixture of gaussians (as in exercise 11.1.1)\n",
    "N = 462; M = 9\n",
    "x = np.linspace(-10, 10, 50)\n",
    "X = np.empty((N,M))\n",
    "m = np.array([1, 3, 6]); s = np.array([1, .5, 2])\n",
    "c_sizes = np.random.multinomial(N, [1./3, 1./3, 1./3])\n",
    "for c_id, c_size in enumerate(c_sizes):\n",
    "    X[c_sizes.cumsum()[c_id]-c_sizes[c_id]:c_sizes.cumsum()[c_id],:] = np.random.normal(m[c_id], np.sqrt(s[c_id]), (c_size,M))\n",
    "\n",
    "# Estimate the optimal kernel density width, by leave-one-out cross-validation\n",
    "widths = 2.0**np.arange(-10,10)\n",
    "logP = np.zeros(np.size(widths))\n",
    "for i, w in enumerate(widths):\n",
    "    f, log_f = gausKernelDensity(X, w)\n",
    "    logP[i] = log_f.sum()\n",
    "val = logP.max()\n",
    "ind = logP.argmax()\n",
    "\n",
    "width=widths[ind]\n",
    "print('Optimal estimated width is: {0}'.format(width))\n",
    "\n",
    "# Estimate density for each observation not including the observation\n",
    "# itself in the density estimate\n",
    "density, log_density = gausKernelDensity(X, width)\n",
    "\n",
    "# Sort the densities\n",
    "i = (density.argsort(axis=0)).ravel()\n",
    "density = density[i]\n",
    "\n",
    "# Display the index of the lowest density data object\n",
    "print('Lowest density: {0} for data object: {1}'.format(density[0],i[0]))\n",
    "\n",
    "# Plot density estimate of outlier score\n",
    "figure(1)\n",
    "bar(range(20),density[:20])\n",
    "title('Density estimate')\n",
    "figure(2)\n",
    "plot(logP)\n",
    "title('Optimal width')\n",
    "show()\n",
    "\n",
    "new = i[:30]"
   ]
  },
  {
   "cell_type": "code",
   "execution_count": 83,
   "metadata": {
    "collapsed": false
   },
   "outputs": [
    {
     "data": {
      "text/plain": [
       "array([419, 359, 335, 410, 367, 460, 391, 433, 450, 300, 384, 392, 308,\n",
       "       407, 358, 457, 296, 371, 362, 331], dtype=int64)"
      ]
     },
     "execution_count": 83,
     "metadata": {},
     "output_type": "execute_result"
    }
   ],
   "source": [
    "i[:20]"
   ]
  },
  {
   "cell_type": "code",
   "execution_count": null,
   "metadata": {
    "collapsed": true
   },
   "outputs": [],
   "source": [
    "### exercise 11.2.3\n",
    "import numpy as np\n",
    "from matplotlib.pyplot import figure, subplot, plot, hist, title, show\n",
    "from sklearn.neighbors import NearestNeighbors\n",
    "\n",
    "\n",
    "# Draw samples from mixture of gaussians (as in exercise 11.1.1)\n",
    "N = 462; M = 9\n",
    "x = np.linspace(-10, 10, 50)\n",
    "X = np.empty((N,M))\n",
    "m = np.array([1, 3, 6]); s = np.array([1, .5, 2])\n",
    "c_sizes = np.random.multinomial(N, [1./3, 1./3, 1./3])\n",
    "for c_id, c_size in enumerate(c_sizes):\n",
    "    X[c_sizes.cumsum()[c_id]-c_sizes[c_id]:c_sizes.cumsum()[c_id],:] = np.random.normal(m[c_id], np.sqrt(s[c_id]), (c_size,M))\n",
    "\n",
    "\n",
    "# Number of neighbors\n",
    "K = 200\n",
    "\n",
    "# x-values to evaluate the KNN\n",
    "xe = np.linspace(-10, 10, 100)\n",
    "\n",
    "# Find the k nearest neighbors\n",
    "knn = NearestNeighbors(n_neighbors=K).fit(X)\n",
    "D, i = knn.kneighbors(np.matrix(xe).T)\n",
    "\n",
    "# Compute the density\n",
    "#D, i = knclassifier.kneighbors(np.matrix(xe).T)\n",
    "knn_density = 1./(D.sum(axis=1)/K)\n",
    "\n",
    "# Compute the average relative density\n",
    "DX, iX = knn.kneighbors(X)\n",
    "knn_densityX = 1./(DX[:,1:].sum(axis=1)/K)\n",
    "knn_avg_rel_density = knn_density/(knn_densityX[i[:,1:]].sum(axis=1)/K)\n",
    "\n",
    "\n",
    "# Plot KNN density\n",
    "figure(figsize=(6,7))\n",
    "subplot(2,1,1)\n",
    "hist(X,x)\n",
    "title('Data histogram')\n",
    "subplot(2,1,2)\n",
    "plot(xe, knn_density)\n",
    "title('KNN density')\n",
    "# Plot KNN average relative density\n",
    "figure(figsize=(6,7))\n",
    "subplot(2,1,1)\n",
    "hist(X,x)\n",
    "title('Data histogram')\n",
    "subplot(2,1,2)\n",
    "plot(xe, knn_avg_rel_density)\n",
    "title('KNN average relative density')\n",
    "\n",
    "show()\n"
   ]
  },
  {
   "cell_type": "code",
   "execution_count": 86,
   "metadata": {
    "collapsed": false
   },
   "outputs": [
    {
     "name": "stdout",
     "output_type": "stream",
     "text": [
      "Optimal estimated width is: 0.706865682842\n"
     ]
    },
    {
     "data": {
      "image/png": "[encoded data removed]",
      "text/plain": [
       "<matplotlib.figure.Figure at 0xd6847b8>"
      ]
     },
     "metadata": {},
     "output_type": "display_data"
    },
    {
     "data": {
      "image/png": "[encoded data removed]",
      "text/plain": [
       "<matplotlib.figure.Figure at 0xddc6860>"
      ]
     },
     "metadata": {},
     "output_type": "display_data"
    },
    {
     "data": {
      "image/png": "[encoded data removed]",
      "text/plain": [
       "<matplotlib.figure.Figure at 0xdb0f160>"
      ]
     },
     "metadata": {},
     "output_type": "display_data"
    }
   ],
   "source": [
    "# No restrictions on data\n",
    "\n",
    "### Gausian Kernel density estimator\n",
    "# cross-validate kernel width by leave-one-out-cross-validation\n",
    "# (efficient implementation in gausKernelDensity function)\n",
    "# evaluate for range of kernel widths\n",
    "widths = X.var(axis=0).max() * (2.0**np.arange(-10,3))\n",
    "\n",
    "logP = np.zeros(np.size(widths))\n",
    "for i,w in enumerate(widths):\n",
    "    density, log_density = gausKernelDensity(X,w)\n",
    "    logP[i] = log_density.sum()\n",
    "val = logP.max()\n",
    "ind = logP.argmax()\n",
    "\n",
    "width=widths[ind]\n",
    "print('Optimal estimated width is: {0}'.format(width))\n",
    "\n",
    "# evaluate density for estimated width\n",
    "density, log_density = gausKernelDensity(X,width)\n",
    "\n",
    "# Sort the densities\n",
    "i = (density.argsort(axis=0)).ravel()\n",
    "density = density[i]\n",
    "\n",
    "# Plot density estimate of outlier score\n",
    "figure(1)\n",
    "bar(range(20),density[:20])\n",
    "title('Density estimate')\n",
    "\n",
    "# Plot possible outliers\n",
    "#figure(2)\n",
    "#for k in range(1,21):\n",
    "#    subplot(4,5,k)\n",
    "#    imshow(np.reshape(X[i[k],:], (16,16)).T, cmap=cm.binary)\n",
    "#  xticks([]); yticks([])\n",
    "#    if k==3: title('Gaussian Kernel Density: Possible outliers')\n",
    "\n",
    "\n",
    "\n",
    "### K-neighbors density estimator\n",
    "# Neighbor to use:\n",
    "K = 30\n",
    "\n",
    "# Find the k nearest neighbors\n",
    "knn = NearestNeighbors(n_neighbors=K).fit(X)\n",
    "D, i = knn.kneighbors(X)\n",
    "\n",
    "density = 1./(D.sum(axis=1)/K)\n",
    "\n",
    "# Sort the scores\n",
    "i = density.argsort()\n",
    "density = density[i]\n",
    "\n",
    "# Plot k-neighbor estimate of outlier score (distances)\n",
    "figure(2)\n",
    "bar(range(20),density[:20])\n",
    "title('KNN density: Outlier score')\n",
    "# Plot possible outliers\n",
    "#figure(4)\n",
    "#for k in range(1,21):\n",
    "#    subplot(4,5,k)\n",
    "#    imshow(np.reshape(X[i[k],:], (16,16)).T, cmap=cm.binary)\n",
    "#    xticks([]); yticks([])\n",
    "#    if k==3: title('KNN density: Possible outliers')\n",
    "\n",
    "\n",
    "\n",
    "### K-nearest neigbor average relative density\n",
    "# Compute the average relative density\n",
    "\n",
    "knn = NearestNeighbors(n_neighbors=K).fit(X)\n",
    "D, i = knn.kneighbors(X)\n",
    "density = 1./(D.sum(axis=1)/K)\n",
    "avg_rel_density = density/(density[i[:,1:]].sum(axis=1)/K)\n",
    "\n",
    "# Sort the avg.rel.densities\n",
    "i_avg_rel = avg_rel_density.argsort()\n",
    "avg_rel_density = avg_rel_density[i_avg_rel]\n",
    "\n",
    "# Plot k-neighbor estimate of outlier score (distances)\n",
    "figure(3)\n",
    "bar(range(20),avg_rel_density[:20])\n",
    "title('KNN average relative density: Outlier score')\n",
    "# Plot possible outliers\n",
    "#figure(6)\n",
    "#for k in range(1,21):\n",
    "#    subplot(4,5,k)\n",
    "#    imshow(np.reshape(X[i_avg_rel[k],:], (16,16)).T, cmap=cm.binary)\n",
    "#    xticks([]); yticks([])\n",
    "#    if k==3: title('KNN average relative density: Possible outliers')\n",
    "\n",
    "\n",
    "\n",
    "### Distance to 5'th nearest neighbor outlier score\n",
    "K = 5\n",
    "\n",
    "# Find the k nearest neighbors\n",
    "knn = NearestNeighbors(n_neighbors=K).fit(X)\n",
    "D, i = knn.kneighbors(X)\n",
    "\n",
    "# Outlier score\n",
    "score = D[:,K-1]\n",
    "# Sort the scores\n",
    "i = score.argsort()\n",
    "score = score[i[::-1]]\n"
   ]
  },
  {
   "cell_type": "code",
   "execution_count": 88,
   "metadata": {
    "collapsed": false
   },
   "outputs": [],
   "source": [
    "new2 = sorted(i[:30])\n",
    "new3 =  sorted(i_avg_rel[:30])"
   ]
  },
  {
   "cell_type": "code",
   "execution_count": 95,
   "metadata": {
    "collapsed": false
   },
   "outputs": [
    {
     "data": {
      "text/plain": [
       "set()"
      ]
     },
     "execution_count": 95,
     "metadata": {},
     "output_type": "execute_result"
    }
   ],
   "source": [
    "set(new3) & set(new2)"
   ]
  },
  {
   "cell_type": "markdown",
   "metadata": {},
   "source": [
    "#### new"
   ]
  },
  {
   "cell_type": "markdown",
   "metadata": {},
   "source": [
    "##### Association Mining"
   ]
  },
  {
   "cell_type": "code",
   "execution_count": 20,
   "metadata": {
    "collapsed": true
   },
   "outputs": [],
   "source": [
    "import sklearn.preprocessing as pr\n",
    "Xx = pr.binarize(X)\n",
    "Xx = np.mat(Xx)\n",
    "#WriteAprioriFile(Xx,titles = classLabels)"
   ]
  },
  {
   "cell_type": "code",
   "execution_count": 55,
   "metadata": {
    "collapsed": false
   },
   "outputs": [],
   "source": [
    "# MAKE DATA READY FOR APRIORI\n",
    "temp = \"\"\n",
    "for i in range(0,len(Xx)):\n",
    "    for j in range(0,9):\n",
    "        temp = temp + str(int(Xx[i,j])) + \" \"\n",
    "    temp = temp.strip() + \"; \"\n",
    "\n",
    "titles = [u'sbp', u'tobacco', u'ldl', u'adiposity', u'famhist', u'typea', u'alcohol', u'age', u'chd']\n",
    "WriteAprioriFile(np.mat(temp[:-2]),titles=titles,filename=\"AprioriForProject2.txt\")"
   ]
  },
  {
   "cell_type": "markdown",
   "metadata": {},
   "source": [
    "### Run Apriori algorithm"
   ]
  },
  {
   "cell_type": "code",
   "execution_count": 2,
   "metadata": {
    "collapsed": false
   },
   "outputs": [
    {
     "name": "stdout",
     "output_type": "stream",
     "text": [
      "Mining for frequent itemsets by the Apriori algorithm\n",
      "Mining for associations by the Apriori algorithm\n",
      "Apriori analysis done, extracting results\n",
      "\n",
      "\n",
      "RESULTS:\n",
      "\n",
      "Frequent itemsets:\n",
      "Item: tobacco[Sup. 39]\n",
      "Item: famhist adiposity[Sup. 28]\n",
      "Item: sbp[Sup. 38]\n",
      "Item: tobacco adiposity[Sup. 27]\n",
      "Item: famhist age[Sup. 27]\n",
      "Item: sbp age[Sup. 27]\n",
      "Item: chd age[Sup. 26]\n",
      "Item: typea adiposity[Sup. 26]\n",
      "Item: sbp adiposity[Sup. 26]\n",
      "Item: ldl age adiposity[Sup. 25]\n",
      "Item: chd[Sup. 35]\n",
      "Item: adiposity[Sup. 55]\n",
      "Item: age[Sup. 55]\n",
      "Item: ldl adiposity[Sup. 34]\n",
      "Item: ldl[Sup. 44]\n",
      "Item: tobacco age adiposity[Sup. 24]\n",
      "Item: chd adiposity[Sup. 24]\n",
      "Item: typea age[Sup. 24]\n",
      "Item: alcohol[Sup. 33]\n",
      "Item: ldl typea[Sup. 23]\n",
      "Item: sbp age adiposity[Sup. 22]\n",
      "Item: typea[Sup. 51]\n",
      "Item: ldl famhist[Sup. 21]\n",
      "Item: sbp famhist[Sup. 21]\n",
      "Item: tobacco ldl[Sup. 21]\n",
      "Item: tobacco age[Sup. 31]\n",
      "Item: age adiposity[Sup. 41]\n",
      "Item: typea famhist[Sup. 30]\n",
      "Item: sbp ldl[Sup. 20]\n",
      "Item: famhist[Sup. 60]\n",
      "Item: chd ldl[Sup. 20]\n",
      "Item: alcohol adiposity[Sup. 20]\n",
      "Item: ldl age[Sup. 30]\n",
      "\n",
      "\n",
      "Association rules:\n",
      "Rule: age <- sbp ldl[Conf. 79,Sup. 16]\n",
      "Rule: age <- tobacco ldl[Conf. 87,Sup. 18]\n",
      "Rule: adiposity <- ldl[Conf. 77,Sup. 34]\n",
      "Rule: age <- tobacco adiposity[Conf. 87,Sup. 24]\n",
      "Rule: age <- alcohol adiposity[Conf. 76,Sup. 15]\n",
      "Rule: adiposity <- age[Conf. 75,Sup. 41]\n",
      "Rule: age <- adiposity[Conf. 75,Sup. 41]\n",
      "Rule: adiposity <- chd ldl[Conf. 85,Sup. 17]\n",
      "Rule: adiposity <- chd age[Conf. 75,Sup. 20]\n",
      "Rule: age <- chd[Conf. 75,Sup. 26]\n",
      "Rule: adiposity <- tobacco age[Conf. 75,Sup. 24]\n",
      "Rule: adiposity <- ldl typea[Conf. 75,Sup. 17]\n",
      "Rule: adiposity <- ldl age[Conf. 85,Sup. 25]\n",
      "Rule: age <- ldl adiposity[Conf. 75,Sup. 25]\n",
      "Rule: adiposity <- tobacco ldl[Conf. 84,Sup. 17]\n",
      "Rule: age <- sbp adiposity[Conf. 83,Sup. 22]\n",
      "Rule: adiposity <- ldl famhist[Conf. 73,Sup. 15]\n",
      "Rule: adiposity <- famhist age[Conf. 73,Sup. 19]\n",
      "Rule: adiposity <- typea age[Conf. 72,Sup. 17]\n",
      "Rule: age <- chd adiposity[Conf. 82,Sup. 20]\n",
      "Rule: age <- sbp[Conf. 72,Sup. 27]\n",
      "Rule: age <- chd ldl[Conf. 81,Sup. 16]\n",
      "Rule: adiposity <- sbp age[Conf. 80,Sup. 22]\n",
      "Rule: adiposity <- sbp ldl[Conf. 80,Sup. 16]\n",
      "Rule: ldl <- chd adiposity[Conf. 70,Sup. 17]\n",
      "Rule: age <- tobacco[Conf. 80,Sup. 31]\n"
     ]
    }
   ],
   "source": [
    "from subprocess import call\n",
    "import re\n",
    "import numpy as np\n",
    "import os\n",
    "\n",
    "filename = 'Data\\AprioriForProject2.txt'\n",
    "minSup = 20\n",
    "minConf = 70\n",
    "maxRule = 5\n",
    "\n",
    "# Run Apriori Algorithm\n",
    "print('Mining for frequent itemsets by the Apriori algorithm')\n",
    "status1 = call('Tools/apriori.exe -f\",\" -s{0} -v\"[Sup. %S]\" {1} apriori_temp1.txt'.format(minSup, filename))\n",
    "if status1!=0:\n",
    "    print('An error occured while calling apriori, a likely cause is that minSup was set to high such that no frequent itemsets were generated or spaces are included in the path to the apriori files.')\n",
    "    exit()\n",
    "if minConf>0:\n",
    "    print('Mining for associations by the Apriori algorithm')\n",
    "    status2 = call('Tools/apriori.exe -tr -f\",\" -n{0} -c{1} -s{2} -v\"[Conf. %C,Sup. %S]\" {3} apriori_temp2.txt'.format(maxRule, minConf, minSup, filename))\n",
    "    if status2!=0:\n",
    "        print('An error occured while calling apriori')\n",
    "        exit()\n",
    "print('Apriori analysis done, extracting results')\n",
    "\n",
    "\n",
    "# Extract information from stored files apriori_temp1.txt and apriori_temp2.txt\n",
    "f = open('apriori_temp1.txt','r')\n",
    "lines = f.readlines()\n",
    "f.close()\n",
    "# Extract Frequent Itemsets\n",
    "FrequentItemsets = ['']*len(lines)\n",
    "sup = np.zeros((len(lines),1))\n",
    "for i,line in enumerate(lines):\n",
    "    FrequentItemsets[i] = line[0:-1]\n",
    "    sup[i] = re.findall(' [-+]?\\d*\\.\\d+|\\d+]', line)[0][1:-1]\n",
    "os.remove('apriori_temp1.txt')\n",
    "    \n",
    "# Read the file\n",
    "f = open('apriori_temp2.txt','r')\n",
    "lines = f.readlines()\n",
    "f.close()\n",
    "# Extract Association rules\n",
    "AssocRules = ['']*len(lines)\n",
    "conf = np.zeros((len(lines),1))\n",
    "for i,line in enumerate(lines):\n",
    "    AssocRules[i] = line[0:-1]\n",
    "    conf[i] = re.findall(' [-+]?\\d*\\.\\d+|\\d+,', line)[0][1:-1]\n",
    "os.remove('apriori_temp2.txt')    \n",
    "\n",
    "# sort (FrequentItemsets by support value, AssocRules by confidence value)\n",
    "AssocRulesSorted = [AssocRules[item] for item in np.argsort(conf,axis=0).ravel()]\n",
    "AssocRulesSorted.reverse()\n",
    "FrequentItemsetsSorted = [FrequentItemsets[item] for item in np.argsort(sup,axis=0).ravel()]\n",
    "FrequentItemsetsSorted.reverse()\n",
    "    \n",
    "# Print the results\n",
    "import time; time.sleep(.5)    \n",
    "print('\\n')\n",
    "print('RESULTS:\\n')\n",
    "print('Frequent itemsets:')\n",
    "for i,item in enumerate(FrequentItemsetsSorted):\n",
    "    print('Item: {0}'.format(item))\n",
    "print('\\n')\n",
    "print('Association rules:')\n",
    "for i,item in enumerate(AssocRulesSorted):\n",
    "    print('Rule: {0}'.format(item))\n",
    "\n",
    "\n"
   ]
  },
  {
   "cell_type": "code",
   "execution_count": null,
   "metadata": {
    "collapsed": true
   },
   "outputs": [],
   "source": []
  }
 ],
 "metadata": {
  "anaconda-cloud": {},
  "kernelspec": {
   "display_name": "Python [Root]",
   "language": "python",
   "name": "Python [Root]"
  },
  "language_info": {
   "codemirror_mode": {
    "name": "ipython",
    "version": 2
   },
   "file_extension": ".py",
   "mimetype": "text/x-python",
   "name": "python",
   "nbconvert_exporter": "python",
   "pygments_lexer": "ipython2",
   "version": "2.7.12"
  }
 },
 "nbformat": 4,
 "nbformat_minor": 0
}
