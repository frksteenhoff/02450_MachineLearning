{
 "cells": [
  {
   "cell_type": "markdown",
   "metadata": {},
   "source": [
    "# 02450 - Week 1"
   ]
  },
  {
   "cell_type": "markdown",
   "metadata": {
    "collapsed": true
   },
   "source": [
    "No work was needed this week, I added some matrix calculation as brush-up material."
   ]
  },
  {
   "cell_type": "markdown",
   "metadata": {},
   "source": [
    "## Notes, theory and working examples"
   ]
  },
  {
   "cell_type": "markdown",
   "metadata": {},
   "source": []
  },
  {
   "cell_type": "code",
   "execution_count": null,
   "metadata": {
    "collapsed": true
   },
   "outputs": [],
   "source": []
  },
  {
   "cell_type": "markdown",
   "metadata": {},
   "source": [
    "## Exercises"
   ]
  },
  {
   "cell_type": "code",
   "execution_count": 3,
   "metadata": {
    "collapsed": true
   },
   "outputs": [],
   "source": [
    "from matplotlib.pyplot import *\n",
    "import numpy as np\n",
    "from scipy.io import loadmat"
   ]
  },
  {
   "cell_type": "code",
   "execution_count": 4,
   "metadata": {
    "collapsed": false
   },
   "outputs": [
    {
     "data": {
      "text/plain": [
       "array([[ 0.88263688,  0.        ],\n",
       "       [ 0.        ,  0.48577913]])"
      ]
     },
     "execution_count": 4,
     "metadata": {},
     "output_type": "execute_result"
    }
   ],
   "source": [
    "# multiply arrays\n",
    "a = np.random.rand(2,2)\n",
    "b = np.array([[2, 0], [0, 2]])\n",
    "a*b"
   ]
  },
  {
   "cell_type": "code",
   "execution_count": 8,
   "metadata": {
    "collapsed": false
   },
   "outputs": [
    {
     "data": {
      "text/plain": [
       "matrix([[ 0.88263688,  0.72336957],\n",
       "        [ 1.50672073,  0.48577913]])"
      ]
     },
     "execution_count": 8,
     "metadata": {},
     "output_type": "execute_result"
    }
   ],
   "source": [
    "# convert to matrices and multiply\n",
    "a = np.asmatrix(a)\n",
    "b = np.asmatrix(b)\n",
    "a*b"
   ]
  },
  {
   "cell_type": "markdown",
   "metadata": {},
   "source": [
    "Different ways to multiply a matrix, remember the distinction between matrix multiplication and element wise multiplication."
   ]
  },
  {
   "cell_type": "markdown",
   "metadata": {},
   "source": [
    "**Proper matrix multiplication**\n",
    "\n",
    "$$\\begin{bmatrix}\n",
    "       0.4413 & 0.3616 \\\\[0.3em]\n",
    "       0.7533 & 0.2428 \\\\[0.3em] \n",
    "  \\end{bmatrix}\n",
    "     \\times\n",
    "  \\begin{bmatrix}\n",
    "       2 & 0 \\\\[0.3em]\n",
    "       0 & 2 \\\\[0.3em] \n",
    "  \\end{bmatrix}\n",
    "     \\Rightarrow\n",
    "  \\begin{bmatrix}\n",
    "       0.4413\\cdot 2+0.3616\\cdot 0 & 0.4413\\cdot 0+0.3616\\cdot 2 \\\\[0.3em]\n",
    "       0.7533\\cdot 2+0.2428\\cdot 0 & 07533\\cdot 0+ 0.2448\\cdot 2 \\\\[0.3em] \n",
    "  \\end{bmatrix}\n",
    "     $$"
   ]
  },
  {
   "cell_type": "code",
   "execution_count": 9,
   "metadata": {
    "collapsed": false
   },
   "outputs": [
    {
     "data": {
      "text/plain": [
       "matrix([[ 0.88263688,  0.72336957],\n",
       "        [ 1.50672073,  0.48577913]])"
      ]
     },
     "execution_count": 9,
     "metadata": {},
     "output_type": "execute_result"
    }
   ],
   "source": [
    "np.dot(a,b) # matrix multiplication"
   ]
  },
  {
   "cell_type": "markdown",
   "metadata": {},
   "source": [
    "**Element-wise multiplication**\n",
    "$$\\begin{bmatrix}\n",
    "       0.4413 & 0.3616 \\\\[0.3em]\n",
    "       0.7533 & 0.2428 \\\\[0.3em] \n",
    "  \\end{bmatrix}\n",
    "     \\times\n",
    "  \\begin{bmatrix}\n",
    "       2 & 0 \\\\[0.3em]\n",
    "       0 & 2 \\\\[0.3em] \n",
    "  \\end{bmatrix}\n",
    "     \\Rightarrow\n",
    "  \\begin{bmatrix}\n",
    "       2\\cdot 0.4413 & 0\\cdot 0.3616 \\\\[0.3em]\n",
    "       0\\cdot 0.7533 & 2\\cdot 0.2448 \\\\[0.3em] \n",
    "  \\end{bmatrix}\n",
    "     $$"
   ]
  },
  {
   "cell_type": "code",
   "execution_count": 10,
   "metadata": {
    "collapsed": false
   },
   "outputs": [
    {
     "data": {
      "text/plain": [
       "matrix([[ 0.88263688,  0.        ],\n",
       "        [ 0.        ,  0.48577913]])"
      ]
     },
     "execution_count": 10,
     "metadata": {},
     "output_type": "execute_result"
    }
   ],
   "source": [
    "np.multiply(a,b) # element-wise multiplication x_i*j_i"
   ]
  },
  {
   "cell_type": "code",
   "execution_count": null,
   "metadata": {
    "collapsed": false
   },
   "outputs": [],
   "source": []
  },
  {
   "cell_type": "code",
   "execution_count": null,
   "metadata": {
    "collapsed": false
   },
   "outputs": [],
   "source": []
  },
  {
   "cell_type": "code",
   "execution_count": null,
   "metadata": {
    "collapsed": true
   },
   "outputs": [],
   "source": []
  }
 ],
 "metadata": {
  "anaconda-cloud": {},
  "kernelspec": {
   "display_name": "Python [Root]",
   "language": "python",
   "name": "Python [Root]"
  },
  "language_info": {
   "codemirror_mode": {
    "name": "ipython",
    "version": 2
   },
   "file_extension": ".py",
   "mimetype": "text/x-python",
   "name": "python",
   "nbconvert_exporter": "python",
   "pygments_lexer": "ipython2",
   "version": "2.7.12"
  }
 },
 "nbformat": 4,
 "nbformat_minor": 0
}
