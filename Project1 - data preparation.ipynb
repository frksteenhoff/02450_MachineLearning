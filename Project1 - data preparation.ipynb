{
 "cells": [
  {
   "cell_type": "markdown",
   "metadata": {},
   "source": [
    "# Project1 - getting to know the data\n",
    "\n",
    "## Information from website\n",
    ">A retrospective sample of males in a heart-disease high-risk region\n",
    "of the Western Cape, South Africa. There are roughly two controls per\n",
    "case of CHD. Many of the CHD positive men have undergone blood\n",
    "pressure reduction treatment and other programs to reduce their risk\n",
    "factors after their CHD event. In some cases the measurements were\n",
    "made after these treatments. These data are taken from a larger\n",
    "dataset, described in  Rousseauw et al, 1983, South African Medical\n",
    "Journal. \n",
    "\n",
    "**sbp**\t\t    systolic blood pressure \n",
    "* The highest pressure when your heart beats and pushes the blood round your body\n",
    "\n",
    "**tobacco**\t\tcumulative tobacco (kg)\n",
    "\n",
    "**ldl**  \t\tlow densiity lipoprotein cholesterol \n",
    "* Lipoproteins transfer lipids (fats) around the body in the extracellular fluid thereby facilitating fats to be available and taken up by the cells body wide via receptor-mediated endocytosis.\n",
    "\n",
    "**adiposity**   (fedme)\n",
    "The body adiposity index (BAI) is a method of measuring the **amount of body fat in humans**. The BAI is **calculated without using body weight**, unlike the body mass index (BMI). Instead, it uses the size of the hips compared to the person's height.\n",
    "Based on population studies, the **BAI is approximately equal to the percentage of body fat for adult men and women of differing ethnicities**.[1]\n",
    "\n",
    "**famhist**\t\tfamily history of heart disease (Present, Absent)\n",
    "\n",
    "**typea**\t\ttype-A behavior\n",
    "* Type A and Type B personality theory describes two contrasting personality types. In this theory, personalities that are more competitive, outgoing, ambitious, impatient and/or aggressive are labeled Type A, while more relaxed personalities are labeled Type B.\n",
    "* The two cardiologists who developed this theory came to believe that Type A personalities had a greater chance of developing coronary heart disease. Following the results of further studies and considerable controversy about the role of the tobacco industry funding of early research in this area, some reject, either partially or completely, the link between Type A personality and coronary disease. Nevertheless, this research had a significant effect on the development of the health psychology field, in which psychologists look at how an individual's mental state affects their physical health\n",
    "\n",
    "**obesity**\n",
    "* BMI-measure?\n",
    "\n",
    "**alcohol**\t\tcurrent alcohol consumption\n",
    "\n",
    "**age**\t\t    age at onset\n",
    "\n",
    "**chd**\t\t    response, coronary heart disease\n",
    "\n",
    "\n",
    "## Preparation of data "
   ]
  },
  {
   "cell_type": "code",
   "execution_count": 18,
   "metadata": {
    "collapsed": true
   },
   "outputs": [],
   "source": [
    "# Getting relevant packages\n",
    "import pandas as pd\n",
    "import matplotlib.pyplot as plt\n",
    "%matplotlib inline\n",
    "import urllib2\n",
    "from collections import Counter \n",
    "import numpy as np\n",
    "from operator import itemgetter\n",
    "from scipy import linalg\n",
    "import geoplotlib as gpl"
   ]
  },
  {
   "cell_type": "code",
   "execution_count": 19,
   "metadata": {
    "collapsed": false
   },
   "outputs": [],
   "source": [
    "# Reading the data into python from webpage using pandas\n",
    "disease_data = pd.read_csv('SAheart.csv')\n",
    "# Remove redundant column with \"row names\"\n",
    "disease_data.drop(disease_data.columns[[0]], axis=1, inplace=True)"
   ]
  },
  {
   "cell_type": "code",
   "execution_count": 20,
   "metadata": {
    "collapsed": false
   },
   "outputs": [],
   "source": [
    "import io\n",
    "import requests\n",
    "url    = \"https://statweb.stanford.edu/~tibs/ElemStatLearn/datasets/SAheart.data\"\n",
    "source = requests.get(url).content\n",
    "data   = pd.read_csv(io.StringIO(source.decode('utf-8')))\n",
    "\n",
    "# Remove redundant column with \"row names\"\n",
    "#data.drop(data.columns[[0]], axis=1, inplace=True)"
   ]
  },
  {
   "cell_type": "code",
   "execution_count": 44,
   "metadata": {
    "collapsed": false
   },
   "outputs": [
    {
     "name": "stdout",
     "output_type": "stream",
     "text": [
      "147.19\n",
      "0.0\n"
     ]
    }
   ],
   "source": [
    "print max(data.alcohol)\n",
    "print min(data.alcohol)"
   ]
  },
  {
   "cell_type": "code",
   "execution_count": 25,
   "metadata": {
    "collapsed": false
   },
   "outputs": [
    {
     "data": {
      "text/plain": [
       "Index([u'row.names', u'sbp', u'tobacco', u'ldl', u'adiposity', u'famhist',\n",
       "       u'typea', u'obesity', u'alcohol', u'age', u'chd'],\n",
       "      dtype='object')"
      ]
     },
     "execution_count": 25,
     "metadata": {},
     "output_type": "execute_result"
    }
   ],
   "source": [
    "data.columns"
   ]
  },
  {
   "cell_type": "markdown",
   "metadata": {},
   "source": [
    "### Reading directly from url into pandas dataframe"
   ]
  },
  {
   "cell_type": "code",
   "execution_count": 17,
   "metadata": {
    "collapsed": false
   },
   "outputs": [
    {
     "data": {
      "text/plain": [
       "147.19"
      ]
     },
     "execution_count": 17,
     "metadata": {},
     "output_type": "execute_result"
    }
   ],
   "source": [
    "al= data.iloc[:,8].values\n",
    "max(al)"
   ]
  },
  {
   "cell_type": "code",
   "execution_count": 15,
   "metadata": {
    "collapsed": false
   },
   "outputs": [
    {
     "data": {
      "text/plain": [
       "14.699999999999999"
      ]
     },
     "execution_count": 15,
     "metadata": {},
     "output_type": "execute_result"
    }
   ],
   "source": [
    "min(ob)"
   ]
  },
  {
   "cell_type": "code",
   "execution_count": null,
   "metadata": {
    "collapsed": true
   },
   "outputs": [],
   "source": []
  }
 ],
 "metadata": {
  "kernelspec": {
   "display_name": "Python [Root]",
   "language": "python",
   "name": "Python [Root]"
  },
  "language_info": {
   "codemirror_mode": {
    "name": "ipython",
    "version": 2
   },
   "file_extension": ".py",
   "mimetype": "text/x-python",
   "name": "python",
   "nbconvert_exporter": "python",
   "pygments_lexer": "ipython2",
   "version": "2.7.12"
  }
 },
 "nbformat": 4,
 "nbformat_minor": 0
}
